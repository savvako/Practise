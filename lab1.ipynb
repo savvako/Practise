{
 "cells": [
  {
   "cell_type": "markdown",
   "id": "03e8eeda",
   "metadata": {},
   "source": [
    "# 100 numpy exercises"
   ]
  },
  {
   "cell_type": "markdown",
   "id": "70ce472e",
   "metadata": {},
   "source": [
    "This is a collection of exercises that have been collected in the numpy mailing list, on stack overflow and in the numpy documentation. The goal of this collection is to offer a quick reference for both old and new users but also to provide a set of exercises for those who teach."
   ]
  },
  {
   "cell_type": "markdown",
   "id": "00586da3",
   "metadata": {},
   "source": [
    "1. Import the numpy package under the name np (★☆☆)"
   ]
  },
  {
   "cell_type": "code",
   "execution_count": 2,
   "id": "233b14af",
   "metadata": {},
   "outputs": [],
   "source": [
    "import numpy as np"
   ]
  },
  {
   "cell_type": "markdown",
   "id": "daf03394",
   "metadata": {},
   "source": [
    "2. Print the numpy version and the configuration (★☆☆)"
   ]
  },
  {
   "cell_type": "code",
   "execution_count": 2,
   "id": "bbc6a4af",
   "metadata": {},
   "outputs": [
    {
     "name": "stdout",
     "output_type": "stream",
     "text": [
      "1.21.5\n",
      "blas_mkl_info:\n",
      "    libraries = ['mkl_rt']\n",
      "    library_dirs = ['C:/Users/Public/anaconda3\\\\Library\\\\lib']\n",
      "    define_macros = [('SCIPY_MKL_H', None), ('HAVE_CBLAS', None)]\n",
      "    include_dirs = ['C:/Users/Public/anaconda3\\\\Library\\\\include']\n",
      "blas_opt_info:\n",
      "    libraries = ['mkl_rt']\n",
      "    library_dirs = ['C:/Users/Public/anaconda3\\\\Library\\\\lib']\n",
      "    define_macros = [('SCIPY_MKL_H', None), ('HAVE_CBLAS', None)]\n",
      "    include_dirs = ['C:/Users/Public/anaconda3\\\\Library\\\\include']\n",
      "lapack_mkl_info:\n",
      "    libraries = ['mkl_rt']\n",
      "    library_dirs = ['C:/Users/Public/anaconda3\\\\Library\\\\lib']\n",
      "    define_macros = [('SCIPY_MKL_H', None), ('HAVE_CBLAS', None)]\n",
      "    include_dirs = ['C:/Users/Public/anaconda3\\\\Library\\\\include']\n",
      "lapack_opt_info:\n",
      "    libraries = ['mkl_rt']\n",
      "    library_dirs = ['C:/Users/Public/anaconda3\\\\Library\\\\lib']\n",
      "    define_macros = [('SCIPY_MKL_H', None), ('HAVE_CBLAS', None)]\n",
      "    include_dirs = ['C:/Users/Public/anaconda3\\\\Library\\\\include']\n",
      "Supported SIMD extensions in this NumPy install:\n",
      "    baseline = SSE,SSE2,SSE3\n",
      "    found = SSSE3,SSE41,POPCNT,SSE42,AVX,F16C,FMA3,AVX2\n",
      "    not found = AVX512F,AVX512CD,AVX512_SKX,AVX512_CLX,AVX512_CNL\n"
     ]
    }
   ],
   "source": [
    "print(np.__version__)\n",
    "np.show_config()"
   ]
  },
  {
   "cell_type": "markdown",
   "id": "91a07614",
   "metadata": {},
   "source": [
    "3. Create a null vector of size 10 (★☆☆)"
   ]
  },
  {
   "cell_type": "code",
   "execution_count": 4,
   "id": "40c0b1e2",
   "metadata": {},
   "outputs": [
    {
     "name": "stdout",
     "output_type": "stream",
     "text": [
      "[0. 0. 0. 0. 0. 0. 0. 0. 0. 0.]\n"
     ]
    }
   ],
   "source": [
    "a = np.zeros(10)\n",
    "print(a)"
   ]
  },
  {
   "cell_type": "markdown",
   "id": "ac9f57c4",
   "metadata": {},
   "source": [
    "4. How to find the memory size of any array (★☆☆)"
   ]
  },
  {
   "cell_type": "code",
   "execution_count": 5,
   "id": "4dfff837",
   "metadata": {},
   "outputs": [
    {
     "name": "stdout",
     "output_type": "stream",
     "text": [
      "Memory size of array:  800  bytes\n"
     ]
    }
   ],
   "source": [
    "arr = np.zeros((10, 10))\n",
    "\n",
    "# get the memory size of the array\n",
    "mem_size = arr.nbytes\n",
    "\n",
    "print(\"Memory size of array: \", mem_size, \" bytes\")"
   ]
  },
  {
   "cell_type": "markdown",
   "id": "e65bccc3",
   "metadata": {},
   "source": [
    "5. How to get the documentation of the numpy add function from the command line? (★☆☆)"
   ]
  },
  {
   "cell_type": "code",
   "execution_count": null,
   "id": "f10c53aa",
   "metadata": {},
   "outputs": [],
   "source": [
    "python -c \"import numpy; numpy.info(numpy.add)\""
   ]
  },
  {
   "cell_type": "markdown",
   "id": "13138c6b",
   "metadata": {},
   "source": [
    "6. Create a null vector of size 10 but the fifth value which is 1 (★☆☆)"
   ]
  },
  {
   "cell_type": "code",
   "execution_count": 7,
   "id": "077d2dcd",
   "metadata": {},
   "outputs": [
    {
     "name": "stdout",
     "output_type": "stream",
     "text": [
      "[0. 0. 0. 0. 1. 0. 0. 0. 0. 0.]\n"
     ]
    }
   ],
   "source": [
    "a = np.zeros(10)\n",
    "a[4] = 1\n",
    "print(a)"
   ]
  },
  {
   "cell_type": "markdown",
   "id": "81cedc5b",
   "metadata": {},
   "source": [
    "7. Create a vector with values ranging from 10 to 49 (★☆☆)"
   ]
  },
  {
   "cell_type": "code",
   "execution_count": 9,
   "id": "38cc597c",
   "metadata": {},
   "outputs": [
    {
     "name": "stdout",
     "output_type": "stream",
     "text": [
      "[10. 11. 12. 13. 14. 15. 16. 17. 18. 19. 20. 21. 22. 23. 24. 25. 26. 27.\n",
      " 28. 29. 30. 31. 32. 33. 34. 35. 36. 37. 38. 39. 40. 41. 42. 43. 44. 45.\n",
      " 46. 47. 48. 49.]\n"
     ]
    }
   ],
   "source": [
    "a = np.zeros(40)\n",
    "n = 0\n",
    "for i in range(10, 50):\n",
    "    a[n] = i\n",
    "    n += 1\n",
    "print(a)"
   ]
  },
  {
   "cell_type": "code",
   "execution_count": 11,
   "id": "2d52a743",
   "metadata": {},
   "outputs": [
    {
     "name": "stdout",
     "output_type": "stream",
     "text": [
      "[10 11 12 13 14 15 16 17 18 19 20 21 22 23 24 25 26 27 28 29 30 31 32 33\n",
      " 34 35 36 37 38 39 40 41 42 43 44 45 46 47 48 49]\n"
     ]
    }
   ],
   "source": [
    "a = np.arange(10, 50)\n",
    "print(a)"
   ]
  },
  {
   "cell_type": "markdown",
   "id": "2f73f52f",
   "metadata": {},
   "source": [
    "8. Reverse a vector (first element becomes last) (★☆☆)"
   ]
  },
  {
   "cell_type": "code",
   "execution_count": 14,
   "id": "5540b239",
   "metadata": {},
   "outputs": [
    {
     "name": "stdout",
     "output_type": "stream",
     "text": [
      "[49 48 47 46 45 44 43 42 41 40 39 38 37 36 35 34 33 32 31 30 29 28 27 26\n",
      " 25 24 23 22 21 20 19 18 17 16 15 14 13 12 11 10]\n"
     ]
    }
   ],
   "source": [
    "print(a[::-1])"
   ]
  },
  {
   "cell_type": "markdown",
   "id": "9aaf9447",
   "metadata": {},
   "source": [
    "9. Create a 3x3 matrix with values ranging from 0 to 8 (★☆☆)"
   ]
  },
  {
   "cell_type": "code",
   "execution_count": 16,
   "id": "a6d66543",
   "metadata": {},
   "outputs": [
    {
     "name": "stdout",
     "output_type": "stream",
     "text": [
      "[[0 1 2]\n",
      " [3 4 5]\n",
      " [6 7 8]]\n"
     ]
    }
   ],
   "source": [
    "print(np.arange(9).reshape(3, 3))"
   ]
  },
  {
   "cell_type": "markdown",
   "id": "183c53ff",
   "metadata": {},
   "source": [
    "10. Find indices of non-zero elements from [1,2,0,0,4,0] (★☆☆)"
   ]
  },
  {
   "cell_type": "code",
   "execution_count": 18,
   "id": "9dfd3e5d",
   "metadata": {},
   "outputs": [
    {
     "name": "stdout",
     "output_type": "stream",
     "text": [
      "(array([0, 1, 4], dtype=int64),)\n"
     ]
    }
   ],
   "source": [
    "a = np.nonzero([1,2,0,0,4,0])\n",
    "print(a)"
   ]
  },
  {
   "cell_type": "markdown",
   "id": "bc032cb1",
   "metadata": {},
   "source": [
    "11. Create a 3x3 identity matrix (★☆☆)"
   ]
  },
  {
   "cell_type": "code",
   "execution_count": 24,
   "id": "a87e1980",
   "metadata": {},
   "outputs": [
    {
     "name": "stdout",
     "output_type": "stream",
     "text": [
      "[[1. 0. 0.]\n",
      " [0. 1. 0.]\n",
      " [0. 0. 1.]]\n"
     ]
    }
   ],
   "source": [
    "a = np.eye(3)\n",
    "print(a)"
   ]
  },
  {
   "cell_type": "markdown",
   "id": "a6f27306",
   "metadata": {},
   "source": [
    "12. Create a 3x3x3 array with random values (★☆☆)"
   ]
  },
  {
   "cell_type": "code",
   "execution_count": 25,
   "id": "1b2f1f3c",
   "metadata": {},
   "outputs": [
    {
     "name": "stdout",
     "output_type": "stream",
     "text": [
      "[[[0.50755507 0.0211933  0.43352176]\n",
      "  [0.44631306 0.23881999 0.83024573]\n",
      "  [0.74476418 0.586479   0.49286785]]\n",
      "\n",
      " [[0.48735588 0.2667407  0.6050111 ]\n",
      "  [0.75354372 0.27058423 0.52230328]\n",
      "  [0.09832853 0.71363667 0.88404059]]\n",
      "\n",
      " [[0.56705442 0.99448158 0.17873977]\n",
      "  [0.01220009 0.45699848 0.93175194]\n",
      "  [0.84602469 0.47332988 0.90255503]]]\n"
     ]
    }
   ],
   "source": [
    "a = np.random.random((3,3,3))\n",
    "print(a)"
   ]
  },
  {
   "cell_type": "markdown",
   "id": "1db9d796",
   "metadata": {},
   "source": [
    "13. Create a 10x10 array with random values and find the minimum and maximum values (★☆☆)"
   ]
  },
  {
   "cell_type": "code",
   "execution_count": 29,
   "id": "2ff169fb",
   "metadata": {},
   "outputs": [
    {
     "name": "stdout",
     "output_type": "stream",
     "text": [
      "0.00599789644568971 0.9909549144773288\n"
     ]
    }
   ],
   "source": [
    "a = np.random.random((10, 10))\n",
    "amin, amax = a.min(), a.max()\n",
    "print(amin, amax)"
   ]
  },
  {
   "cell_type": "markdown",
   "id": "14af3ef2",
   "metadata": {},
   "source": [
    "14. Create a random vector of size 30 and find the mean value (★☆☆)"
   ]
  },
  {
   "cell_type": "code",
   "execution_count": 32,
   "id": "a066cfb6",
   "metadata": {},
   "outputs": [
    {
     "name": "stdout",
     "output_type": "stream",
     "text": [
      "0.5445247938052608\n"
     ]
    }
   ],
   "source": [
    "a = np.random.random(30)\n",
    "print(a.mean())"
   ]
  },
  {
   "cell_type": "markdown",
   "id": "fb6aefbb",
   "metadata": {},
   "source": [
    "15. Create a 2d array with 1 on the border and 0 inside (★☆☆)"
   ]
  },
  {
   "cell_type": "code",
   "execution_count": 48,
   "id": "5358af96",
   "metadata": {},
   "outputs": [
    {
     "name": "stdout",
     "output_type": "stream",
     "text": [
      "[[1. 1. 1. 1. 1. 1. 1. 1. 1. 1.]\n",
      " [1. 0. 0. 0. 0. 0. 0. 0. 0. 1.]\n",
      " [1. 0. 0. 0. 0. 0. 0. 0. 0. 1.]\n",
      " [1. 0. 0. 0. 0. 0. 0. 0. 0. 1.]\n",
      " [1. 0. 0. 0. 0. 0. 0. 0. 0. 1.]\n",
      " [1. 0. 0. 0. 0. 0. 0. 0. 0. 1.]\n",
      " [1. 0. 0. 0. 0. 0. 0. 0. 0. 1.]\n",
      " [1. 0. 0. 0. 0. 0. 0. 0. 0. 1.]\n",
      " [1. 0. 0. 0. 0. 0. 0. 0. 0. 1.]\n",
      " [1. 1. 1. 1. 1. 1. 1. 1. 1. 1.]]\n"
     ]
    }
   ],
   "source": [
    "a = np.zeros((10, 10))\n",
    "a[0:, 0] = 1\n",
    "a[0, 0:] = 1\n",
    "a[0:, -1] = 1\n",
    "a[-1, 0:] = 1\n",
    "print(a)"
   ]
  },
  {
   "cell_type": "code",
   "execution_count": 41,
   "id": "f5e3d82f",
   "metadata": {},
   "outputs": [
    {
     "name": "stdout",
     "output_type": "stream",
     "text": [
      "[[1. 1. 1. 1. 1. 1. 1. 1. 1. 1.]\n",
      " [1. 0. 0. 0. 0. 0. 0. 0. 0. 1.]\n",
      " [1. 0. 0. 0. 0. 0. 0. 0. 0. 1.]\n",
      " [1. 0. 0. 0. 0. 0. 0. 0. 0. 1.]\n",
      " [1. 0. 0. 0. 0. 0. 0. 0. 0. 1.]\n",
      " [1. 0. 0. 0. 0. 0. 0. 0. 0. 1.]\n",
      " [1. 0. 0. 0. 0. 0. 0. 0. 0. 1.]\n",
      " [1. 0. 0. 0. 0. 0. 0. 0. 0. 1.]\n",
      " [1. 0. 0. 0. 0. 0. 0. 0. 0. 1.]\n",
      " [1. 1. 1. 1. 1. 1. 1. 1. 1. 1.]]\n"
     ]
    }
   ],
   "source": [
    "a = np.ones((10,10))\n",
    "Z[1:-1,1:-1] = 0\n",
    "print(a)"
   ]
  },
  {
   "cell_type": "markdown",
   "id": "e3d32f6a",
   "metadata": {},
   "source": [
    "16. How to add a border (filled with 0's) around an existing array? (★☆☆)"
   ]
  },
  {
   "cell_type": "code",
   "execution_count": 53,
   "id": "32514264",
   "metadata": {},
   "outputs": [
    {
     "name": "stdout",
     "output_type": "stream",
     "text": [
      "[[0. 0. 0. 0. 0. 0. 0. 0.]\n",
      " [0. 1. 1. 1. 1. 1. 1. 0.]\n",
      " [0. 1. 1. 1. 1. 1. 1. 0.]\n",
      " [0. 1. 1. 1. 1. 1. 1. 0.]\n",
      " [0. 1. 1. 1. 1. 1. 1. 0.]\n",
      " [0. 1. 1. 1. 1. 1. 1. 0.]\n",
      " [0. 1. 1. 1. 1. 1. 1. 0.]\n",
      " [0. 1. 1. 1. 1. 1. 1. 0.]\n",
      " [0. 0. 0. 0. 0. 0. 0. 0.]]\n"
     ]
    }
   ],
   "source": [
    "a = np.ones((7,6))\n",
    "a = np.pad(a, pad_width = 1, mode = 'constant', constant_values = 0)\n",
    "print(a)"
   ]
  },
  {
   "cell_type": "markdown",
   "id": "643e65e2",
   "metadata": {},
   "source": [
    "17. What is the result of the following expression? (★☆☆)\n",
    "0 * np.nan\n",
    "np.nan == np.nan\n",
    "np.inf > np.nan\n",
    "np.nan - np.nan\n",
    "np.nan in set([np.nan])\n",
    "0.3 == 3 * 0.1"
   ]
  },
  {
   "cell_type": "code",
   "execution_count": 56,
   "id": "132e14ea",
   "metadata": {},
   "outputs": [
    {
     "name": "stdout",
     "output_type": "stream",
     "text": [
      "nan\n",
      "False\n",
      "False\n",
      "nan\n",
      "True\n",
      "False\n"
     ]
    }
   ],
   "source": [
    "print(0 * np.nan)\n",
    "print(np.nan == np.nan)\n",
    "print(np.inf > np.nan)\n",
    "print(np.nan - np.nan)\n",
    "print(np.nan in set([np.nan]))\n",
    "print(0.3 == 3 * 0.1)"
   ]
  },
  {
   "cell_type": "markdown",
   "id": "a1d0db4f",
   "metadata": {},
   "source": [
    "18. Create a 5x5 matrix with values 1,2,3,4 just below the diagonal (★☆☆)"
   ]
  },
  {
   "cell_type": "code",
   "execution_count": 63,
   "id": "dc4e7d95",
   "metadata": {},
   "outputs": [
    {
     "name": "stdout",
     "output_type": "stream",
     "text": [
      "[[0 0 0 0 0]\n",
      " [1 0 0 0 0]\n",
      " [0 2 0 0 0]\n",
      " [0 0 3 0 0]\n",
      " [0 0 0 4 0]]\n"
     ]
    }
   ],
   "source": [
    "print(np.diag(1 + np.arange(4),k = -1))"
   ]
  },
  {
   "cell_type": "markdown",
   "id": "e9af5749",
   "metadata": {},
   "source": [
    "19. Create a 8x8 matrix and fill it with a checkerboard pattern (★☆☆)"
   ]
  },
  {
   "cell_type": "code",
   "execution_count": 65,
   "id": "a9aed603",
   "metadata": {},
   "outputs": [
    {
     "name": "stdout",
     "output_type": "stream",
     "text": [
      "[[0. 1. 0. 1. 0. 1. 0. 1.]\n",
      " [1. 0. 1. 0. 1. 0. 1. 0.]\n",
      " [0. 1. 0. 1. 0. 1. 0. 1.]\n",
      " [1. 0. 1. 0. 1. 0. 1. 0.]\n",
      " [0. 1. 0. 1. 0. 1. 0. 1.]\n",
      " [1. 0. 1. 0. 1. 0. 1. 0.]\n",
      " [0. 1. 0. 1. 0. 1. 0. 1.]\n",
      " [1. 0. 1. 0. 1. 0. 1. 0.]]\n"
     ]
    }
   ],
   "source": [
    "a = np.zeros((8, 8))\n",
    "a[1::2, ::2] = 1\n",
    "a[::2, 1::2] = 1\n",
    "print(a)"
   ]
  },
  {
   "cell_type": "markdown",
   "id": "d9cc95a6",
   "metadata": {},
   "source": [
    "20. Consider a (6,7,8) shape array, what is the index (x,y,z) of the 100th element? (★☆☆)"
   ]
  },
  {
   "cell_type": "code",
   "execution_count": 66,
   "id": "90efa061",
   "metadata": {},
   "outputs": [
    {
     "name": "stdout",
     "output_type": "stream",
     "text": [
      "(1, 5, 3)\n"
     ]
    }
   ],
   "source": [
    "print(np.unravel_index(99,(6,7,8)))"
   ]
  },
  {
   "cell_type": "markdown",
   "id": "e086be19",
   "metadata": {},
   "source": [
    "21. Create a checkerboard 8x8 matrix using the tile function (★☆☆)"
   ]
  },
  {
   "cell_type": "code",
   "execution_count": 71,
   "id": "b24faf0c",
   "metadata": {},
   "outputs": [
    {
     "name": "stdout",
     "output_type": "stream",
     "text": [
      "[[1 0 1 0 1 0 1 0]\n",
      " [0 1 0 1 0 1 0 1]\n",
      " [1 0 1 0 1 0 1 0]\n",
      " [0 1 0 1 0 1 0 1]\n",
      " [1 0 1 0 1 0 1 0]\n",
      " [0 1 0 1 0 1 0 1]\n",
      " [1 0 1 0 1 0 1 0]\n",
      " [0 1 0 1 0 1 0 1]]\n"
     ]
    }
   ],
   "source": [
    "tile = np.array([[1, 0], [0, 1]])\n",
    "checkerboard = np.tile(tile, (4, 4))\n",
    "print(checkerboard)"
   ]
  },
  {
   "cell_type": "markdown",
   "id": "4921a4e9",
   "metadata": {},
   "source": [
    "22. Normalize a 5x5 random matrix (★☆☆)"
   ]
  },
  {
   "cell_type": "code",
   "execution_count": 75,
   "id": "f0f8c03b",
   "metadata": {},
   "outputs": [
    {
     "name": "stdout",
     "output_type": "stream",
     "text": [
      "[[ 0.1744628  -1.36532712  0.46683042  1.14491505 -0.92973641]\n",
      " [ 1.09142316 -1.30375683  0.1810126   1.77940734  0.14526889]\n",
      " [-1.11785983 -1.23799159 -1.06177884  0.38356142  1.09987597]\n",
      " [-1.10860716  1.6959368   1.48502865 -1.22108698 -0.23271186]\n",
      " [-0.02568881  0.44768385  0.2498244   0.31563921 -1.05632513]]\n"
     ]
    }
   ],
   "source": [
    "matrix = np.random.rand(5, 5)\n",
    "mean = np.mean(matrix)\n",
    "std = np.std(matrix)\n",
    "\n",
    "normalized_matrix = (matrix - mean) / std\n",
    "\n",
    "print(normalized_matrix)"
   ]
  },
  {
   "cell_type": "markdown",
   "id": "12a761d1",
   "metadata": {},
   "source": [
    "23. Create a custom dtype that describes a color as four unsigned bytes (RGBA) (★☆☆)"
   ]
  },
  {
   "cell_type": "code",
   "execution_count": null,
   "id": "5a3a9a74",
   "metadata": {},
   "outputs": [],
   "source": [
    "dtype_rgba = np.dtype([\n",
    "    ('r', np.uint8),  # red component\n",
    "    ('g', np.uint8),  # green component\n",
    "    ('b', np.uint8),  # blue component\n",
    "    ('a', np.uint8)   # alpha component\n",
    "])"
   ]
  },
  {
   "cell_type": "markdown",
   "id": "ae1da0b9",
   "metadata": {},
   "source": [
    "24. Multiply a 5x3 matrix by a 3x2 matrix (real matrix product) (★☆☆)"
   ]
  },
  {
   "cell_type": "code",
   "execution_count": 78,
   "id": "9e26f5df",
   "metadata": {},
   "outputs": [
    {
     "name": "stdout",
     "output_type": "stream",
     "text": [
      "[[0.30885147 0.42236501]\n",
      " [1.09907952 0.89695926]\n",
      " [0.72080217 0.75668973]\n",
      " [0.57144833 0.30665929]\n",
      " [0.47857025 0.57112572]]\n"
     ]
    }
   ],
   "source": [
    "a = np.random.random((5, 3))\n",
    "b = np.random.random((3, 2))\n",
    "print(np.dot(a, b))"
   ]
  },
  {
   "cell_type": "markdown",
   "id": "1d8e3f5f",
   "metadata": {},
   "source": [
    "25. Given a 1D array, negate all elements which are between 3 and 8, in place. (★☆☆)"
   ]
  },
  {
   "cell_type": "code",
   "execution_count": 82,
   "id": "c5698499",
   "metadata": {},
   "outputs": [
    {
     "name": "stdout",
     "output_type": "stream",
     "text": [
      "[ 0.19600467  0.03872889  0.61586176  0.56463128 -0.10823082 -0.74163319\n",
      " -0.18348203 -0.34864109  0.48048149  0.64392643]\n"
     ]
    }
   ],
   "source": [
    "a = np.random.random(10)\n",
    "a[4:8] = - a[4:8]\n",
    "print(a)"
   ]
  },
  {
   "cell_type": "markdown",
   "id": "7a2abcd1",
   "metadata": {},
   "source": [
    "26. What is the output of the following script? (★☆☆)\n",
    "// Author: Jake VanderPlas\n",
    "\n",
    "print(sum(range(5),-1))\n",
    "from numpy import *\n",
    "print(sum(range(5),-1))"
   ]
  },
  {
   "cell_type": "code",
   "execution_count": 83,
   "id": "78340f8a",
   "metadata": {},
   "outputs": [
    {
     "name": "stdout",
     "output_type": "stream",
     "text": [
      "9\n",
      "10\n"
     ]
    }
   ],
   "source": [
    "print(sum(range(5),-1))\n",
    "from numpy import *\n",
    "print(sum(range(5),-1))"
   ]
  },
  {
   "cell_type": "markdown",
   "id": "f06d1ed2",
   "metadata": {},
   "source": [
    "27. Consider an integer vector Z, which of these expressions are legal? (★☆☆)\n",
    "Z**Z\n",
    "2 << Z >> 2\n",
    "Z <- Z\n",
    "1j*Z\n",
    "Z/1/1\n",
    "Z<Z>Z"
   ]
  },
  {
   "cell_type": "code",
   "execution_count": 84,
   "id": "ca55150c",
   "metadata": {},
   "outputs": [
    {
     "ename": "ValueError",
     "evalue": "The truth value of an array with more than one element is ambiguous. Use a.any() or a.all()",
     "output_type": "error",
     "traceback": [
      "\u001b[1;31m---------------------------------------------------------------------------\u001b[0m",
      "\u001b[1;31mValueError\u001b[0m                                Traceback (most recent call last)",
      "Input \u001b[1;32mIn [84]\u001b[0m, in \u001b[0;36m<cell line: 6>\u001b[1;34m()\u001b[0m\n\u001b[0;32m      4\u001b[0m \u001b[38;5;241m1\u001b[39mj\u001b[38;5;241m*\u001b[39mZ\n\u001b[0;32m      5\u001b[0m Z\u001b[38;5;241m/\u001b[39m\u001b[38;5;241m1\u001b[39m\u001b[38;5;241m/\u001b[39m\u001b[38;5;241m1\u001b[39m\n\u001b[1;32m----> 6\u001b[0m Z\u001b[38;5;241m<\u001b[39mZ\u001b[38;5;241m>\u001b[39mZ\n",
      "\u001b[1;31mValueError\u001b[0m: The truth value of an array with more than one element is ambiguous. Use a.any() or a.all()"
     ]
    }
   ],
   "source": [
    "Z**Z\n",
    "2 << Z >> 2\n",
    "Z <- Z\n",
    "1j*Z\n",
    "Z/1/1\n",
    "Z<Z>Z"
   ]
  },
  {
   "cell_type": "markdown",
   "id": "c28db658",
   "metadata": {},
   "source": [
    "28. What are the result of the following expressions? (★☆☆)\n",
    "np.array(0) / np.array(0)\n",
    "np.array(0) // np.array(0)\n",
    "np.array([np.nan]).astype(int).astype(float)"
   ]
  },
  {
   "cell_type": "code",
   "execution_count": 85,
   "id": "9b2843e2",
   "metadata": {},
   "outputs": [
    {
     "name": "stdout",
     "output_type": "stream",
     "text": [
      "nan\n",
      "0\n",
      "[-2.14748365e+09]\n"
     ]
    },
    {
     "name": "stderr",
     "output_type": "stream",
     "text": [
      "C:\\Users\\Эльза\\AppData\\Local\\Temp\\ipykernel_18152\\3912170336.py:1: RuntimeWarning: invalid value encountered in true_divide\n",
      "  print(np.array(0) / np.array(0))\n",
      "C:\\Users\\Эльза\\AppData\\Local\\Temp\\ipykernel_18152\\3912170336.py:2: RuntimeWarning: divide by zero encountered in floor_divide\n",
      "  print(np.array(0) // np.array(0))\n"
     ]
    }
   ],
   "source": [
    "print(np.array(0) / np.array(0))\n",
    "print(np.array(0) // np.array(0))\n",
    "print(np.array([np.nan]).astype(int).astype(float))"
   ]
  },
  {
   "cell_type": "markdown",
   "id": "f9da52d6",
   "metadata": {},
   "source": [
    "29. How to round away from zero a float array ? (★☆☆)"
   ]
  },
  {
   "cell_type": "code",
   "execution_count": 86,
   "id": "8ae15814",
   "metadata": {},
   "outputs": [
    {
     "name": "stdout",
     "output_type": "stream",
     "text": [
      "[-3. -2. -1.  1.  2.  3.]\n"
     ]
    }
   ],
   "source": [
    "a = np.array([-2.7, -1.5, -0.3, 0.3, 1.5, 2.7])\n",
    "a_rounded = np.copysign(np.ceil(np.abs(a)), a)\n",
    "print(a_rounded)"
   ]
  },
  {
   "cell_type": "markdown",
   "id": "d708b804",
   "metadata": {},
   "source": [
    "30. How to find common values between two arrays? (★☆☆)"
   ]
  },
  {
   "cell_type": "code",
   "execution_count": 93,
   "id": "ec7945a8",
   "metadata": {},
   "outputs": [
    {
     "name": "stdout",
     "output_type": "stream",
     "text": [
      "[1 3]\n"
     ]
    }
   ],
   "source": [
    "print(np.intersect1d([1, 3, 4, 3], [3, 1, 2, 1]))"
   ]
  },
  {
   "cell_type": "markdown",
   "id": "5b865b20",
   "metadata": {},
   "source": [
    "31. How to ignore all numpy warnings (not recommended)? (★☆☆)"
   ]
  },
  {
   "cell_type": "code",
   "execution_count": 95,
   "id": "26fc411d",
   "metadata": {},
   "outputs": [
    {
     "data": {
      "text/plain": [
       "{'divide': 'warn', 'over': 'warn', 'under': 'ignore', 'invalid': 'warn'}"
      ]
     },
     "execution_count": 95,
     "metadata": {},
     "output_type": "execute_result"
    }
   ],
   "source": [
    "np.seterr(all='ignore')"
   ]
  },
  {
   "cell_type": "markdown",
   "id": "22b7fd5c",
   "metadata": {},
   "source": [
    "32. Is the following expressions true? (★☆☆)\n",
    "np.sqrt(-1) == np.emath.sqrt(-1)"
   ]
  },
  {
   "cell_type": "code",
   "execution_count": 96,
   "id": "f4293822",
   "metadata": {},
   "outputs": [
    {
     "name": "stdout",
     "output_type": "stream",
     "text": [
      "False\n"
     ]
    }
   ],
   "source": [
    "print(np.sqrt(-1) == np.emath.sqrt(-1))"
   ]
  },
  {
   "cell_type": "markdown",
   "id": "483337f5",
   "metadata": {},
   "source": [
    "33. How to get the dates of yesterday, today and tomorrow? (★☆☆)"
   ]
  },
  {
   "cell_type": "code",
   "execution_count": 101,
   "id": "c7405607",
   "metadata": {},
   "outputs": [
    {
     "name": "stdout",
     "output_type": "stream",
     "text": [
      "Yesterday's date: 2023-03-25\n",
      "Today's date: 2023-03-26\n",
      "Tomorrow's date: 2023-03-27\n"
     ]
    }
   ],
   "source": [
    "today = np.datetime64('today', 'D')\n",
    "\n",
    "yesterday = today - np.timedelta64(1, 'D')\n",
    "\n",
    "tomorrow = today + np.timedelta64(1, 'D')\n",
    "\n",
    "print(\"Yesterday's date:\", yesterday)\n",
    "print(\"Today's date:\", today)\n",
    "print(\"Tomorrow's date:\", tomorrow)"
   ]
  },
  {
   "cell_type": "markdown",
   "id": "85f07f7c",
   "metadata": {},
   "source": [
    "34. How to get all the dates corresponding to the month of July 2016? (★★☆)"
   ]
  },
  {
   "cell_type": "code",
   "execution_count": 102,
   "id": "0fdef5e1",
   "metadata": {},
   "outputs": [
    {
     "name": "stdout",
     "output_type": "stream",
     "text": [
      "['2016-07-01' '2016-07-02' '2016-07-03' '2016-07-04' '2016-07-05'\n",
      " '2016-07-06' '2016-07-07' '2016-07-08' '2016-07-09' '2016-07-10'\n",
      " '2016-07-11' '2016-07-12' '2016-07-13' '2016-07-14' '2016-07-15'\n",
      " '2016-07-16' '2016-07-17' '2016-07-18' '2016-07-19' '2016-07-20'\n",
      " '2016-07-21' '2016-07-22' '2016-07-23' '2016-07-24' '2016-07-25'\n",
      " '2016-07-26' '2016-07-27' '2016-07-28' '2016-07-29' '2016-07-30'\n",
      " '2016-07-31']\n"
     ]
    }
   ],
   "source": [
    "dates = np.arange(np.datetime64('2016-07-01'), np.datetime64('2016-08-01'), np.timedelta64(1, 'D'))\n",
    "\n",
    "print(dates)"
   ]
  },
  {
   "cell_type": "markdown",
   "id": "d60cb423",
   "metadata": {},
   "source": [
    "35. How to compute ((A+B)*(-A/2)) in place (without copy)? (★★☆)"
   ]
  },
  {
   "cell_type": "code",
   "execution_count": 104,
   "id": "1d288671",
   "metadata": {},
   "outputs": [
    {
     "data": {
      "text/plain": [
       "array([-1.5, -1.5, -1.5])"
      ]
     },
     "execution_count": 104,
     "metadata": {},
     "output_type": "execute_result"
    }
   ],
   "source": [
    "A = np.ones(3)*1\n",
    "B = np.ones(3)*2\n",
    "np.add(A,B,out=B)\n",
    "np.divide(A,2,out=A)\n",
    "np.negative(A,out=A)\n",
    "np.multiply(A,B,out=A)"
   ]
  },
  {
   "cell_type": "markdown",
   "id": "f4f0a481",
   "metadata": {},
   "source": [
    "36. Extract the integer part of a random array of positive numbers using 4 different methods (★★☆)"
   ]
  },
  {
   "cell_type": "code",
   "execution_count": 108,
   "id": "3217b86e",
   "metadata": {},
   "outputs": [
    {
     "name": "stdout",
     "output_type": "stream",
     "text": [
      "[5. 8. 9. 9. 9.]\n",
      "[5. 8. 9. 9. 9.]\n",
      "[5 8 9 9 9]\n",
      "[5. 8. 9. 9. 9.]\n",
      "[5.66541329 8.27417238 9.74933745 9.65224475 9.497026  ]\n"
     ]
    }
   ],
   "source": [
    "a = np.random.rand(5) * 10\n",
    "# Extract the integer part using numpy.floor()\n",
    "int_part1 = np.floor(a)\n",
    "print(int_part1)\n",
    "# Extract the integer part using numpy.trunc()\n",
    "int_part2 = np.trunc(a)\n",
    "print(int_part2)\n",
    "# Extract the integer part using numpy.astype()\n",
    "int_part3 = a.astype(int)\n",
    "print(int_part3)\n",
    "# Extract the integer part using the modulo operator\n",
    "int_part4 = a % 1\n",
    "print(a - int_part4)\n",
    "print(a)"
   ]
  },
  {
   "cell_type": "markdown",
   "id": "d1b26c7c",
   "metadata": {},
   "source": [
    "37. Create a 5x5 matrix with row values ranging from 0 to 4 (★★☆)"
   ]
  },
  {
   "cell_type": "code",
   "execution_count": 110,
   "id": "2346c84a",
   "metadata": {},
   "outputs": [
    {
     "name": "stdout",
     "output_type": "stream",
     "text": [
      "[[0. 1. 2. 3. 4.]\n",
      " [0. 1. 2. 3. 4.]\n",
      " [0. 1. 2. 3. 4.]\n",
      " [0. 1. 2. 3. 4.]\n",
      " [0. 1. 2. 3. 4.]]\n"
     ]
    }
   ],
   "source": [
    "a = np.zeros((5, 5))\n",
    "a += np.arange(5)\n",
    "print(a)"
   ]
  },
  {
   "cell_type": "markdown",
   "id": "a302a019",
   "metadata": {},
   "source": [
    "38. Consider a generator function that generates 10 integers and use it to build an array (★☆☆)"
   ]
  },
  {
   "cell_type": "code",
   "execution_count": 111,
   "id": "76097b58",
   "metadata": {},
   "outputs": [
    {
     "name": "stdout",
     "output_type": "stream",
     "text": [
      "[0 1 2 3 4 5 6 7 8 9]\n"
     ]
    }
   ],
   "source": [
    "def my_generator():\n",
    "    for i in range(10):\n",
    "        yield i\n",
    "a = np.fromiter(my_generator(), dtype=int)\n",
    "\n",
    "print(a)"
   ]
  },
  {
   "cell_type": "markdown",
   "id": "398aa2c7",
   "metadata": {},
   "source": [
    "39. Create a vector of size 10 with values ranging from 0 to 1, both excluded (★★☆)"
   ]
  },
  {
   "cell_type": "code",
   "execution_count": 112,
   "id": "80de6c86",
   "metadata": {},
   "outputs": [
    {
     "name": "stdout",
     "output_type": "stream",
     "text": [
      "[0.         0.11111111 0.22222222 0.33333333 0.44444444 0.55555556\n",
      " 0.66666667 0.77777778 0.88888889 1.        ]\n"
     ]
    }
   ],
   "source": [
    "a = linspace(0, 1, 10)\n",
    "print(a)"
   ]
  },
  {
   "cell_type": "markdown",
   "id": "4aba0238",
   "metadata": {},
   "source": [
    "40. Create a random vector of size 10 and sort it (★★☆)"
   ]
  },
  {
   "cell_type": "code",
   "execution_count": 113,
   "id": "493c62e9",
   "metadata": {},
   "outputs": [
    {
     "name": "stdout",
     "output_type": "stream",
     "text": [
      "[0.09253613 0.155663   0.45538989 0.55178692 0.56429744 0.74043077\n",
      " 0.74585773 0.8037494  0.88969109 0.99595284]\n"
     ]
    }
   ],
   "source": [
    "a = random.random(10)\n",
    "print(np.sort(a))"
   ]
  },
  {
   "cell_type": "markdown",
   "id": "c84d963f",
   "metadata": {},
   "source": [
    "41. How to sum a small array faster than np.sum? (★★☆)"
   ]
  },
  {
   "cell_type": "code",
   "execution_count": 114,
   "id": "7c3c882c",
   "metadata": {},
   "outputs": [
    {
     "name": "stdout",
     "output_type": "stream",
     "text": [
      "15\n"
     ]
    }
   ],
   "source": [
    "a = np.array([1, 2, 3, 4, 5])\n",
    "print(np.add.reduce(a))"
   ]
  },
  {
   "cell_type": "markdown",
   "id": "3ab4b280",
   "metadata": {},
   "source": [
    "42. Consider two random array A and B, check if they are equal (★★☆)"
   ]
  },
  {
   "cell_type": "code",
   "execution_count": 120,
   "id": "ee2bfae4",
   "metadata": {},
   "outputs": [
    {
     "name": "stdout",
     "output_type": "stream",
     "text": [
      "False\n"
     ]
    }
   ],
   "source": [
    "A = np.random.randint(0,2,7)\n",
    "B = np.random.randint(0,2,7)\n",
    "print(np.array_equal(A,B))"
   ]
  },
  {
   "cell_type": "markdown",
   "id": "0f652668",
   "metadata": {},
   "source": [
    "43. Make an array immutable (read-only) (★★☆)"
   ]
  },
  {
   "cell_type": "code",
   "execution_count": null,
   "id": "155013dc",
   "metadata": {},
   "outputs": [],
   "source": [
    "a = np.array([1, 2, 3, 4, 5])\n",
    "a.flags.writeable = False\n",
    "a[0] = 10"
   ]
  },
  {
   "cell_type": "markdown",
   "id": "c909a057",
   "metadata": {},
   "source": [
    "44. Consider a random 10x2 matrix representing cartesian coordinates, convert them to polar coordinates (★★☆)"
   ]
  },
  {
   "cell_type": "code",
   "execution_count": 123,
   "id": "7474bd8b",
   "metadata": {},
   "outputs": [
    {
     "name": "stdout",
     "output_type": "stream",
     "text": [
      "[[0.87033277 1.4698695 ]\n",
      " [0.95906149 1.5277748 ]\n",
      " [0.78548893 1.27713309]\n",
      " [0.56839185 0.78829276]\n",
      " [0.56660348 1.10735749]\n",
      " [0.19318654 0.29996479]\n",
      " [0.80796089 1.09939078]\n",
      " [1.03733778 1.09605638]\n",
      " [0.73825062 1.33826674]\n",
      " [0.87935712 0.14758552]]\n"
     ]
    }
   ],
   "source": [
    "a = np.random.random((10, 2))\n",
    "x, y = a[:, 0], a[:, 1]\n",
    "radius = np.sqrt(x**2 + y**2)\n",
    "angle = np.arctan2(y, x)\n",
    "polar = np.column_stack((radius, angle))\n",
    "print(polar)"
   ]
  },
  {
   "cell_type": "markdown",
   "id": "f626f6c9",
   "metadata": {},
   "source": [
    "45. Create random vector of size 10 and replace the maximum value by 0 (★★☆)"
   ]
  },
  {
   "cell_type": "code",
   "execution_count": 125,
   "id": "5fa58bcc",
   "metadata": {},
   "outputs": [
    {
     "name": "stdout",
     "output_type": "stream",
     "text": [
      "[0.78241662 0.34912161 0.74967785 0.05495339 0.07819822 0.\n",
      " 0.37043805 0.11096244 0.40521602 0.65129878]\n"
     ]
    }
   ],
   "source": [
    "a = np.random.random(10)\n",
    "a[a.argmax()] = 0\n",
    "print(a)"
   ]
  },
  {
   "cell_type": "markdown",
   "id": "18417c83",
   "metadata": {},
   "source": [
    "46. Create a structured array with x and y coordinates covering the [0,1]x[0,1] area (★★☆)"
   ]
  },
  {
   "cell_type": "code",
   "execution_count": 128,
   "id": "0a4d4630",
   "metadata": {},
   "outputs": [
    {
     "name": "stdout",
     "output_type": "stream",
     "text": [
      "[[0.   0.  ]\n",
      " [0.25 0.  ]\n",
      " [0.5  0.  ]\n",
      " [0.75 0.  ]\n",
      " [1.   0.  ]\n",
      " [0.   0.25]\n",
      " [0.25 0.25]\n",
      " [0.5  0.25]\n",
      " [0.75 0.25]\n",
      " [1.   0.25]\n",
      " [0.   0.5 ]\n",
      " [0.25 0.5 ]\n",
      " [0.5  0.5 ]\n",
      " [0.75 0.5 ]\n",
      " [1.   0.5 ]\n",
      " [0.   0.75]\n",
      " [0.25 0.75]\n",
      " [0.5  0.75]\n",
      " [0.75 0.75]\n",
      " [1.   0.75]\n",
      " [0.   1.  ]\n",
      " [0.25 1.  ]\n",
      " [0.5  1.  ]\n",
      " [0.75 1.  ]\n",
      " [1.   1.  ]]\n"
     ]
    }
   ],
   "source": [
    "x = np.linspace(0, 1, 5)\n",
    "y = np.linspace(0, 1, 5)\n",
    "X, Y = np.meshgrid(x, y)\n",
    "coords = np.column_stack((X.ravel(), Y.ravel()))\n",
    "print(coords)"
   ]
  },
  {
   "cell_type": "markdown",
   "id": "d46a82e0",
   "metadata": {},
   "source": [
    "47. Given two arrays, X and Y, construct the Cauchy matrix C (Cij =1/(xi - yj)) (★★☆)"
   ]
  },
  {
   "cell_type": "code",
   "execution_count": 131,
   "id": "0786d9ed",
   "metadata": {},
   "outputs": [
    {
     "name": "stdout",
     "output_type": "stream",
     "text": [
      "[[ 0  0  0]\n",
      " [ 0  0  0]\n",
      " [-1  0  0]]\n"
     ]
    }
   ],
   "source": [
    "X = np.array([1, 2, 3])\n",
    "Y = np.array([4, 5, 6])\n",
    "\n",
    "C = np.reciprocal(np.subtract.outer(X, Y))\n",
    "print(C)"
   ]
  },
  {
   "cell_type": "markdown",
   "id": "5fa32ccf",
   "metadata": {},
   "source": [
    "48. Print the minimum and maximum representable value for each numpy scalar type (★★☆)"
   ]
  },
  {
   "cell_type": "code",
   "execution_count": 132,
   "id": "1f3f66ae",
   "metadata": {},
   "outputs": [
    {
     "name": "stdout",
     "output_type": "stream",
     "text": [
      "<class 'numpy.int8'>: min=-128, max=127\n",
      "<class 'numpy.int16'>: min=-32768, max=32767\n",
      "<class 'numpy.int32'>: min=-2147483648, max=2147483647\n",
      "<class 'numpy.int64'>: min=-9223372036854775808, max=9223372036854775807\n",
      "<class 'numpy.uint8'>: min=0, max=255\n",
      "<class 'numpy.uint16'>: min=0, max=65535\n",
      "<class 'numpy.uint32'>: min=0, max=4294967295\n",
      "<class 'numpy.uint64'>: min=0, max=18446744073709551615\n",
      "<class 'numpy.float16'>: min=-65504.0, max=65504.0\n",
      "<class 'numpy.float32'>: min=-3.4028234663852886e+38, max=3.4028234663852886e+38\n",
      "<class 'numpy.float64'>: min=-1.7976931348623157e+308, max=1.7976931348623157e+308\n",
      "<class 'numpy.complex64'>: min=-3.4028234663852886e+38, max=3.4028234663852886e+38\n",
      "<class 'numpy.complex128'>: min=-1.7976931348623157e+308, max=1.7976931348623157e+308\n"
     ]
    }
   ],
   "source": [
    "for dtype in [np.int8, np.int16, np.int32, np.int64]:\n",
    "    info = np.iinfo(dtype)\n",
    "    print(f'{dtype}: min={info.min}, max={info.max}')\n",
    "    \n",
    "for dtype in [np.uint8, np.uint16, np.uint32, np.uint64]:\n",
    "    info = np.iinfo(dtype)\n",
    "    print(f'{dtype}: min={info.min}, max={info.max}')\n",
    "    \n",
    "for dtype in [np.float16, np.float32, np.float64]:\n",
    "    info = np.finfo(dtype)\n",
    "    print(f'{dtype}: min={info.min}, max={info.max}')\n",
    "    \n",
    "for dtype in [np.complex64, np.complex128]:\n",
    "    info = np.finfo(dtype)\n",
    "    print(f'{dtype}: min={info.min}, max={info.max}')"
   ]
  },
  {
   "cell_type": "markdown",
   "id": "fb29b011",
   "metadata": {},
   "source": [
    "49. How to print all the values of an array? (★★☆)"
   ]
  },
  {
   "cell_type": "code",
   "execution_count": 134,
   "id": "183973d2",
   "metadata": {},
   "outputs": [
    {
     "name": "stdout",
     "output_type": "stream",
     "text": [
      "[[1 2]\n",
      " [3 4]\n",
      " [5 6]]\n"
     ]
    }
   ],
   "source": [
    "a = np.array([[1, 2], [3, 4], [5, 6]])\n",
    "print(a)"
   ]
  },
  {
   "cell_type": "markdown",
   "id": "a1e7eb80",
   "metadata": {},
   "source": [
    "50. How to find the closest value (to a given scalar) in a vector? (★★☆)"
   ]
  },
  {
   "cell_type": "code",
   "execution_count": 138,
   "id": "3176fc16",
   "metadata": {},
   "outputs": [
    {
     "name": "stdout",
     "output_type": "stream",
     "text": [
      "4\n"
     ]
    }
   ],
   "source": [
    "a = np.arange(20)\n",
    "x = 4.443\n",
    "index = np.abs(a - x).argmin()\n",
    "print(a[index])"
   ]
  },
  {
   "cell_type": "markdown",
   "id": "98d333d7",
   "metadata": {},
   "source": [
    "51. Create a structured array representing a position (x,y) and a color (r,g,b) (★★☆)"
   ]
  },
  {
   "cell_type": "code",
   "execution_count": 139,
   "id": "637632f0",
   "metadata": {},
   "outputs": [
    {
     "name": "stdout",
     "output_type": "stream",
     "text": [
      "[((1., 2.), (255,   0,   0)) ((3., 4.), (  0, 255,   0))\n",
      " ((5., 6.), (  0,   0, 255))]\n"
     ]
    }
   ],
   "source": [
    "pos_color_dtype = np.dtype([('position', [('x', float), ('y', float)]),\n",
    "                            ('color', [('r', int), ('g', int), ('b', int)])])\n",
    "\n",
    "arr = np.array([((1.0, 2.0), (255, 0, 0)),\n",
    "                ((3.0, 4.0), (0, 255, 0)),\n",
    "                ((5.0, 6.0), (0, 0, 255))], dtype=pos_color_dtype)\n",
    "\n",
    "print(arr)"
   ]
  },
  {
   "cell_type": "markdown",
   "id": "82184fc0",
   "metadata": {},
   "source": [
    "52. Consider a random vector with shape (100,2) representing coordinates, find point by point distances (★★☆)"
   ]
  },
  {
   "cell_type": "code",
   "execution_count": 140,
   "id": "b80c7ff2",
   "metadata": {},
   "outputs": [
    {
     "name": "stdout",
     "output_type": "stream",
     "text": [
      "[[0.         0.77435349 0.78384627 0.95089763 0.83095242 0.5458594\n",
      "  0.34925186 0.30356523 0.9106131  0.77145557 0.40845372 0.46687661\n",
      "  0.81998395 0.53375066 0.64977023 0.38006692 0.79511457 1.02822771\n",
      "  0.54164176 0.7612708  0.07175903 0.12983057 0.55746995 0.19421696\n",
      "  0.56603133 0.38672492 1.01740847 0.96144852 0.93229176 0.31926027\n",
      "  0.75714164 0.52640078 0.55426106 0.8220872  0.48241515 0.64261632\n",
      "  0.47568785 0.83204404 0.39235515 0.90115866 0.62918084 0.9170264\n",
      "  0.23775533 0.27645664 0.35527108 0.54498693 0.34491469 0.44478383\n",
      "  0.95912488 1.05395697 0.91567981 0.68035188 0.77884186 0.50747497\n",
      "  0.57914843 0.55211569 0.97771712 0.74527682 0.10033591 0.52968468\n",
      "  0.46008741 0.40845907 0.93168233 0.15335712 0.28020762 0.37158236\n",
      "  1.02589332 0.31348487 0.57278087 0.4493984  0.33424981 0.72874963\n",
      "  0.85365015 0.951662   0.82982    0.44244042 0.28349118 0.84803559\n",
      "  0.8032684  0.41802571 0.34971413 1.04697058 0.46408436 0.20613733\n",
      "  0.97087699 0.26524651 0.77365676 0.85169757 0.32445674 0.67781449\n",
      "  0.17995896 0.60912208 0.45432251 0.46666679 0.34148238 1.01032048\n",
      "  0.37955746 0.4487695  0.84321016 0.61610644]\n",
      " [0.77435349 0.         0.25699779 0.19663683 0.05872979 0.39089958\n",
      "  0.93497433 0.89976474 0.79505188 0.04892417 0.62930546 0.59197864\n",
      "  0.05027985 0.33655592 0.3758879  0.3981083  0.26443689 0.26263533\n",
      "  0.24553699 0.51009266 0.71143776 0.74021354 0.39103869 0.64598551\n",
      "  0.77550158 0.77614579 0.71895597 0.37324133 0.35444569 0.85254142\n",
      "  0.0194694  0.43209665 0.84574134 0.05041132 0.44931477 0.2999844\n",
      "  0.77883192 0.65239933 0.97254825 0.12937281 0.23387241 0.69097059\n",
      "  0.83515668 0.53939445 0.52974148 0.23149035 0.54977204 0.35216833\n",
      "  0.33329261 0.28657327 0.14842162 0.64911756 0.5482241  0.30550166\n",
      "  0.74124417 0.6315878  0.58827434 0.12712223 0.70553434 0.26656793\n",
      "  0.6451066  0.43554691 0.78254312 0.67308711 0.53374437 0.40464602\n",
      "  0.28532095 0.64520919 0.74636633 0.68644251 0.48865885 0.45431634\n",
      "  0.18768154 0.41880071 0.08721387 0.49259296 0.86424645 0.70945979\n",
      "  0.43948142 0.53407031 0.80767632 0.81147492 0.53573116 0.62057515\n",
      "  0.3047701  0.6092255  0.05093435 0.33135501 0.45074868 0.72991449\n",
      "  0.59522057 0.72376261 0.34136869 0.68410549 0.71404179 0.78319289\n",
      "  0.41737154 0.8325774  0.68714518 0.17274589]\n",
      " [0.78384627 0.25699779 0.         0.25928917 0.28549943 0.26037286\n",
      "  0.84359813 0.81825278 0.54586303 0.30492996 0.77163034 0.75288347\n",
      "  0.28749347 0.50885166 0.5950193  0.466836   0.01235212 0.43717218\n",
      "  0.37946817 0.26678767 0.73621124 0.79236898 0.25246524 0.713432\n",
      "  0.60085617 0.65753974 0.46258399 0.18191498 0.15324268 0.76027563\n",
      "  0.26433044 0.29681148 0.68034212 0.25144412 0.33419063 0.14620071\n",
      "  0.63188089 0.40432446 0.87333329 0.27757837 0.43956192 0.43575069\n",
      "  0.7681732  0.51050793 0.45611885 0.34319912 0.66706926 0.34628952\n",
      "  0.17541182 0.45149089 0.26873943 0.43399651 0.30306469 0.28257655\n",
      "  0.56052235 0.45643988 0.33573585 0.37590682 0.69417011 0.40606158\n",
      "  0.80186842 0.37898495 0.53032834 0.64850017 0.50605376 0.46560733\n",
      "  0.29077042 0.55942771 0.56784317 0.837692   0.58594013 0.21803847\n",
      "  0.12143422 0.1947603  0.20408425 0.64370008 0.78488343 0.46274531\n",
      "  0.18493597 0.42584481 0.70237392 0.55447713 0.40480813 0.68791112\n",
      "  0.19461535 0.70106356 0.2062797  0.08781517 0.49854354 0.52069542\n",
      "  0.61094439 0.53317787 0.33859294 0.53805438 0.8329026  0.52636772\n",
      "  0.40667892 0.69757485 0.43964809 0.3415641 ]\n",
      " [0.95089763 0.19663683 0.25928917 0.         0.16076617 0.49268827\n",
      "  1.07162004 1.04113039 0.78486376 0.22786456 0.82579084 0.78723358\n",
      "  0.1725917  0.53259316 0.55759982 0.58361609 0.25768187 0.1905571\n",
      "  0.4390449  0.51923155 0.89173734 0.92773336 0.48812309 0.8357433\n",
      "  0.85689349 0.89586629 0.66043946 0.26286246 0.2585091  0.98787762\n",
      "  0.21609897 0.53343855 0.93478966 0.14721518 0.56307796 0.37922347\n",
      "  0.88061888 0.64811873 1.1053197  0.08186152 0.42670294 0.66279014\n",
      "  0.98282907 0.69784072 0.66819014 0.41983996 0.74560899 0.51122523\n",
      "  0.21203863 0.19921449 0.05631807 0.69302839 0.55291647 0.45347443\n",
      "  0.81749747 0.71136539 0.51934092 0.30232364 0.87418796 0.46145789\n",
      "  0.84054205 0.57813406 0.76386368 0.83630035 0.69250071 0.58840147\n",
      "  0.08994637 0.78069916 0.82445085 0.88223685 0.68171814 0.4752699\n",
      "  0.13795147 0.32629079 0.12201236 0.68905042 1.00630244 0.70688312\n",
      "  0.42695384 0.65487859 0.93542563 0.76081141 0.64355609 0.81002995\n",
      "  0.16295682 0.80272251 0.17978541 0.28537938 0.63241029 0.77990564\n",
      "  0.77097058 0.79152742 0.50087414 0.78537243 0.91046115 0.73923858\n",
      "  0.57834028 0.94280645 0.68332272 0.36843307]\n",
      " [0.83095242 0.05872979 0.28549943 0.16076617 0.         0.44470567\n",
      "  0.99349807 0.95841832 0.83023901 0.06900275 0.67017267 0.62902664\n",
      "  0.01238137 0.37639986 0.39718439 0.45322944 0.290947   0.20391956\n",
      "  0.2972035  0.54732186 0.76729364 0.79360794 0.4441239  0.69843907\n",
      "  0.82835037 0.83351025 0.74132775 0.37512963 0.36013912 0.91097903\n",
      "  0.07406033 0.48618687 0.89984566 0.03411557 0.50516957 0.34847005\n",
      "  0.83438617 0.68800161 1.03092741 0.08257763 0.26769738 0.72110155\n",
      "  0.89388525 0.59804631 0.5880593  0.2866133  0.59644291 0.4108949\n",
      "  0.33042326 0.22786086 0.10618725 0.69499285 0.58489588 0.36386628\n",
      "  0.79320796 0.68364816 0.60652577 0.14169644 0.76337481 0.31640107\n",
      "  0.68248546 0.49393314 0.81563649 0.73142542 0.59239033 0.46031314\n",
      "  0.25060899 0.70350682 0.79862827 0.72466253 0.53923217 0.49343121\n",
      "  0.19390787 0.42736819 0.08593744 0.53359843 0.92290748 0.74588568\n",
      "  0.47040359 0.59104286 0.865674   0.83658852 0.59127746 0.67325217\n",
      "  0.29410834 0.6590319  0.08923894 0.35048183 0.50683524 0.77738128\n",
      "  0.65222255 0.7743036  0.40009504 0.73936404 0.7585915  0.80991853\n",
      "  0.47602949 0.88914693 0.72312451 0.22248333]\n",
      " [0.5458594  0.39089958 0.26037286 0.49268827 0.44470567 0.\n",
      "  0.58449582 0.55810967 0.49426325 0.42161148 0.63698561 0.64020536\n",
      "  0.43950462 0.45064894 0.57946318 0.31405035 0.26938262 0.63958614\n",
      "  0.32856999 0.24588906 0.50886088 0.57902975 0.01235062 0.51712038\n",
      "  0.38486927 0.40337797 0.51817974 0.42403227 0.39535496 0.50090629\n",
      "  0.38431252 0.04169855 0.45514108 0.41789021 0.07381846 0.11609753\n",
      "  0.39176931 0.36621614 0.61570015 0.4789816  0.44066335 0.43894849\n",
      "  0.50807334 0.26986282 0.19966437 0.29147467 0.51959041 0.17102543\n",
      "  0.43104507 0.65981687 0.48118507 0.28949288 0.276424   0.13927382\n",
      "  0.35189731 0.24257371 0.44601493 0.45671807 0.45008282 0.34794846\n",
      "  0.67969746 0.14126874 0.49726252 0.4007038  0.26656035 0.30576922\n",
      "  0.54326246 0.29909058 0.35648459 0.70642431 0.43206535 0.19752944\n",
      "  0.36312253 0.40722264 0.39407071 0.53432813 0.52458275 0.40907785\n",
      "  0.26162357 0.16580602 0.44488281 0.57817741 0.15100362 0.49397029\n",
      "  0.45493267 0.52606152 0.35738804 0.31239476 0.31765047 0.35726837\n",
      "  0.38739224 0.33825853 0.1714659  0.29623597 0.66992015 0.54215583\n",
      "  0.19942254 0.45100818 0.39288717 0.34615884]\n",
      " [0.34925186 0.93497433 0.84359813 1.07162004 0.99349807 0.58449582\n",
      "  0.         0.04691068 0.74097094 0.94945966 0.74687278 0.79886703\n",
      "  0.98510023 0.79605809 0.93112652 0.60558457 0.85178583 1.19714772\n",
      "  0.7517382  0.70628157 0.40228825 0.47890051 0.59150082 0.52576211\n",
      "  0.35989871 0.19736068 0.90487982 0.99278924 0.96582207 0.083784\n",
      "  0.92219586 0.54680632 0.30246948 0.97394053 0.51132238 0.70057881\n",
      "  0.26802625 0.71534152 0.04511724 1.04546811 0.86448944 0.79612669\n",
      "  0.12216352 0.40797199 0.40613836 0.73744787 0.66236293 0.5854927\n",
      "  1.00841905 1.2202672  1.05241561 0.55192435 0.70645133 0.62975733\n",
      "  0.39501133 0.43901213 0.91519826 0.95047478 0.31564867 0.75095288\n",
      "  0.80031208 0.49976757 0.77199563 0.30888607 0.41367479 0.59255656\n",
      "  1.12724783 0.29145882 0.38532988 0.79437667 0.62069366 0.70028755\n",
      "  0.9466691  0.96017393 0.96273516 0.7505251  0.07791817 0.70668328\n",
      "  0.78327076 0.41885319 0.14392832 0.90046109 0.43990554 0.5283152\n",
      "  1.03719028 0.5935651  0.91571568 0.88319219 0.55053868 0.50531834\n",
      "  0.42376595 0.43629338 0.59618473 0.3323427  0.68959444 0.86754179\n",
      "  0.5248458  0.19998699 0.71164939 0.81468204]\n",
      " [0.30356523 0.89976474 0.81825278 1.04113039 0.95841832 0.55810967\n",
      "  0.04691068 0.         0.7469964  0.91272067 0.69998455 0.75197258\n",
      "  0.94973465 0.75212814 0.88641256 0.56281021 0.82686987 1.16228713\n",
      "  0.71116302 0.69400727 0.35556529 0.43298811 0.56578851 0.47886603\n",
      "  0.36592498 0.18909    0.90312403 0.97199428 0.94457128 0.06474845\n",
      "  0.88649814 0.52178184 0.31719739 0.93978697 0.48442342 0.6738581\n",
      "  0.27029831 0.7123956  0.09190049 1.01242598 0.82264145 0.79472016\n",
      "  0.07588697 0.36796841 0.37337476 0.69813792 0.61565094 0.54877527\n",
      "  0.9855661  1.18573858 1.02017209 0.54834098 0.69667818 0.59536992\n",
      "  0.39761963 0.43003081 0.90617134 0.91136389 0.26888289 0.70954787\n",
      "  0.75344412 0.46587312 0.7766352  0.2635714  0.37370877 0.54994186\n",
      "  1.09911278 0.2607547  0.38829542 0.74769415 0.57488488 0.68426874\n",
      "  0.91841807 0.94198557 0.93039408 0.70419788 0.03559067 0.70759484\n",
      "  0.76715855 0.39241223 0.13206653 0.90399899 0.41751543 0.48142079\n",
      "  1.01252291 0.54665953 0.88217484 0.86153763 0.5071909  0.50849945\n",
      "  0.37807809 0.43790533 0.55953137 0.32271607 0.64329747 0.87023183\n",
      "  0.48669529 0.20871658 0.71102586 0.77541508]\n",
      " [0.9106131  0.79505188 0.54586303 0.78486376 0.83023901 0.49426325\n",
      "  0.74097094 0.7469964  0.         0.83988772 1.11691496 1.12797545\n",
      "  0.83117802 0.94359223 1.06729155 0.80155429 0.54201095 0.97362\n",
      "  0.81708173 0.28558511 0.90472967 0.99193246 0.48455238 0.95902258\n",
      "  0.38145435 0.56376739 0.21016719 0.5499324  0.54040047 0.68468814\n",
      "  0.79814396 0.47604445 0.44413417 0.79641307 0.50408884 0.51680388\n",
      "  0.47682612 0.14266664 0.74269487 0.8203452  0.91993541 0.13243214\n",
      "  0.74711409 0.68428672 0.58818117 0.77818368 0.99815532 0.66262723\n",
      "  0.59627526 0.98402851 0.80798637 0.23412024 0.24718224 0.63221111\n",
      "  0.35024972 0.35922495 0.31247928 0.8999164  0.8126055  0.83862077\n",
      "  1.1634954  0.60063757 0.0378188  0.76084824 0.68441246 0.79148598\n",
      "  0.77840355 0.59720908 0.35923365 1.18578121 0.91215948 0.34320907\n",
      "  0.65720232 0.48466541 0.74994575 1.0250429  0.73007922 0.08743872\n",
      "  0.36195192 0.51717949 0.61976924 0.16422401 0.46972382 0.94060296\n",
      "  0.64847434 0.98719418 0.74633164 0.49956378 0.79252705 0.24017839\n",
      "  0.80895314 0.31182353 0.66445018 0.44831255 1.13189714 0.13751521\n",
      "  0.67349035 0.54106639 0.10832452 0.81903656]\n",
      " [0.77145557 0.04892417 0.30492996 0.22786456 0.06900275 0.42161148\n",
      "  0.94945966 0.91272067 0.83988772 0.         0.60116996 0.5602786\n",
      "  0.05662852 0.30739781 0.33347788 0.39193717 0.31267732 0.25700223\n",
      "  0.23283091 0.55448529 0.70640417 0.72933966 0.42289202 0.63338465\n",
      "  0.80630881 0.79705652 0.76726519 0.42096721 0.40271697 0.86791244\n",
      "  0.041744   0.46206085 0.87438242 0.08357394 0.47564777 0.33805687\n",
      "  0.804741   0.6972319  0.98819873 0.15148725 0.19910374 0.737667\n",
      "  0.84604477 0.54812982 0.54684499 0.22667837 0.52829791 0.36403003\n",
      "  0.37995647 0.28255943 0.17455097 0.68786556 0.59277912 0.32384502\n",
      "  0.77338675 0.66386068 0.63705548 0.0801039  0.70761828 0.25043524\n",
      "  0.61370978 0.45263145 0.82819992 0.67821171 0.54240462 0.39990455\n",
      "  0.31779202 0.6620522  0.77808511 0.65580021 0.47299059 0.49796764\n",
      "  0.23550912 0.46745046 0.13133694 0.46460196 0.87713203 0.75386057\n",
      "  0.48631175 0.55699191 0.82586661 0.85928545 0.56234972 0.60843282\n",
      "  0.34913953 0.5921598  0.09962301 0.38020319 0.44701643 0.76711211\n",
      "  0.59402937 0.75775257 0.3533088  0.71086584 0.68987056 0.83068406\n",
      "  0.42678892 0.85587633 0.73177016 0.15744471]\n",
      " [0.40845372 0.62930546 0.77163034 0.82579084 0.67017267 0.63698561\n",
      "  0.74687278 0.69998455 1.11691496 0.60116996 0.         0.06736871\n",
      "  0.65779686 0.29377668 0.32978722 0.32389658 0.78391431 0.82602096\n",
      "  0.39962698 0.88222135 0.34586133 0.28581887 0.64865443 0.22114411\n",
      "  0.85906731 0.72064465 1.15389616 0.94741378 0.92066136 0.69835753\n",
      "  0.60989045 0.64531648 0.87900096 0.67862798 0.61336919 0.67409111\n",
      "  0.79125172 0.99971242 0.79160153 0.75256258 0.40447922 1.07543058\n",
      "  0.62655712 0.45200455 0.54199717 0.43135125 0.11876035 0.46754169\n",
      "  0.92382916 0.85216783 0.7749434  0.88836119 0.9134081  0.51727401\n",
      "  0.85404916 0.78125871 1.06709585 0.53884389 0.43408359 0.37379007\n",
      "  0.05416962 0.51634602 1.12586103 0.45682293 0.44981798 0.33133598\n",
      "  0.91459304 0.58925639 0.85148193 0.0694405  0.20551374 0.83025828\n",
      "  0.78341946 0.96610022 0.71131141 0.13674756 0.67335458 1.03649369\n",
      "  0.87824405 0.60977925 0.70519425 1.21467992 0.65393078 0.22127899\n",
      "  0.91263887 0.15609449 0.65557066 0.85800428 0.32444174 0.92307301\n",
      "  0.35133071 0.86895639 0.46927451 0.73972708 0.10723617 1.17838991\n",
      "  0.44415637 0.79277488 1.02319126 0.46076732]\n",
      " [0.46687661 0.59197864 0.75288347 0.78723358 0.62902664 0.64020536\n",
      "  0.79886703 0.75197258 1.12797545 0.5602786  0.06736871 0.\n",
      "  0.61672422 0.25600242 0.2701692  0.32691421 0.7650149  0.77554145\n",
      "  0.37466774 0.88284916 0.40141509 0.3480476  0.65138835 0.27496936\n",
      "  0.88886035 0.75997841 1.15268032 0.92461027 0.89872126 0.7463148\n",
      "  0.57278431 0.65274725 0.91412352 0.64019652 0.62416729 0.66580684\n",
      "  0.82611511 1.00588483 0.8438485  0.71160007 0.36136739 1.0789112\n",
      "  0.67748067 0.4800923  0.56527416 0.40973349 0.14404334 0.46919418\n",
      "  0.89799166 0.80143396 0.73481467 0.90326223 0.91563575 0.51297351\n",
      "  0.88082363 0.80200969 1.05924141 0.49347902 0.48379493 0.34812697\n",
      "  0.05352833 0.52887369 1.13473322 0.50151114 0.47722285 0.33655528\n",
      "  0.87677995 0.62333615 0.87894888 0.09662304 0.21992919 0.8288794\n",
      "  0.75469191 0.94759994 0.67626191 0.10977597 0.72394453 1.04559297\n",
      "  0.87137537 0.63035724 0.74856095 1.21801866 0.67237158 0.27055195\n",
      "  0.88329313 0.20545093 0.62213531 0.84025298 0.3391605  0.94359851\n",
      "  0.39106964 0.89290661 0.46938137 0.76862721 0.17353059 1.18219369\n",
      "  0.45522809 0.83266236 1.03106016 0.42866855]\n",
      " [0.81998395 0.05027985 0.28749347 0.1725917  0.01238137 0.43950462\n",
      "  0.98510023 0.94973465 0.83117802 0.05662852 0.65779686 0.61672422\n",
      "  0.         0.36402305 0.38576284 0.44190302 0.29340281 0.21302946\n",
      "  0.28537323 0.54759429 0.75609635 0.78188737 0.43923871 0.68659207\n",
      "  0.82365781 0.82634818 0.7452194  0.38254463 0.36687487 0.90272538\n",
      "  0.06388896 0.48087056 0.89459007 0.03849467 0.49896461 0.34524104\n",
      "  0.82838482 0.68877897 1.02275801 0.09490393 0.25541674 0.72324405\n",
      "  0.88483004 0.58855483 0.57998115 0.27537801 0.58414901 0.40175221\n",
      "  0.33852943 0.23737023 0.11833476 0.69283726 0.58533981 0.35573796\n",
      "  0.78888409 0.67926502 0.6111938  0.1302433  0.75299472 0.30436813\n",
      "  0.67017717 0.48576709 0.81709915 0.72144841 0.58288503 0.44912131\n",
      "  0.26249559 0.69545182 0.79418162 0.71233382 0.52719774 0.49315759\n",
      "  0.19993683 0.43370366 0.09162212 0.52121916 0.91420295 0.74647372\n",
      "  0.4721809  0.5841578  0.85795595 0.83992469 0.58525633 0.66143843\n",
      "  0.30331632 0.64691502 0.08688192 0.35465715 0.49574932 0.77472269\n",
      "  0.64142964 0.77053987 0.39095206 0.73351465 0.74622947 0.81288497\n",
      "  0.46657287 0.88254584 0.72381983 0.21052068]\n",
      " [0.53375066 0.33655592 0.50885166 0.53259316 0.37639986 0.45064894\n",
      "  0.79605809 0.75212814 0.94359223 0.30739781 0.29377668 0.25600242\n",
      "  0.36402305 0.         0.14134666 0.19482401 0.52060658 0.53962692\n",
      "  0.13276846 0.67575124 0.46249994 0.45909288 0.45964531 0.36087488\n",
      "  0.77650084 0.69576226 0.93625241 0.67421714 0.64935593 0.72495368\n",
      "  0.31725274 0.47532061 0.82247295 0.38537932 0.4599961  0.44396296\n",
      "  0.73795199 0.81036498 0.83992366 0.45878974 0.11306061 0.87483509\n",
      "  0.67731717 0.40008086 0.45274554 0.17219873 0.23041573 0.29252068\n",
      "  0.64503385 0.56603227 0.4812627  0.73678195 0.71179798 0.31163163\n",
      "  0.75709976 0.66004094 0.83004008 0.2478079  0.49972689 0.1076819\n",
      "  0.30882644 0.38112877 0.94400309 0.49003605 0.39498852 0.20856613\n",
      "  0.62178283 0.54787101 0.75796959 0.34990147 0.20072359 0.61822019\n",
      "  0.50023174 0.70205212 0.42030764 0.15724483 0.71828478 0.85732512\n",
      "  0.64697629 0.50026824 0.70404015 1.01147902 0.53072731 0.33930032\n",
      "  0.62825543 0.30520775 0.36619519 0.5966539  0.24620405 0.79446\n",
      "  0.38009351 0.75805751 0.28750253 0.65946699 0.38470137 0.97729565\n",
      "  0.31439668 0.76631996 0.83965066 0.17384871]\n",
      " [0.64977023 0.3758879  0.5950193  0.55759982 0.39718439 0.57946318\n",
      "  0.93112652 0.88641256 1.06729155 0.33347788 0.32978722 0.2701692\n",
      "  0.38576284 0.14134666 0.         0.3353676  0.60577033 0.51461347\n",
      "  0.25107369 0.79184501 0.57803925 0.55851117 0.5874277  0.46374176\n",
      "  0.91672883 0.8365744  1.0428993  0.74315497 0.72135382 0.86213137\n",
      "  0.35903188 0.60747472 0.96366731 0.41703366 0.59569679 0.55620775\n",
      "  0.8792778  0.93055315 0.97543411 0.47691614 0.15564134 0.98992529\n",
      "  0.81099012 0.54025214 0.59400973 0.28932445 0.31548557 0.42944286\n",
      "  0.7068628  0.53978839 0.50194545 0.86831642 0.82911516 0.44055829\n",
      "  0.89635423 0.79747114 0.92743641 0.25552187 0.62760668 0.2319644\n",
      "  0.32077576 0.52067516 1.06503734 0.6230265  0.53526662 0.34915337\n",
      "  0.64702842 0.68873821 0.89750573 0.36435004 0.31798552 0.73328509\n",
      "  0.55964852 0.78068692 0.46294194 0.21821144 0.85321222 0.98022115\n",
      "  0.75175286 0.64037522 0.8435593  1.12382278 0.66932191 0.44616345\n",
      "  0.68062117 0.39830954 0.41823178 0.68094449 0.38446712 0.92960709\n",
      "  0.51007026 0.89590414 0.42345033 0.80026679 0.43530193 1.09089901\n",
      "  0.45529878 0.90737077 0.96138251 0.25671117]\n",
      " [0.38006692 0.3981083  0.466836   0.58361609 0.45322944 0.31405035\n",
      "  0.60558457 0.56281021 0.80155429 0.39193717 0.32389658 0.32691421\n",
      "  0.44190302 0.19482401 0.3353676  0.         0.47915255 0.64836573\n",
      "  0.16181744 0.55855758 0.31447375 0.34413544 0.32549493 0.25402255\n",
      "  0.59150132 0.50120778 0.83003083 0.64801136 0.61976073 0.53223447\n",
      "  0.38012349 0.32589557 0.63224156 0.44722639 0.29875926 0.35421944\n",
      "  0.54644878 0.67909883 0.64880356 0.52679442 0.26137655 0.75299498\n",
      "  0.48923982 0.20527593 0.26334033 0.16669526 0.20851907 0.14371528\n",
      "  0.63252926 0.67419302 0.54337977 0.57951476 0.59027706 0.19548874\n",
      "  0.57606268 0.48653333 0.74504748 0.36667803 0.32439609 0.15234086\n",
      "  0.36565476 0.20635064 0.80786026 0.30521301 0.20016658 0.0137911\n",
      "  0.6647269  0.35339011 0.57586645 0.39322844 0.12214381 0.5063628\n",
      "  0.50539822 0.65751426 0.46162261 0.22399505 0.52827641 0.71876744\n",
      "  0.55604158 0.31849974 0.50939343 0.8922277  0.35532942 0.22810931\n",
      "  0.63186548 0.23425933 0.4038851  0.54951102 0.05792918 0.62615263\n",
      "  0.20588715 0.5819042  0.14544374 0.47231006 0.36888541 0.8561811\n",
      "  0.13296885 0.57212868 0.70414643 0.23604017]\n",
      " [0.79511457 0.26443689 0.01235212 0.25768187 0.290947   0.26938262\n",
      "  0.85178583 0.82686987 0.54201095 0.31267732 0.78391431 0.7650149\n",
      "  0.29340281 0.52060658 0.60577033 0.47915255 0.         0.43795306\n",
      "  0.39145374 0.26499153 0.74780722 0.80431007 0.26116612 0.7255822\n",
      "  0.60513077 0.66489918 0.45458788 0.16978456 0.14104368 0.76856915\n",
      "  0.27241947 0.30517349 0.68503639 0.25683723 0.34317993 0.15613224\n",
      "  0.63782571 0.40096948 0.881149   0.27962291 0.45041113 0.43019827\n",
      "  0.7774035  0.52143491 0.46597437 0.35530552 0.67941682 0.35820344\n",
      "  0.16448448 0.45164904 0.26971983 0.43537672 0.300685   0.29453988\n",
      "  0.56448057 0.46121006 0.32635144 0.38462533 0.705114   0.41805461\n",
      "  0.81405912 0.38972547 0.52573317 0.65920906 0.51702162 0.47789143\n",
      "  0.28547627 0.56846713 0.57193964 0.84993734 0.59828843 0.21798912\n",
      "  0.12051812 0.18259168 0.20833891 0.65586814 0.79363741 0.45955817\n",
      "  0.18032652 0.4345321  0.71023505 0.54732006 0.41255016 0.70007546\n",
      "  0.18566179 0.71337323 0.21356564 0.07609122 0.51070635 0.52236632\n",
      "  0.62254898 0.5364619  0.35057526 0.54434814 0.84525463 0.51967445\n",
      "  0.41830397 0.7040136  0.4363424  0.35283194]\n",
      " [1.02822771 0.26263533 0.43717218 0.1905571  0.20391956 0.63958614\n",
      "  1.19714772 1.16228713 0.97362    0.25700223 0.82602096 0.77554145\n",
      "  0.21302946 0.53962692 0.51461347 0.64836573 0.43795306 0.\n",
      "  0.48777416 0.7027732  0.96264515 0.98204728 0.63756846 0.88492957\n",
      "  1.01856263 1.03467343 0.85049391 0.45050237 0.44828647 1.11446998\n",
      "  0.27681745 0.68128403 1.09294651 0.22412846 0.70377075 0.53475509\n",
      "  1.03125317 0.83542256 1.23428339 0.16300155 0.42667126 0.85284808\n",
      "  1.09777617 0.80155275 0.7913972  0.48367088 0.76907289 0.61473348\n",
      "  0.39932766 0.02644183 0.16845183 0.86881638 0.73780971 0.56739442\n",
      "  0.98138558 0.87274077 0.70912369 0.2931691  0.96432537 0.50294467\n",
      "  0.82850487 0.69742708 0.95345242 0.93388018 0.79587751 0.65664773\n",
      "  0.23229105 0.90676578 0.98751959 0.87205801 0.72258622 0.65519002\n",
      "  0.31827358 0.51534883 0.24697554 0.6932802  1.12678649 0.89424712\n",
      "  0.61351347 0.79168534 1.06824593 0.9511186  0.78886446 0.86052772\n",
      "  0.34764162 0.83889528 0.2839793  0.47424429 0.70386707 0.95430901\n",
      "  0.85102985 0.95904411 0.60393289 0.93577914 0.92298038 0.92977334\n",
      "  0.67958817 1.08837053 0.87075815 0.41259868]\n",
      " [0.54164176 0.24553699 0.37946817 0.4390449  0.2972035  0.32856999\n",
      "  0.7517382  0.71116302 0.81708173 0.23283091 0.39962698 0.37466774\n",
      "  0.28537323 0.13276846 0.25107369 0.16181744 0.39145374 0.48777416\n",
      "  0.         0.5451408  0.47509653 0.49665353 0.33638756 0.40123583\n",
      "  0.67932966 0.6245337  0.8037831  0.55000381 0.52405372 0.67420055\n",
      "  0.22653568 0.35778827 0.73363796 0.29585114 0.3495391  0.31182483\n",
      "  0.65325844 0.68168516 0.79341145 0.37478613 0.12069304 0.74410017\n",
      "  0.63992044 0.34380124 0.37114623 0.0397074  0.30821201 0.18929896\n",
      "  0.52455468 0.51378785 0.39373856 0.61778958 0.58169937 0.19017265\n",
      "  0.65530357 0.55262742 0.69742675 0.20538224 0.48460099 0.02661612\n",
      "  0.42499615 0.28578253 0.8158751  0.46128303 0.33811658 0.17144281\n",
      "  0.52481373 0.47906929 0.65737618 0.46282923 0.24316657 0.48717533\n",
      "  0.38396596 0.57380554 0.31916671 0.26672533 0.67590987 0.73023744\n",
      "  0.5142408  0.40532928 0.64242574 0.88005767 0.42814472 0.37606542\n",
      "  0.51323456 0.36392408 0.26155918 0.46719696 0.21892562 0.68122543\n",
      "  0.36728269 0.65138242 0.18127766 0.56741558 0.47494481 0.84618691\n",
      "  0.23304129 0.69127898 0.71184063 0.07541564]\n",
      " [0.7612708  0.51009266 0.26678767 0.51923155 0.54732186 0.24588906\n",
      "  0.70628157 0.69400727 0.28558511 0.55448529 0.88222135 0.88284916\n",
      "  0.54759429 0.67575124 0.79184501 0.55855758 0.26499153 0.7027732\n",
      "  0.5451408  0.         0.73528729 0.81256561 0.23394607 0.75824168\n",
      "  0.39091033 0.50892108 0.2723073  0.32505759 0.30530425 0.62985087\n",
      "  0.51274437 0.24595372 0.47394634 0.51382996 0.28679597 0.23592329\n",
      "  0.45233126 0.14314958 0.72513231 0.54432524 0.64091244 0.19908418\n",
      "  0.66512747 0.49561147 0.40679688 0.50552815 0.76523052 0.4148522\n",
      "  0.35994299 0.7158643  0.53468298 0.1901228  0.03847003 0.37116443\n",
      "  0.34745344 0.26880632 0.21814013 0.61454486 0.6613994  0.56855991\n",
      "  0.92390611 0.3799869  0.27653052 0.60878782 0.49365344 0.55089277\n",
      "  0.53008144 0.46738635 0.35671227 0.95162995 0.677708   0.05881664\n",
      "  0.38462593 0.27358884 0.4694924  0.77534181 0.66629661 0.19939844\n",
      "  0.09818401 0.34388963 0.56366227 0.33658476 0.29997696 0.7360228\n",
      "  0.40619844 0.77104163 0.46195362 0.24046744 0.56341892 0.27621597\n",
      "  0.62024534 0.31062393 0.4138045  0.37407222 0.91536162 0.30178304\n",
      "  0.44440273 0.52482134 0.17733216 0.53897986]\n",
      " [0.07175903 0.71143776 0.73621124 0.89173734 0.76729364 0.50886088\n",
      "  0.40228825 0.35556529 0.90472967 0.70640417 0.34586133 0.40141509\n",
      "  0.75609635 0.46249994 0.57803925 0.31447375 0.74780722 0.96264515\n",
      "  0.47509653 0.73528729 0.         0.09107266 0.52087984 0.12654995\n",
      "  0.57811264 0.40918466 0.99787737 0.91598734 0.88683453 0.36089255\n",
      "  0.69382114 0.49400435 0.57648536 0.7598646  0.45071374 0.59847184\n",
      "  0.49338206 0.81666375 0.44667947 0.83924966 0.55929204 0.90080604\n",
      "  0.28408127 0.24061593 0.32948115 0.48071875 0.27492245 0.39215319\n",
      "  0.91070669 0.98854084 0.85464506 0.67157068 0.75583223 0.45581391\n",
      "  0.58603282 0.54575981 0.94895454 0.67743472 0.10303753 0.4619547\n",
      "  0.39876069 0.36830703 0.92329285 0.14750488 0.24322757 0.30698147\n",
      "  0.9688412  0.31169252 0.58065766 0.3921432  0.26264675 0.69847554\n",
      "  0.79954162 0.91025718 0.77008663 0.37168549 0.3309865  0.83738671\n",
      "  0.76959056 0.39721432 0.38034853 1.03402681 0.44488893 0.13571056\n",
      "  0.91959193 0.19720886 0.71325475 0.80777525 0.2607169  0.67829832\n",
      "  0.1252707  0.61230122 0.40104899 0.47032993 0.28981322 0.99710859\n",
      "  0.32954227 0.4764421  0.83063341 0.55006932]\n",
      " [0.12983057 0.74021354 0.79236898 0.92773336 0.79360794 0.57902975\n",
      "  0.47890051 0.43298811 0.99193246 0.72933966 0.28581887 0.3480476\n",
      "  0.78188737 0.45909288 0.55851117 0.34413544 0.80431007 0.98204728\n",
      "  0.49665353 0.81256561 0.09107266 0.         0.59128138 0.09835979\n",
      "  0.66914133 0.49954079 1.07846797 0.97384034 0.94484197 0.44503627\n",
      "  0.72172607 0.56827361 0.66707777 0.78992764 0.52604152 0.66022143\n",
      "  0.58433335 0.89998904 0.52215276 0.8694495  0.56474944 0.9834824\n",
      "  0.36526115 0.31742216 0.41057853 0.50917916 0.24345675 0.44611767\n",
      "  0.96468967 1.0083196  0.88679058 0.75820029 0.83500781 0.5097955\n",
      "  0.67665547 0.63362131 1.02334057 0.69111771 0.19369251 0.47945172\n",
      "  0.33539463 0.43780392 1.00953091 0.23827677 0.3190774  0.33991242\n",
      "  1.00858487 0.40170015 0.67139383 0.32152137 0.26125697 0.77276665\n",
      "  0.8455782  0.97294277 0.80575038 0.34231438 0.41163185 0.92285917\n",
      "  0.84065081 0.48008601 0.46886575 1.11809128 0.52811408 0.12167541\n",
      "  0.96937553 0.16031266 0.7479753  0.86810866 0.29844379 0.76769669\n",
      "  0.19248099 0.70234571 0.45381169 0.56069083 0.21194478 1.0811067\n",
      "  0.38899954 0.5659528  0.91527081 0.57192783]\n",
      " [0.55746995 0.39103869 0.25246524 0.48812309 0.4441239  0.01235062\n",
      "  0.59150082 0.56578851 0.48455238 0.42289202 0.64865443 0.65138835\n",
      "  0.43923871 0.45964531 0.5874277  0.32549493 0.26116612 0.63756846\n",
      "  0.33638756 0.23394607 0.52087984 0.59128138 0.         0.52947017\n",
      "  0.38447501 0.40871124 0.50619986 0.41402778 0.38545146 0.50803186\n",
      "  0.38503801 0.04542412 0.45602237 0.41671615 0.08247061 0.10984811\n",
      "  0.39444067 0.35549016 0.622141   0.47639084 0.44727666 0.42759612\n",
      "  0.5167429  0.28164909 0.21001283 0.29887028 0.53138113 0.18220818\n",
      "  0.42197811 0.65747649 0.47795521 0.28258529 0.26481647 0.14802124\n",
      "  0.35057191 0.24098554 0.43366518 0.45997186 0.46142592 0.35625752\n",
      "  0.69114754 0.15349267 0.48699419 0.41181976 0.27840863 0.31736982\n",
      "  0.5370795  0.30751686 0.35546445 0.71808889 0.44385334 0.18524346\n",
      "  0.35734016 0.39620587 0.39147546 0.54524509 0.53247686 0.39904966\n",
      "  0.24938794 0.17338864 0.45120801 0.56679026 0.1555792  0.5063136\n",
      "  0.44682212 0.53828201 0.35627826 0.30234632 0.32974121 0.35220074\n",
      "  0.3995782  0.33554258 0.1823075  0.29886569 0.6820735  0.53084477\n",
      "  0.21168577 0.45485009 0.38255851 0.35173999]\n",
      " [0.19421696 0.64598551 0.713432   0.8357433  0.69843907 0.51712038\n",
      "  0.52576211 0.47886603 0.95902258 0.63338465 0.22114411 0.27496936\n",
      "  0.68659207 0.36087488 0.46374176 0.25402255 0.7255822  0.88492957\n",
      "  0.40123583 0.75824168 0.12654995 0.09835979 0.52947017 0.\n",
      "  0.66279382 0.50954309 1.02840382 0.89534696 0.86661229 0.47824804\n",
      "  0.62726452 0.51229774 0.67294631 0.69599443 0.47255732 0.58754866\n",
      "  0.58652863 0.85684405 0.57053353 0.7753539  0.46644853 0.93830171\n",
      "  0.40545871 0.27473589 0.37084649 0.41604618 0.15188028 0.369809\n",
      "  0.88311613 0.91124798 0.79335536 0.72521211 0.7838124  0.43214559\n",
      "  0.6639697  0.60638938 0.96306938 0.59341396 0.21374583 0.38304771\n",
      "  0.27478732 0.3783639  0.97341175 0.24160352 0.2746916  0.25168816\n",
      "  0.91810168 0.38980539 0.65999984 0.27260276 0.1630973  0.71410463\n",
      "  0.75908299 0.89888645 0.71398797 0.25061295 0.45228878 0.88504462\n",
      "  0.77691702 0.44185497 0.488975   1.07547333 0.48948977 0.02592055\n",
      "  0.88477981 0.0710428  0.65602322 0.79236322 0.21491057 0.74558556\n",
      "  0.152137   0.6847114  0.37628591 0.54732866 0.18221202 1.03850025\n",
      "  0.31968564 0.58028655 0.87525438 0.47620071]\n",
      " [0.56603133 0.77550158 0.60085617 0.85689349 0.82835037 0.38486927\n",
      "  0.35989871 0.36592498 0.38145435 0.80630881 0.85906731 0.88886035\n",
      "  0.82365781 0.77650084 0.91672883 0.59150132 0.60513077 1.01856263\n",
      "  0.67932966 0.39091033 0.57811264 0.66914133 0.38447501 0.66279382\n",
      "  0.         0.18850241 0.54983036 0.70997531 0.68700424 0.30457981\n",
      "  0.76917916 0.34425358 0.0830617  0.80026332 0.33559705 0.48381023\n",
      "  0.09730792 0.36457847 0.36454    0.85597348 0.79944686 0.44123147\n",
      "  0.37247715 0.40877122 0.32889469 0.64891943 0.74608735 0.49056461\n",
      "  0.73809195 1.03723362 0.85478916 0.20864118 0.37928205 0.49894391\n",
      "  0.04347528 0.1459498  0.57845457 0.83717649 0.4767731  0.69135198\n",
      "  0.91152263 0.39631134 0.41210363 0.43109166 0.41167015 0.57825925\n",
      "  0.89025181 0.27300529 0.03430154 0.92289135 0.67117038 0.40603034\n",
      "  0.71988073 0.66339946 0.77158785 0.80316749 0.35079011 0.34901631\n",
      "  0.48346372 0.27635525 0.24174007 0.54062868 0.25181611 0.65082614\n",
      "  0.77803794 0.70944147 0.7400275  0.61125587 0.55791652 0.14656047\n",
      "  0.51290247 0.08328733 0.49812785 0.12046476 0.84484315 0.50799864\n",
      "  0.46255545 0.15992805 0.35617753 0.71612842]\n",
      " [0.38672492 0.77614579 0.65753974 0.89586629 0.83351025 0.40337797\n",
      "  0.19736068 0.18909    0.56376739 0.79705652 0.72064465 0.75997841\n",
      "  0.82634818 0.69576226 0.8365744  0.50120778 0.66489918 1.03467343\n",
      "  0.6245337  0.50892108 0.40918466 0.49954079 0.40871124 0.50954309\n",
      "  0.18850241 0.         0.7142724  0.79961203 0.77320358 0.12445122\n",
      "  0.76554713 0.36329835 0.16786093 0.81059623 0.3331927  0.51853739\n",
      "  0.09200403 0.52339354 0.21894908 0.87759124 0.74373698 0.6060142\n",
      "  0.18435203 0.29708449 0.2544622  0.6025452  0.61612194 0.4413861\n",
      "  0.81769118 1.05641425 0.88190291 0.3593226  0.50947923 0.47326593\n",
      "  0.21371211 0.24210578 0.71858083 0.81014705 0.30615078 0.62967355\n",
      "  0.77457641 0.34641172 0.59180925 0.26832382 0.30182084 0.48742119\n",
      "  0.94544982 0.14790298 0.20506394 0.7795384  0.55295489 0.50390419\n",
      "  0.76603804 0.76475021 0.7932355  0.68829055 0.16739202 0.52002674\n",
      "  0.58682045 0.24307688 0.05722774 0.71786385 0.25336972 0.50228816\n",
      "  0.84908996 0.56552434 0.75074686 0.69127586 0.45482118 0.32372594\n",
      "  0.36963338 0.25224207 0.45131521 0.13507373 0.69041359 0.68351677\n",
      "  0.39164868 0.07287901 0.52267579 0.67766246]\n",
      " [1.01740847 0.71895597 0.46258399 0.66043946 0.74132775 0.51817974\n",
      "  0.90487982 0.90312403 0.21016719 0.76726519 1.15389616 1.15268032\n",
      "  0.7452194  0.93625241 1.0428993  0.83003083 0.45458788 0.85049391\n",
      "  0.8037831  0.2723073  0.99787737 1.07846797 0.50619986 1.02840382\n",
      "  0.54983036 0.7142724  0.         0.40228967 0.4022177  0.83866965\n",
      "  0.72688768 0.5167349  0.62367771 0.70745098 0.55585189 0.492449\n",
      "  0.63696761 0.19130569 0.91353542 0.71221353 0.88826925 0.10880355\n",
      "  0.88959342 0.76113872 0.66856938 0.76415656 1.03725449 0.68635449\n",
      "  0.45303404 0.85626    0.69495434 0.35513225 0.24459442 0.63974944\n",
      "  0.51111846 0.47974843 0.14173776 0.83814556 0.91708572 0.82857955\n",
      "  1.19479186 0.65096538 0.17278315 0.86405968 0.75971158 0.82269033\n",
      "  0.63392681 0.71042078 0.52100661 1.22325523 0.94975486 0.32392011\n",
      "  0.55115209 0.33597875 0.65589721 1.04434577 0.88095564 0.20212688\n",
      "  0.29114646 0.60100961 0.77149486 0.10194717 0.55388879 1.00668947\n",
      "  0.50605755 1.04304499 0.668041   0.3909265  0.83572109 0.40366865\n",
      "  0.88712037 0.46940188 0.68483087 0.58428278 1.18753614 0.09104733\n",
      "  0.71656467 0.70726936 0.19371669 0.78630819]\n",
      " [0.96144852 0.37324133 0.18191498 0.26286246 0.37512963 0.42403227\n",
      "  0.99278924 0.97199428 0.5499324  0.42096721 0.94741378 0.92461027\n",
      "  0.38254463 0.67421714 0.74315497 0.64801136 0.16978456 0.45050237\n",
      "  0.55000381 0.32505759 0.91598734 0.97384034 0.41402778 0.89534696\n",
      "  0.70997531 0.79961203 0.40228967 0.         0.02916803 0.91107991\n",
      "  0.38753699 0.45448625 0.79273189 0.34445664 0.49612363 0.3188927\n",
      "  0.75917803 0.42535223 1.01842835 0.32591448 0.59145377 0.42044479\n",
      "  0.92822576 0.68610339 0.62365778 0.51626604 0.84581858 0.52773653\n",
      "  0.05117703 0.45482442 0.30489663 0.51502024 0.34865437 0.46419089\n",
      "  0.66698871 0.57503371 0.26056755 0.5003528  0.86949224 0.57650303\n",
      "  0.97494069 0.5537645  0.52378377 0.82208845 0.68195344 0.64713603\n",
      "  0.23237981 0.71899953 0.67570832 1.01218994 0.76612174 0.30423629\n",
      "  0.18556074 0.06684289 0.29174624 0.81658715 0.940181   0.48164668\n",
      "  0.2278822  0.58372433 0.84919622 0.5038861  0.5545238  0.86982248\n",
      "  0.1038021  0.88226274 0.3263414  0.11168652 0.68045629 0.60124796\n",
      "  0.79083863 0.6326186  0.52024655 0.67074945 1.01242036 0.48548791\n",
      "  0.58684941 0.82935043 0.45849234 0.50142265]\n",
      " [0.93229176 0.35444569 0.15324268 0.2585091  0.36013912 0.39535496\n",
      "  0.96582207 0.94457128 0.54040047 0.40271697 0.92066136 0.89872126\n",
      "  0.36687487 0.64935593 0.72135382 0.61976073 0.14104368 0.44828647\n",
      "  0.52405372 0.30530425 0.88683453 0.94484197 0.38545146 0.86661229\n",
      "  0.68700424 0.77320358 0.4022177  0.02916803 0.         0.88390366\n",
      "  0.3679336  0.42622693 0.76956477 0.3284926  0.46764831 0.28975477\n",
      "  0.73426415 0.41211227 0.99189409 0.31615891 0.56871068 0.41275754\n",
      "  0.90020686 0.65698635 0.59492882 0.48981028 0.81832768 0.49875912\n",
      "  0.0563346  0.45428028 0.29652055 0.4945864  0.33091904 0.43526344\n",
      "  0.64420683 0.55060665 0.26088104 0.4814678  0.84040085 0.55060568\n",
      "  0.94879019 0.52465534 0.51571441 0.79306966 0.65282666 0.61873439\n",
      "  0.23818391 0.69090759 0.65278993 0.98574243 0.73821871 0.28097435\n",
      "  0.16756821 0.06870551 0.27541402 0.79041061 0.91259528 0.46931187\n",
      "  0.20731439 0.55564308 0.82236258 0.50305349 0.52705604 0.84111469\n",
      "  0.10810067 0.85401978 0.30636681 0.08332305 0.65174573 0.58134171\n",
      "  0.7616928  0.61054602 0.49132358 0.64510246 0.98474346 0.48279434\n",
      "  0.55772621 0.80405585 0.44593953 0.47715565]\n",
      " [0.31926027 0.85254142 0.76027563 0.98787762 0.91097903 0.50090629\n",
      "  0.083784   0.06474845 0.68468814 0.86791244 0.69835753 0.7463148\n",
      "  0.90272538 0.72495368 0.86213137 0.53223447 0.76856915 1.11446998\n",
      "  0.67420055 0.62985087 0.36089255 0.44503627 0.50803186 0.47824804\n",
      "  0.30457981 0.12445122 0.83866965 0.91107991 0.88390366 0.\n",
      "  0.84002466 0.46346485 0.26198838 0.89102903 0.42764101 0.61696721\n",
      "  0.20795163 0.64783865 0.12031212 0.96217191 0.78873911 0.73034424\n",
      "  0.0832388  0.33080636 0.32313013 0.65836049 0.60619119 0.50428406\n",
      "  0.92587167 1.13744378 0.96892349 0.4837697  0.63212342 0.54712248\n",
      "  0.33469708 0.36533174 0.84156983 0.87093696 0.26450671 0.67465611\n",
      "  0.75238352 0.41705975 0.7137853  0.24653291 0.33641893 0.51891581\n",
      "  1.04351635 0.20807055 0.32553536 0.75038586 0.55733357 0.62113566\n",
      "  0.86292062 0.87978869 0.87927822 0.68998556 0.04710016 0.64371075\n",
      "  0.70409213 0.33519083 0.06733566 0.84070613 0.35726598 0.47730274\n",
      "  0.95407218 0.54281053 0.83260197 0.80108108 0.47875213 0.445493\n",
      "  0.36129993 0.37454094 0.51491161 0.25801078 0.65067711 0.80671071\n",
      "  0.44498804 0.15127941 0.64681583 0.73544444]\n",
      " [0.75714164 0.0194694  0.26433044 0.21609897 0.07406033 0.38431252\n",
      "  0.92219586 0.88649814 0.79814396 0.041744   0.60989045 0.57278431\n",
      "  0.06388896 0.31725274 0.35903188 0.38012349 0.27241947 0.27681745\n",
      "  0.22653568 0.51274437 0.69382114 0.72172607 0.38503801 0.62726452\n",
      "  0.76917916 0.76554713 0.72688768 0.38753699 0.3679336  0.84002466\n",
      "  0.         0.42517945 0.83839881 0.06973774 0.44072585 0.29755376\n",
      "  0.77024792 0.65548859 0.9601568  0.14825057 0.21532334 0.69619181\n",
      "  0.82125322 0.5247353  0.51763844 0.21343068 0.53036164 0.33817342\n",
      "  0.34872766 0.30125089 0.16771786 0.64730614 0.55103575 0.29351795\n",
      "  0.73558864 0.62596216 0.59771244 0.11408776 0.68932344 0.24732537\n",
      "  0.62587765 0.42334403 0.78650324 0.65757515 0.51906035 0.38689927\n",
      "  0.3047132  0.63309505 0.74049429 0.66715178 0.46958326 0.45626513\n",
      "  0.20222014 0.4313564  0.10513013 0.47318704 0.85094765 0.71212251\n",
      "  0.44492096 0.52412357 0.79609925 0.81837708 0.52733943 0.60189963\n",
      "  0.32170108 0.59007044 0.06170177 0.34130855 0.43321882 0.72712026\n",
      "  0.57826601 0.71908919 0.32737662 0.67585684 0.69457839 0.78955661\n",
      "  0.40277711 0.82292644 0.69002677 0.15342163]\n",
      " [0.52640078 0.43209665 0.29681148 0.53343855 0.48618687 0.04169855\n",
      "  0.54680632 0.52178184 0.47604445 0.46206085 0.64531648 0.65274725\n",
      "  0.48087056 0.47532061 0.60747472 0.32589557 0.30517349 0.68128403\n",
      "  0.35778827 0.24595372 0.49400435 0.56827361 0.04542412 0.51229774\n",
      "  0.34425358 0.36329835 0.5167349  0.45448625 0.42622693 0.46346485\n",
      "  0.42517945 0.         0.41371952 0.45952524 0.04405041 0.15524184\n",
      "  0.35009907 0.35439619 0.57705688 0.52061971 0.47278493 0.43129835\n",
      "  0.47428574 0.25339869 0.17352367 0.32210894 0.52694597 0.18710285\n",
      "  0.46453929 0.70149531 0.52265509 0.26147045 0.27235624 0.16773618\n",
      "  0.31220561 0.20344759 0.45531336 0.49506269 0.42865496 0.37551307\n",
      "  0.68999069 0.13423822 0.4819861  0.37780662 0.25082772 0.31627992\n",
      "  0.58238533 0.26489194 0.31646463 0.71465817 0.43980294 0.20466484\n",
      "  0.40274259 0.43310043 0.43570311 0.54903488 0.48875933 0.39287192\n",
      "  0.27687019 0.12986786 0.40609044 0.57029846 0.11017137 0.49018637\n",
      "  0.4907849  0.52684474 0.399018   0.34291501 0.32209121 0.32387846\n",
      "  0.37579841 0.30042712 0.18980223 0.25455436 0.67174847 0.53374953\n",
      "  0.20188408 0.40973065 0.37844963 0.380849  ]\n",
      " [0.55426106 0.84574134 0.68034212 0.93478966 0.89984566 0.45514108\n",
      "  0.30246948 0.31719739 0.44413417 0.87438242 0.87900096 0.91412352\n",
      "  0.89459007 0.82247295 0.96366731 0.63224156 0.68503639 1.09294651\n",
      "  0.73363796 0.47394634 0.57648536 0.66707777 0.45602237 0.67294631\n",
      "  0.0830617  0.16786093 0.62367771 0.79273189 0.76956477 0.26198838\n",
      "  0.83839881 0.41371952 0.         0.87273634 0.39940778 0.55891623\n",
      "  0.08801259 0.4422063  0.29946709 0.9309063  0.85431605 0.51581935\n",
      "  0.33918744 0.43769613 0.36978973 0.70562916 0.77017836 0.54442023\n",
      "  0.82031831 1.11224533 0.93071714 0.29030577 0.46183153 0.5599895\n",
      "  0.12649412 0.22390689 0.65902885 0.90082392 0.4734753  0.74348579\n",
      "  0.93245894 0.44792342 0.47729093 0.43347515 0.44145252 0.61863369\n",
      "  0.97044818 0.29079356 0.11733664 0.94010726 0.70063507 0.48863316\n",
      "  0.79840115 0.74644529 0.84619155 0.83500542 0.3090499  0.4216504\n",
      "  0.56644374 0.32849773 0.20888384 0.60673761 0.31305371 0.66391933\n",
      "  0.85965988 0.72560368 0.81228573 0.69326362 0.59304929 0.22101638\n",
      "  0.52812523 0.16487248 0.55285737 0.16659418 0.85474649 0.57577604\n",
      "  0.50859688 0.11100151 0.43098888 0.77578403]\n",
      " [0.8220872  0.05041132 0.25144412 0.14721518 0.03411557 0.41789021\n",
      "  0.97394053 0.93978697 0.79641307 0.08357394 0.67862798 0.64019652\n",
      "  0.03849467 0.38537932 0.41703366 0.44722639 0.25683723 0.22412846\n",
      "  0.29585114 0.51382996 0.7598646  0.78992764 0.41671615 0.69599443\n",
      "  0.80026332 0.81059623 0.70745098 0.34445664 0.3284926  0.89102903\n",
      "  0.06973774 0.45952524 0.87273634 0.         0.48032846 0.31855158\n",
      "  0.80879038 0.65424891 1.01065926 0.07957508 0.28033207 0.68700286\n",
      "  0.87654883 0.58263198 0.56789965 0.28086452 0.60008204 0.39463491\n",
      "  0.30099263 0.24648819 0.09801032 0.66343091 0.55130777 0.34442086\n",
      "  0.76452276 0.65511817 0.57300019 0.16263488 0.7515207  0.31697885\n",
      "  0.69345845 0.47420868 0.78165037 0.71779315 0.57703882 0.45341731\n",
      "  0.23658343 0.68313361 0.77014109 0.7350693  0.53900179 0.46028663\n",
      "  0.1614505  0.39523107 0.05314197 0.54188185 0.90436607 0.71220943\n",
      "  0.43636604 0.56766406 0.84420723 0.80255887 0.56591729 0.67053439\n",
      "  0.26726431 0.6596094  0.06051133 0.31669096 0.49915863 0.74636579\n",
      "  0.64259507 0.74476209 0.38387538 0.71351013 0.76412418 0.77582915\n",
      "  0.46073933 0.86484466 0.68940308 0.22314232]\n",
      " [0.48241515 0.44931477 0.33419063 0.56307796 0.50516957 0.07381846\n",
      "  0.51132238 0.48442342 0.50408884 0.47564777 0.61336919 0.62416729\n",
      "  0.49896461 0.4599961  0.59569679 0.29875926 0.34317993 0.70377075\n",
      "  0.3495391  0.28679597 0.45071374 0.52604152 0.08247061 0.47255732\n",
      "  0.33559705 0.3331927  0.55585189 0.49612363 0.46764831 0.42764101\n",
      "  0.44072585 0.04405041 0.39940778 0.48032846 0.         0.18946755\n",
      "  0.32955615 0.38822339 0.54320546 0.54509564 0.46778735 0.46737484\n",
      "  0.43436907 0.21012705 0.12968332 0.31640969 0.4946549  0.16761574\n",
      "  0.50443921 0.72486533 0.54884379 0.28113726 0.31126914 0.16379203\n",
      "  0.30777119 0.20312983 0.49827786 0.50206112 0.38460499 0.36478197\n",
      "  0.65945224 0.09745624 0.51250552 0.33378359 0.20775391 0.28810101\n",
      "  0.61598409 0.22528758 0.3107251  0.68247023 0.40823186 0.24776463\n",
      "  0.43551625 0.47631179 0.46048484 0.52275397 0.45081303 0.42313443\n",
      "  0.32085836 0.0924792  0.37269204 0.60577627 0.08670196 0.45101475\n",
      "  0.52874877 0.49010884 0.4199956  0.38444318 0.28898493 0.33446515\n",
      "  0.33360238 0.3018783  0.17257181 0.23523255 0.63529947 0.56899745\n",
      "  0.16942663 0.38460032 0.41021121 0.38100063]\n",
      " [0.64261632 0.2999844  0.14620071 0.37922347 0.34847005 0.11609753\n",
      "  0.70057881 0.6738581  0.51680388 0.33805687 0.67409111 0.66580684\n",
      "  0.34524104 0.44396296 0.55620775 0.35421944 0.15613224 0.53475509\n",
      "  0.31182483 0.23592329 0.59847184 0.66022143 0.10984811 0.58754866\n",
      "  0.48381023 0.51853739 0.492449   0.3188927  0.28975477 0.61696721\n",
      "  0.29755376 0.15524184 0.55891623 0.31855158 0.18946755 0.\n",
      "  0.50162391 0.37672092 0.73173082 0.37221879 0.40501636 0.43373375\n",
      "  0.62242386 0.36727391 0.30992243 0.27212507 0.56194628 0.21823019\n",
      "  0.32012726 0.55353653 0.37186228 0.34981076 0.27363003 0.1589545\n",
      "  0.44687384 0.33799839 0.39356612 0.38801013 0.55079664 0.3362848\n",
      "  0.71076531 0.23500105 0.51121874 0.50401437 0.3630836  0.34994488\n",
      "  0.4273007  0.41413472 0.4528536  0.74256213 0.47634294 0.17719939\n",
      "  0.2475011  0.31273298 0.28777956 0.55635248 0.64013311 0.42938456\n",
      "  0.20569484 0.28180062 0.56085928 0.56855514 0.26528693 0.56274021\n",
      "  0.3405725  0.58408025 0.25925727 0.20937462 0.3753525  0.42993009\n",
      "  0.47372027 0.42623168 0.21281336 0.40625069 0.7227311  0.53507679\n",
      "  0.27124375 0.56365749 0.40907701 0.30320398]\n",
      " [0.47568785 0.77883192 0.63188089 0.88061888 0.83438617 0.39176931\n",
      "  0.26802625 0.27029831 0.47682612 0.804741   0.79125172 0.82611511\n",
      "  0.82838482 0.73795199 0.8792778  0.54644878 0.63782571 1.03125317\n",
      "  0.65325844 0.45233126 0.49338206 0.58433335 0.39444067 0.58652863\n",
      "  0.09730792 0.09200403 0.63696761 0.75917803 0.73426415 0.20795163\n",
      "  0.77024792 0.35009907 0.08801259 0.80879038 0.32955615 0.50162391\n",
      "  0.         0.44800407 0.27811524 0.87070199 0.77388977 0.52818593\n",
      "  0.27530527 0.35007523 0.28544966 0.62684976 0.68217786 0.46474917\n",
      "  0.7822311  1.05158521 0.87235765 0.28556119 0.44725513 0.4853549\n",
      "  0.12750308 0.18502927 0.65326489 0.8266373  0.39071325 0.66187379\n",
      "  0.84464368 0.36778249 0.50634499 0.34853991 0.35392796 0.53277339\n",
      "  0.92255352 0.20278192 0.11805822 0.85267809 0.61278462 0.45661652\n",
      "  0.74644606 0.71843549 0.78578152 0.74729089 0.25380939 0.4387934\n",
      "  0.53806339 0.25069828 0.14443795 0.63392388 0.24312923 0.5769198\n",
      "  0.81796514 0.63819163 0.74830611 0.65469149 0.50603667 0.2383338\n",
      "  0.44063617 0.16839983 0.47366617 0.09557632 0.76857206 0.60044533\n",
      "  0.42516488 0.07279275 0.44363485 0.69877964]\n",
      " [0.83204404 0.65239933 0.40432446 0.64811873 0.68800161 0.36621614\n",
      "  0.71534152 0.7123956  0.14266664 0.6972319  0.99971242 1.00588483\n",
      "  0.68877897 0.81036498 0.93055315 0.67909883 0.40096948 0.83542256\n",
      "  0.68168516 0.14314958 0.81666375 0.89998904 0.35549016 0.85684405\n",
      "  0.36457847 0.52339354 0.19130569 0.42535223 0.41211227 0.64783865\n",
      "  0.65548859 0.35439619 0.4422063  0.65424891 0.38822339 0.37672092\n",
      "  0.44800407 0.         0.72569178 0.68016351 0.7812913  0.08526669\n",
      "  0.69831278 0.584559   0.48963916 0.64237302 0.88131832 0.53705335\n",
      "  0.46844677 0.84682027 0.66867849 0.16407237 0.10468533 0.50083262\n",
      "  0.32403998 0.28877273 0.22332613 0.75769186 0.73196255 0.70413941\n",
      "  1.04412382 0.48561952 0.13459281 0.67903677 0.58376178 0.67003248\n",
      "  0.64787633 0.52207606 0.33401086 1.0690525  0.79419873 0.20128208\n",
      "  0.51777596 0.36322978 0.60833222 0.90050788 0.6898243  0.05882456\n",
      "  0.22198204 0.41993695 0.58058966 0.21866628 0.37198111 0.83653386\n",
      "  0.51916194 0.878071   0.60375539 0.36311154 0.67618281 0.2215184\n",
      "  0.71096117 0.28228068 0.53767979 0.39297711 1.02330455 0.18167299\n",
      "  0.55597629 0.51927269 0.03539463 0.67979336]\n",
      " [0.39235515 0.97254825 0.87333329 1.1053197  1.03092741 0.61570015\n",
      "  0.04511724 0.09190049 0.74269487 0.98819873 0.79160153 0.8438485\n",
      "  1.02275801 0.83992366 0.97543411 0.64880356 0.881149   1.23428339\n",
      "  0.79341145 0.72513231 0.44667947 0.52215276 0.622141   0.57053353\n",
      "  0.36454    0.21894908 0.91353542 1.01842835 0.99189409 0.12031212\n",
      "  0.9601568  0.57705688 0.29946709 1.01065926 0.54320546 0.73173082\n",
      "  0.27811524 0.72569178 0.         1.08125076 0.90698582 0.80475694\n",
      "  0.16727116 0.44965296 0.44289513 0.7782395  0.7074744  0.6245955\n",
      "  1.03580239 1.25712775 1.08755278 0.56367381 0.72307138 0.66706558\n",
      "  0.40242068 0.45648134 0.93055059 0.99099022 0.36074477 0.79319722\n",
      "  0.84497051 0.53700422 0.77495051 0.35364013 0.45531997 0.6356829\n",
      "  1.1589576  0.32753245 0.3925288  0.83863403 0.66558535 0.7224417\n",
      "  0.97865993 0.98360296 0.99802698 0.7955941  0.12254839 0.71344847\n",
      "  0.80526176 0.45085074 0.17098083 0.90409751 0.4685996  0.57329901\n",
      "  1.06607994 0.63850837 0.95200263 0.90974703 0.59413926 0.51107015\n",
      "  0.46863381 0.44416286 0.63522373 0.35164626 0.73326918 0.87207815\n",
      "  0.5650673  0.20643149 0.71984326 0.85538799]\n",
      " [0.90115866 0.12937281 0.27757837 0.08186152 0.08257763 0.4789816\n",
      "  1.04546811 1.01242598 0.8203452  0.15148725 0.75256258 0.71160007\n",
      "  0.09490393 0.45878974 0.47691614 0.52679442 0.27962291 0.16300155\n",
      "  0.37478613 0.54432524 0.83924966 0.8694495  0.47639084 0.7753539\n",
      "  0.85597348 0.87759124 0.71221353 0.32591448 0.31615891 0.96217191\n",
      "  0.14825057 0.52061971 0.9309063  0.07957508 0.54509564 0.37221879\n",
      "  0.87070199 0.68016351 1.08125076 0.         0.35025757 0.70386603\n",
      "  0.95059201 0.65869082 0.63943531 0.36043235 0.677288   0.4705327\n",
      "  0.27716095 0.18134268 0.02555478 0.70661528 0.58029298 0.41775645\n",
      "  0.81856194 0.71008476 0.57322464 0.22235375 0.82953362 0.39533658\n",
      "  0.76506151 0.54658078 0.80232939 0.79487555 0.65315293 0.53293323\n",
      "  0.17021781 0.75410224 0.82476851 0.80723667 0.61779872 0.49485036\n",
      "  0.16374848 0.38485422 0.08492154 0.61592995 0.97714253 0.73886919\n",
      "  0.45849876 0.63459601 0.9133781  0.81064179 0.6291884  0.74993224\n",
      "  0.23346117 0.73818636 0.13082819 0.32496574 0.57857145 0.79176824\n",
      "  0.72151892 0.79604641 0.45984263 0.77513674 0.8402574  0.78658948\n",
      "  0.53713469 0.92925815 0.71555734 0.30128878]\n",
      " [0.62918084 0.23387241 0.43956192 0.42670294 0.26769738 0.44066335\n",
      "  0.86448944 0.82264145 0.91993541 0.19910374 0.40447922 0.36136739\n",
      "  0.25541674 0.11306061 0.15564134 0.26137655 0.45041113 0.42667126\n",
      "  0.12069304 0.64091244 0.55929204 0.56474944 0.44727666 0.46644853\n",
      "  0.79944686 0.74373698 0.88826925 0.59145377 0.56871068 0.78873911\n",
      "  0.21532334 0.47278493 0.85431605 0.28033207 0.46778735 0.40501636\n",
      "  0.77388977 0.7812913  0.90698582 0.35025757 0.         0.83791314\n",
      "  0.74982891 0.45801284 0.49114816 0.15139555 0.34264696 0.30992632\n",
      "  0.55741751 0.45308937 0.37363543 0.72986182 0.67863667 0.30553953\n",
      "  0.77468799 0.67083358 0.77183875 0.13490173 0.58391214 0.11445983\n",
      "  0.41485139 0.40647557 0.91587971 0.56658888 0.45244449 0.27359027\n",
      "  0.51652792 0.59742022 0.77699128 0.45719901 0.3035797  0.58213915\n",
      "  0.41031499 0.62663655 0.32039104 0.2689267  0.78775425 0.8325643\n",
      "  0.59719393 0.52595722 0.75975881 0.97055876 0.54792789 0.44347702\n",
      "  0.53495791 0.41491883 0.27050349 0.52580064 0.31886138 0.79663542\n",
      "  0.4640394  0.76952612 0.30173148 0.68805033 0.49754017 0.93811448\n",
      "  0.35213378 0.81114126 0.81298969 0.10228517]\n",
      " [0.9170264  0.69097059 0.43575069 0.66279014 0.72110155 0.43894849\n",
      "  0.79612669 0.79472016 0.13243214 0.737667   1.07543058 1.0789112\n",
      "  0.72324405 0.87483509 0.98992529 0.75299498 0.43019827 0.85284808\n",
      "  0.74410017 0.19908418 0.90080604 0.9834824  0.42759612 0.93830171\n",
      "  0.44123147 0.6060142  0.10880355 0.42044479 0.41275754 0.73034424\n",
      "  0.69619181 0.43129835 0.51581935 0.68700286 0.46737484 0.43373375\n",
      "  0.52818593 0.08526669 0.80475694 0.70386603 0.83791314 0.\n",
      "  0.78244637 0.66726869 0.57291753 0.70445727 0.95749981 0.609793\n",
      "  0.46801139 0.86184132 0.68972863 0.24736206 0.16378799 0.56916149\n",
      "  0.40233636 0.37360153 0.180696   0.80300448 0.8168854  0.76761844\n",
      "  1.11862796 0.56430977 0.10338894 0.76392838 0.66627923 0.74455813\n",
      "  0.65088237 0.60733483 0.41223112 1.14486074 0.87009243 0.2569732\n",
      "  0.54012135 0.3544497  0.63815493 0.97224023 0.77292439 0.0957876\n",
      "  0.25149883 0.50372578 0.66324179 0.13925947 0.45592584 0.91752916\n",
      "  0.52074962 0.95740683 0.64088425 0.37943473 0.75328204 0.29531624\n",
      "  0.79368285 0.36060914 0.60956718 0.47695966 1.10253738 0.10330891\n",
      "  0.63313778 0.59847207 0.08505884 0.73570748]\n",
      " [0.23775533 0.83515668 0.7681732  0.98282907 0.89388525 0.50807334\n",
      "  0.12216352 0.07588697 0.74711409 0.84604477 0.62655712 0.67748067\n",
      "  0.88483004 0.67731717 0.81099012 0.48923982 0.7774035  1.09777617\n",
      "  0.63992044 0.66512747 0.28408127 0.36526115 0.5167429  0.40545871\n",
      "  0.37247715 0.18435203 0.88959342 0.92822576 0.90020686 0.0832388\n",
      "  0.82125322 0.47428574 0.33918744 0.87654883 0.43436907 0.62242386\n",
      "  0.27530527 0.69831278 0.16727116 0.95059201 0.74982891 0.78244637\n",
      "  0.         0.29857324 0.3153674  0.62848574 0.54032318 0.48308646\n",
      "  0.93863114 1.12164421 0.95943598 0.53516384 0.67177283 0.53283564\n",
      "  0.39769206 0.41035225 0.88102337 0.84166234 0.19380703 0.637331\n",
      "  0.68024374 0.40493817 0.77426666 0.18797925 0.30432765 0.47656166\n",
      "  1.04407418 0.20939434 0.38922366 0.67584625 0.49900984 0.64951109\n",
      "  0.86364867 0.90232887 0.86969994 0.6284018  0.04693149 0.69977951\n",
      "  0.73164067 0.34458381 0.1317334  0.89899936 0.37592692 0.40701389\n",
      "  0.96278607 0.47242097 0.819903   0.81689137 0.43308441 0.50693859\n",
      "  0.30224352 0.43529059 0.49388537 0.30549404 0.57342013 0.86406022\n",
      "  0.41925839 0.22838649 0.70069983 0.70568983]\n",
      " [0.27645664 0.53939445 0.51050793 0.69784072 0.59804631 0.26986282\n",
      "  0.40797199 0.36796841 0.68428672 0.54812982 0.45200455 0.4800923\n",
      "  0.58855483 0.40008086 0.54025214 0.20527593 0.52143491 0.80155275\n",
      "  0.34380124 0.49561147 0.24061593 0.31742216 0.28164909 0.27473589\n",
      "  0.40877122 0.29708449 0.76113872 0.68610339 0.65698635 0.33080636\n",
      "  0.5247353  0.25339869 0.43769613 0.58263198 0.21012705 0.36727391\n",
      "  0.35007523 0.584559   0.44965296 0.65869082 0.45801284 0.66726869\n",
      "  0.29857324 0.         0.09612122 0.33023864 0.33750693 0.18815977\n",
      "  0.68588713 0.82586853 0.66952119 0.45051994 0.51759076 0.24454141\n",
      "  0.40208793 0.33365716 0.70840267 0.54348507 0.18368125 0.34385506\n",
      "  0.50371373 0.13236159 0.69893181 0.13951398 0.0057555  0.19156901\n",
      "  0.76626437 0.1502367  0.39968585 0.51755763 0.26338294 0.45787297\n",
      "  0.58904974 0.67521384 0.58049511 0.39732876 0.33255326 0.61082604\n",
      "  0.52940873 0.16713113 0.30427865 0.80314817 0.21487814 0.25678603\n",
      "  0.70082961 0.30789854 0.52797137 0.57581236 0.15785171 0.47450447\n",
      "  0.12642322 0.41755604 0.19886522 0.28861941 0.45025966 0.76613827\n",
      "  0.12202477 0.36888413 0.60165382 0.40750833]\n",
      " [0.35527108 0.52974148 0.45611885 0.66819014 0.5880593  0.19966437\n",
      "  0.40613836 0.37337476 0.58818117 0.54684499 0.54199717 0.56527416\n",
      "  0.57998115 0.45274554 0.59400973 0.26334033 0.46597437 0.7913972\n",
      "  0.37114623 0.40679688 0.32948115 0.41057853 0.21001283 0.37084649\n",
      "  0.32889469 0.2544622  0.66856938 0.62365778 0.59492882 0.32313013\n",
      "  0.51763844 0.17352367 0.36978973 0.56789965 0.12968332 0.30992243\n",
      "  0.28544966 0.48963916 0.44289513 0.63943531 0.49114816 0.57291753\n",
      "  0.3153674  0.09612122 0.         0.34814596 0.42524938 0.18704865\n",
      "  0.62932338 0.81431773 0.6468403  0.35449599 0.4264085  0.22424326\n",
      "  0.31650119 0.23971701 0.6225315  0.55620285 0.2562736  0.37789939\n",
      "  0.59249158 0.09430799 0.60287378 0.20470429 0.09629855 0.2499132\n",
      "  0.7287251  0.11547295 0.31533838 0.60881887 0.34564625 0.37357705\n",
      "  0.54837464 0.60572183 0.55707541 0.47533622 0.3383193  0.51488763\n",
      "  0.44932413 0.07101038 0.27909033 0.70803836 0.1188257  0.35263843\n",
      "  0.65026783 0.40202337 0.50957751 0.51204572 0.22958882 0.38133899\n",
      "  0.2218028  0.32771512 0.19711368 0.20912147 0.5454125  0.67103146\n",
      "  0.13997356 0.32013913 0.50602113 0.42322711]\n",
      " [0.54498693 0.23149035 0.34319912 0.41983996 0.2866133  0.29147467\n",
      "  0.73744787 0.69813792 0.77818368 0.22667837 0.43135125 0.40973349\n",
      "  0.27537801 0.17219873 0.28932445 0.16669526 0.35530552 0.48367088\n",
      "  0.0397074  0.50552815 0.48071875 0.50917916 0.29887028 0.41604618\n",
      "  0.64891943 0.6025452  0.76415656 0.51626604 0.48981028 0.65836049\n",
      "  0.21343068 0.32210894 0.70562916 0.28086452 0.31640969 0.27212507\n",
      "  0.62684976 0.64237302 0.7782395  0.36043235 0.15139555 0.70445727\n",
      "  0.62848574 0.33023864 0.34814596 0.         0.33460166 0.16230244\n",
      "  0.49274876 0.50922803 0.37762719 0.58095367 0.54215609 0.15447101\n",
      "  0.62353776 0.51943852 0.6584565  0.21324649 0.48172517 0.06478712\n",
      "  0.45915524 0.25923366 0.77664254 0.45450204 0.32448906 0.17375145\n",
      "  0.50341605 0.45904706 0.62597562 0.4959469  0.26338952 0.44751605\n",
      "  0.35498571 0.53787763 0.29835549 0.30080664 0.66267052 0.6912395\n",
      "  0.47479204 0.37719085 0.62337435 0.84035717 0.39716805 0.39040818\n",
      "  0.48406534 0.38438083 0.2403355  0.4307054  0.22055043 0.64595273\n",
      "  0.3673636  0.61813123 0.15318748 0.539077   0.50203821 0.80650575\n",
      "  0.2137095  0.66773176 0.67269493 0.07727717]\n",
      " [0.34491469 0.54977204 0.66706926 0.74560899 0.59644291 0.51959041\n",
      "  0.66236293 0.61565094 0.99815532 0.52829791 0.11876035 0.14404334\n",
      "  0.58414901 0.23041573 0.31548557 0.20851907 0.67941682 0.76907289\n",
      "  0.30821201 0.76523052 0.27492245 0.24345675 0.53138113 0.15188028\n",
      "  0.74608735 0.61612194 1.03725449 0.84581858 0.81832768 0.60619119\n",
      "  0.53036164 0.52694597 0.77017836 0.60008204 0.4946549  0.56194628\n",
      "  0.68217786 0.88131832 0.7074744  0.677288   0.34264696 0.95749981\n",
      "  0.54032318 0.33750693 0.42524938 0.33460166 0.         0.35132935\n",
      "  0.82558844 0.79550907 0.6979434  0.76980218 0.79590285 0.40370214\n",
      "  0.73925823 0.66387422 0.95353511 0.47614895 0.34679345 0.28449221\n",
      "  0.16732906 0.39759151 1.00715851 0.36012513 0.33490688 0.21479953\n",
      "  0.83242776 0.47941689 0.73707143 0.18783431 0.08752779 0.71406768\n",
      "  0.68958132 0.86036118 0.62694678 0.09907944 0.58622402 0.91778837\n",
      "  0.76452927 0.49219107 0.60580385 1.09671619 0.53583902 0.13922835\n",
      "  0.818603   0.08318552 0.56959203 0.75206932 0.20569508 0.80570328\n",
      "  0.24791315 0.75281126 0.35373991 0.6260947  0.1674689  1.06034318\n",
      "  0.32553431 0.68885953 0.90458282 0.37721401]\n",
      " [0.44478383 0.35216833 0.34628952 0.51122523 0.4108949  0.17102543\n",
      "  0.5854927  0.54877527 0.66262723 0.36403003 0.46754169 0.46919418\n",
      "  0.40175221 0.29252068 0.42944286 0.14371528 0.35820344 0.61473348\n",
      "  0.18929896 0.4148522  0.39215319 0.44611767 0.18220818 0.369809\n",
      "  0.49056461 0.4413861  0.68635449 0.52773653 0.49875912 0.50428406\n",
      "  0.33817342 0.18710285 0.54442023 0.39463491 0.16761574 0.21823019\n",
      "  0.46474917 0.53705335 0.6245955  0.4705327  0.30992632 0.609793\n",
      "  0.48308646 0.18815977 0.18704865 0.16230244 0.35132935 0.\n",
      "  0.51945502 0.63873305 0.48155429 0.44684258 0.44678074 0.06388284\n",
      "  0.46785611 0.36805933 0.60376148 0.36927209 0.36336347 0.20087248\n",
      "  0.5091669  0.09698335 0.66723354 0.32528505 0.18262102 0.13653042\n",
      "  0.58255174 0.30032967 0.46949117 0.53690629 0.26404374 0.36281509\n",
      "  0.40886875 0.52910422 0.39278902 0.36348931 0.51319343 0.57854212\n",
      "  0.41498947 0.21603441 0.46494541 0.74896519 0.24043094 0.34479674\n",
      "  0.52745171 0.36665486 0.33983475 0.42291647 0.15721977 0.50200766\n",
      "  0.26728205 0.46646194 0.0108006  0.37812569 0.50732001 0.71305059\n",
      "  0.06711943 0.5056992  0.56308084 0.23632648]\n",
      " [0.95912488 0.33329261 0.17541182 0.21203863 0.33042326 0.43104507\n",
      "  1.00841905 0.9855661  0.59627526 0.37995647 0.92382916 0.89799166\n",
      "  0.33852943 0.64503385 0.7068628  0.63252926 0.16448448 0.39932766\n",
      "  0.52455468 0.35994299 0.91070669 0.96468967 0.42197811 0.88311613\n",
      "  0.73809195 0.81769118 0.45303404 0.05117703 0.0563346  0.92587167\n",
      "  0.34872766 0.46453929 0.82031831 0.30099263 0.50443921 0.32012726\n",
      "  0.7822311  0.46844677 1.03580239 0.27716095 0.55741751 0.46801139\n",
      "  0.93863114 0.68588713 0.62932338 0.49274876 0.82558844 0.51945502\n",
      "  0.         0.40371568 0.25544756 0.54845051 0.38649906 0.45557218\n",
      "  0.69557868 0.5997193  0.31129762 0.45990008 0.86955948 0.55076735\n",
      "  0.94912191 0.55420759 0.57114759 0.82367923 0.68145057 0.63270816\n",
      "  0.18305215 0.72928253 0.70398055 0.98736863 0.74819304 0.33259166\n",
      "  0.14728181 0.11709029 0.2491497  0.79111712 0.95297531 0.52561875\n",
      "  0.26176631 0.59440685 0.86553905 0.55449216 0.56861078 0.85737691\n",
      "  0.05322435 0.86615922 0.28864248 0.1275619  0.66848079 0.63551189\n",
      "  0.78545176 0.66277686 0.51124585 0.69167041 0.99284561 0.53552921\n",
      "  0.58123129 0.85118302 0.50225687 0.47130093]\n",
      " [1.05395697 0.28657327 0.45149089 0.19921449 0.22786086 0.65981687\n",
      "  1.2202672  1.18573858 0.98402851 0.28255943 0.85216783 0.80143396\n",
      "  0.23737023 0.56603227 0.53978839 0.67419302 0.45164904 0.02644183\n",
      "  0.51378785 0.7158643  0.98854084 1.0083196  0.65747649 0.91124798\n",
      "  1.03723362 1.05641425 0.85626    0.45482442 0.45428028 1.13744378\n",
      "  0.30125089 0.70149531 1.11224533 0.24648819 0.72486533 0.55353653\n",
      "  1.05158521 0.84682027 1.25712775 0.18134268 0.45308937 0.86184132\n",
      "  1.12164421 0.82586853 0.81431773 0.50922803 0.79550907 0.63873305\n",
      "  0.40371568 0.         0.18384307 0.88444726 0.75037753 0.59055309\n",
      "  0.99964034 0.89131966 0.71462938 0.31960942 0.98951334 0.52913772\n",
      "  0.85434392 0.72049965 0.96305894 0.95868053 0.82020602 0.68237719\n",
      "  0.2308276  0.92959672 1.00592415 0.89791896 0.74894949 0.66944833\n",
      "  0.3313337  0.52044827 0.26610811 0.71957239 1.15026658 0.90562333\n",
      "  0.62521918 0.81335086 1.09061943 0.95731084 0.80958339 0.88681978\n",
      "  0.35126959 0.86532116 0.30575432 0.48448112 0.72954802 0.97035556\n",
      "  0.87654755 0.97660145 0.6279342  0.95604963 0.94929531 0.93679366\n",
      "  0.70386244 1.10939085 0.88208538 0.43855278]\n",
      " [0.91567981 0.14842162 0.26873943 0.05631807 0.10618725 0.48118507\n",
      "  1.05241561 1.02017209 0.80798637 0.17455097 0.7749434  0.73481467\n",
      "  0.11833476 0.4812627  0.50194545 0.54337977 0.26971983 0.16845183\n",
      "  0.39373856 0.53468298 0.85464506 0.88679058 0.47795521 0.79335536\n",
      "  0.85478916 0.88190291 0.69495434 0.30489663 0.29652055 0.96892349\n",
      "  0.16771786 0.52265509 0.93071714 0.09801032 0.54884379 0.37186228\n",
      "  0.87235765 0.66867849 1.08755278 0.02555478 0.37363543 0.68972863\n",
      "  0.95943598 0.66952119 0.6468403  0.37762719 0.6979434  0.48155429\n",
      "  0.25544756 0.18384307 0.         0.70075865 0.57004198 0.42696725\n",
      "  0.81671955 0.70884044 0.55521012 0.24703687 0.84233602 0.41498826\n",
      "  0.78823231 0.55473794 0.78906401 0.80659126 0.66404152 0.54906389\n",
      "  0.14508304 0.7609576  0.82316576 0.83024657 0.63690504 0.48674254\n",
      "  0.15090565 0.36519307 0.08978737 0.63823224 0.9850128  0.72747463\n",
      "  0.4467132  0.63925664 0.918923   0.79402689 0.63194735 0.76782142\n",
      "  0.21028363 0.75757349 0.14237931 0.31030664 0.59420448 0.78654961\n",
      "  0.73582262 0.79310386 0.47095243 0.77679325 0.86161645 0.77068357\n",
      "  0.5484642  0.93211251 0.7040609  0.32113879]\n",
      " [0.68035188 0.64911756 0.43399651 0.69302839 0.69499285 0.28949288\n",
      "  0.55192435 0.54834098 0.23412024 0.68786556 0.88836119 0.90326223\n",
      "  0.69283726 0.73678195 0.86831642 0.57951476 0.43537672 0.86881638\n",
      "  0.61778958 0.1901228  0.67157068 0.75820029 0.28258529 0.72521211\n",
      "  0.20864118 0.3593226  0.35513225 0.51502024 0.4945864  0.4837697\n",
      "  0.64730614 0.26147045 0.29030577 0.66343091 0.28113726 0.34981076\n",
      "  0.28556119 0.16407237 0.56367381 0.70661528 0.72986182 0.24736206\n",
      "  0.53516384 0.45051994 0.35449599 0.58095367 0.76980218 0.44684258\n",
      "  0.54845051 0.88444726 0.70075865 0.         0.1726923  0.42778045\n",
      "  0.16588536 0.1289152  0.37014627 0.73490773 0.5813347  0.63642262\n",
      "  0.93633293 0.3744463  0.25181889 0.5290441  0.45079142 0.56849183\n",
      "  0.71324348 0.36723101 0.17575463 0.95671886 0.68505123 0.21963367\n",
      "  0.55539555 0.46324256 0.62582961 0.80342237 0.52582669 0.16810832\n",
      "  0.28735397 0.28357921 0.4165173  0.36816779 0.23659039 0.70711928\n",
      "  0.59289891 0.75498662 0.60605235 0.42539154 0.56504115 0.08758238\n",
      "  0.57487694 0.12552448 0.45044491 0.22967632 0.89925051 0.33206946\n",
      "  0.44823568 0.35764503 0.16608593 0.63367785]\n",
      " [0.77884186 0.5482241  0.30306469 0.55291647 0.58489588 0.276424\n",
      "  0.70645133 0.69667818 0.24718224 0.59277912 0.9134081  0.91563575\n",
      "  0.58533981 0.71179798 0.82911516 0.59027706 0.300685   0.73780971\n",
      "  0.58169937 0.03847003 0.75583223 0.83500781 0.26481647 0.7838124\n",
      "  0.37928205 0.50947923 0.24459442 0.34865437 0.33091904 0.63212342\n",
      "  0.55103575 0.27235624 0.46183153 0.55130777 0.31126914 0.27363003\n",
      "  0.44725513 0.10468533 0.72307138 0.58029298 0.67863667 0.16378799\n",
      "  0.67177283 0.51759076 0.4264085  0.54215609 0.79590285 0.44678074\n",
      "  0.38649906 0.75037753 0.57004198 0.1726923  0.         0.40537352\n",
      "  0.33591972 0.26744414 0.20960868 0.65301368 0.67862386 0.60484047\n",
      "  0.95590731 0.40652455 0.23818869 0.62573331 0.51597306 0.58217413\n",
      "  0.56023786 0.47904135 0.34552043 0.98284729 0.7083936  0.09696476\n",
      "  0.41953654 0.29306616 0.50641826 0.80867506 0.67026653 0.16125271\n",
      "  0.12720943 0.36083914 0.56527567 0.30248257 0.31509476 0.76210991\n",
      "  0.43444128 0.79908043 0.49989962 0.27114029 0.59279691 0.25535184\n",
      "  0.64320435 0.29709749 0.44626042 0.37446805 0.94383088 0.26702021\n",
      "  0.47308943 0.5200422  0.13899104 0.57681291]\n",
      " [0.50747497 0.30550166 0.28257655 0.45347443 0.36386628 0.13927382\n",
      "  0.62975733 0.59536992 0.63221111 0.32384502 0.51727401 0.51297351\n",
      "  0.35573796 0.31163163 0.44055829 0.19548874 0.29453988 0.56739442\n",
      "  0.19017265 0.37116443 0.45581391 0.5097955  0.14802124 0.43214559\n",
      "  0.49894391 0.47326593 0.63974944 0.46419089 0.43526344 0.54712248\n",
      "  0.29351795 0.16773618 0.5599895  0.34442086 0.16379203 0.1589545\n",
      "  0.4853549  0.50083262 0.66706558 0.41775645 0.30553953 0.56916149\n",
      "  0.53283564 0.24454141 0.22424326 0.15447101 0.40370214 0.06388284\n",
      "  0.45557218 0.59055309 0.42696725 0.42778045 0.40537352 0.\n",
      "  0.4715527  0.36596574 0.55000727 0.3413278  0.42388702 0.20878843\n",
      "  0.55592702 0.1300671  0.6336055  0.38357303 0.23927689 0.19099107\n",
      "  0.52216014 0.3397147  0.47450203 0.58618436 0.31762809 0.31613844\n",
      "  0.34667017 0.46701595 0.33740599 0.40465542 0.55996091 0.54627317\n",
      "  0.36105076 0.23510933 0.50260526 0.70757596 0.24769554 0.40689638\n",
      "  0.46393681 0.42551807 0.28710667 0.36022088 0.21801755 0.49150562\n",
      "  0.33078878 0.46447821 0.05606122 0.39385494 0.56378104 0.6723628\n",
      "  0.12803839 0.53317229 0.52913262 0.21725218]\n",
      " [0.57914843 0.74124417 0.56052235 0.81749747 0.79320796 0.35189731\n",
      "  0.39501133 0.39761963 0.35024972 0.77338675 0.85404916 0.88082363\n",
      "  0.78888409 0.75709976 0.89635423 0.57606268 0.56448057 0.98138558\n",
      "  0.65530357 0.34745344 0.58603282 0.67665547 0.35057191 0.6639697\n",
      "  0.04347528 0.21371211 0.51111846 0.66698871 0.64420683 0.33469708\n",
      "  0.73558864 0.31220561 0.12649412 0.76452276 0.30777119 0.44687384\n",
      "  0.12750308 0.32403998 0.40242068 0.81856194 0.77468799 0.40233636\n",
      "  0.39769206 0.40208793 0.31650119 0.62353776 0.73925823 0.46785611\n",
      "  0.69557868 0.99964034 0.81671955 0.16588536 0.33591972 0.4715527\n",
      "  0.         0.10965712 0.53598576 0.80697269 0.48651734 0.66859962\n",
      "  0.90578083 0.37597113 0.3791013  0.43852916 0.40444683 0.56312504\n",
      "  0.84924109 0.27583284 0.00997746 0.91912941 0.661733   0.36325803\n",
      "  0.68014452 0.62005688 0.73447864 0.79177976 0.37985727 0.31171811\n",
      "  0.4402407  0.25786837 0.26951965 0.50644185 0.22743812 0.65050765\n",
      "  0.73600335 0.7071271  0.70451122 0.56895637 0.54599565 0.11088026\n",
      "  0.51255482 0.04179613 0.47480852 0.11675336 0.84526549 0.47294929\n",
      "  0.44497576 0.19620622 0.31744505 0.6886876 ]\n",
      " [0.55211569 0.6315878  0.45643988 0.71136539 0.68364816 0.24257371\n",
      "  0.43901213 0.43003081 0.35922495 0.66386068 0.78125871 0.80200969\n",
      "  0.67926502 0.66004094 0.79747114 0.48653333 0.46121006 0.87274077\n",
      "  0.55262742 0.26880632 0.54575981 0.63362131 0.24098554 0.60638938\n",
      "  0.1459498  0.24210578 0.47974843 0.57503371 0.55060665 0.36533174\n",
      "  0.62596216 0.20344759 0.22390689 0.65511817 0.20312983 0.33799839\n",
      "  0.18502927 0.28877273 0.45648134 0.71008476 0.67083358 0.37360153\n",
      "  0.41035225 0.33365716 0.23971701 0.51943852 0.66387422 0.36805933\n",
      "  0.5997193  0.89131966 0.70884044 0.1289152  0.26744414 0.36596574\n",
      "  0.10965712 0.         0.47648295 0.69851028 0.45357474 0.56742338\n",
      "  0.83120162 0.2812925  0.37956901 0.40165664 0.33474281 0.47427332\n",
      "  0.7466675  0.23870025 0.11502304 0.84839025 0.58211486 0.2717363\n",
      "  0.5746668  0.53342841 0.62576846 0.70742549 0.40484673 0.29701728\n",
      "  0.35303431 0.17175631 0.29822819 0.49706105 0.13120551 0.58981965\n",
      "  0.6373934  0.64132818 0.59503133 0.47221782 0.4632076  0.14183247\n",
      "  0.45463751 0.09875515 0.37409596 0.107322   0.78386189 0.46089151\n",
      "  0.35363708 0.2568149  0.29440983 0.58237868]\n",
      " [0.97771712 0.58827434 0.33573585 0.51934092 0.60652577 0.44601493\n",
      "  0.91519826 0.90617134 0.31247928 0.63705548 1.06709585 1.05924141\n",
      "  0.6111938  0.83004008 0.92743641 0.74504748 0.32635144 0.70912369\n",
      "  0.69742675 0.21814013 0.94895454 1.02334057 0.43366518 0.96306938\n",
      "  0.57845457 0.71858083 0.14173776 0.26056755 0.26088104 0.84156983\n",
      "  0.59771244 0.45531336 0.65902885 0.57300019 0.49827786 0.39356612\n",
      "  0.65326489 0.22332613 0.93055059 0.57322464 0.77183875 0.180696\n",
      "  0.88102337 0.70840267 0.6225315  0.6584565  0.95353511 0.60376148\n",
      "  0.31129762 0.71462938 0.55521012 0.37014627 0.20960868 0.55000727\n",
      "  0.53598576 0.47648295 0.         0.71070331 0.87820042 0.72322836\n",
      "  1.10431972 0.5862664  0.28034565 0.82582199 0.70600363 0.73948118\n",
      "  0.49240557 0.68539676 0.54587773 1.13579532 0.86694087 0.25065098\n",
      "  0.41414815 0.19425566 0.52065636 0.94967036 0.87987451 0.26568894\n",
      "  0.18900644 0.56141422 0.77461873 0.24335914 0.51803966 0.93973143\n",
      "  0.36432338 0.96903868 0.53743315 0.25706925 0.75913373 0.44115007\n",
      "  0.83093936 0.4951682  0.60036391 0.5837164  1.11098781 0.22658955\n",
      "  0.64419416 0.72594715 0.24654455 0.67130261]\n",
      " [0.74527682 0.12712223 0.37590682 0.30232364 0.14169644 0.45671807\n",
      "  0.95047478 0.91136389 0.8999164  0.0801039  0.53884389 0.49347902\n",
      "  0.1302433  0.2478079  0.25552187 0.36667803 0.38462533 0.2931691\n",
      "  0.20538224 0.61454486 0.67743472 0.69111771 0.45997186 0.59341396\n",
      "  0.83717649 0.81014705 0.83814556 0.5003528  0.4814678  0.87093696\n",
      "  0.11408776 0.49506269 0.90082392 0.16263488 0.50206112 0.38801013\n",
      "  0.8266373  0.75769186 0.99099022 0.22235375 0.13490173 0.80300448\n",
      "  0.84166234 0.54348507 0.55620285 0.21324649 0.47614895 0.36927209\n",
      "  0.45990008 0.31960942 0.24703687 0.73490773 0.65301368 0.3413278\n",
      "  0.80697269 0.69851028 0.71070331 0.         0.68997855 0.21559707\n",
      "  0.54699667 0.4638306  0.8904035  0.66582417 0.53773534 0.37671708\n",
      "  0.39199933 0.66938695 0.81084183 0.58984676 0.4305341  0.55671629\n",
      "  0.31479241 0.54534684 0.2114406  0.40372338 0.87588409 0.81305586\n",
      "  0.55290984 0.57613514 0.83401936 0.92803327 0.58787075 0.5694432\n",
      "  0.4291633  0.54585733 0.17573452 0.45487466 0.42414325 0.81055713\n",
      "  0.57247759 0.79495752 0.35910026 0.73502236 0.63242868 0.89834159\n",
      "  0.42594892 0.87276307 0.79159255 0.13598574]\n",
      " [0.10033591 0.70553434 0.69417011 0.87418796 0.76337481 0.45008282\n",
      "  0.31564867 0.26888289 0.8126055  0.70761828 0.43408359 0.48379493\n",
      "  0.75299472 0.49972689 0.62760668 0.32439609 0.705114   0.96432537\n",
      "  0.48460099 0.6613994  0.10303753 0.19369251 0.46142592 0.21374583\n",
      "  0.4767731  0.30615078 0.91708572 0.86949224 0.84040085 0.26450671\n",
      "  0.68932344 0.42865496 0.4734753  0.7515207  0.38460499 0.55079664\n",
      "  0.39071325 0.73196255 0.36074477 0.82953362 0.58391214 0.8168854\n",
      "  0.19380703 0.18368125 0.2562736  0.48172517 0.34679345 0.36336347\n",
      "  0.86955948 0.98951334 0.84233602 0.5813347  0.67862386 0.42388702\n",
      "  0.48651734 0.45357474 0.87820042 0.68997855 0.         0.4767263\n",
      "  0.48803252 0.31579563 0.83295847 0.05302605 0.18812329 0.31357557\n",
      "  0.94574482 0.21566096 0.48073829 0.4860687  0.31094693 0.62981634\n",
      "  0.77031496 0.85703792 0.75463365 0.43663019 0.2401543  0.74872226\n",
      "  0.70528886 0.31787095 0.27855008 0.94730448 0.36377671 0.21354576\n",
      "  0.88398797 0.27906286 0.69997108 0.75891035 0.26648625 0.58201253\n",
      "  0.12014145 0.51450377 0.37353509 0.37197718 0.38883237 0.91059716\n",
      "  0.29646676 0.37373437 0.74352409 0.55646439]\n",
      " [0.52968468 0.26656793 0.40606158 0.46145789 0.31640107 0.34794846\n",
      "  0.75095288 0.70954787 0.83862077 0.25043524 0.37379007 0.34812697\n",
      "  0.30436813 0.1076819  0.2319644  0.15234086 0.41805461 0.50294467\n",
      "  0.02661612 0.56855991 0.4619547  0.47945172 0.35625752 0.38304771\n",
      "  0.69135198 0.62967355 0.82857955 0.57650303 0.55060568 0.67465611\n",
      "  0.24732537 0.37551307 0.74348579 0.31697885 0.36478197 0.3362848\n",
      "  0.66187379 0.70413941 0.79319722 0.39533658 0.11445983 0.76761844\n",
      "  0.637331   0.34385506 0.37789939 0.06478712 0.28449221 0.20087248\n",
      "  0.55076735 0.52913772 0.41498826 0.63642262 0.60484047 0.20878843\n",
      "  0.66859962 0.56742338 0.72322836 0.21559707 0.4767263  0.\n",
      "  0.39857822 0.29585019 0.83810601 0.45605897 0.33825794 0.16337698\n",
      "  0.54795181 0.48309849 0.6703301  0.43660833 0.22283188 0.51084528\n",
      "  0.40963536 0.6004187  0.34245694 0.2403811  0.67450826 0.75199466\n",
      "  0.53948634 0.4160004  0.6452998  0.90400347 0.44116619 0.35823059\n",
      "  0.53887162 0.34286965 0.2851886  0.49377906 0.21024014 0.69800644\n",
      "  0.35805938 0.66610644 0.19380896 0.57780355 0.45065811 0.86993423\n",
      "  0.23833292 0.69751987 0.73390646 0.09407338]\n",
      " [0.46008741 0.6451066  0.80186842 0.84054205 0.68248546 0.67969746\n",
      "  0.80031208 0.75344412 1.1634954  0.61370978 0.05416962 0.05352833\n",
      "  0.67017717 0.30882644 0.32077576 0.36565476 0.81405912 0.82850487\n",
      "  0.42499615 0.92390611 0.39876069 0.33539463 0.69114754 0.27478732\n",
      "  0.91152263 0.77457641 1.19479186 0.97494069 0.94879019 0.75238352\n",
      "  0.62587765 0.68999069 0.93245894 0.69345845 0.65945224 0.71076531\n",
      "  0.84464368 1.04412382 0.84497051 0.76506151 0.41485139 1.11862796\n",
      "  0.68024374 0.50371373 0.59249158 0.45915524 0.16732906 0.5091669\n",
      "  0.94912191 0.85434392 0.78823231 0.93633293 0.95590731 0.55592702\n",
      "  0.90578083 0.83120162 1.10431972 0.54699667 0.48803252 0.39857822\n",
      "  0.         0.56297912 1.1715268  0.51098913 0.50134477 0.37418614\n",
      "  0.93003622 0.64242183 0.90338728 0.04369657 0.25143303 0.87087765\n",
      "  0.80643614 0.99662748 0.72913069 0.15838077 0.72707579 1.08221534\n",
      "  0.91591963 0.65950832 0.75935392 1.25786957 0.70298864 0.27541654\n",
      "  0.93522963 0.21026404 0.67472471 0.88897089 0.37136972 0.97302957\n",
      "  0.40511778 0.91992762 0.51012946 0.79192015 0.13979142 1.22178678\n",
      "  0.49002608 0.84676818 1.06837277 0.48083524]\n",
      " [0.40845907 0.43554691 0.37898495 0.57813406 0.49393314 0.14126874\n",
      "  0.49976757 0.46587312 0.60063757 0.45263145 0.51634602 0.52887369\n",
      "  0.48576709 0.38112877 0.52067516 0.20635064 0.38972547 0.69742708\n",
      "  0.28578253 0.3799869  0.36830703 0.43780392 0.15349267 0.3783639\n",
      "  0.39631134 0.34641172 0.65096538 0.5537645  0.52465534 0.41705975\n",
      "  0.42334403 0.13423822 0.44792342 0.47420868 0.09745624 0.23500105\n",
      "  0.36778249 0.48561952 0.53700422 0.54658078 0.40647557 0.56430977\n",
      "  0.40493817 0.13236159 0.09430799 0.25923366 0.39759151 0.09698335\n",
      "  0.55420759 0.72049965 0.55473794 0.3744463  0.40652455 0.1300671\n",
      "  0.37597113 0.2812925  0.5862664  0.4638306  0.31579563 0.29585019\n",
      "  0.56297912 0.         0.60972156 0.26951686 0.12833052 0.19471126\n",
      "  0.64190435 0.20975102 0.37690075 0.58534126 0.31156744 0.33625706\n",
      "  0.46265636 0.54338243 0.46495974 0.42954054 0.43056465 0.52035226\n",
      "  0.40288033 0.12022526 0.37323544 0.70293126 0.15043903 0.35603625\n",
      "  0.57067875 0.39312725 0.41631379 0.44346187 0.19190929 0.41997548\n",
      "  0.24615404 0.37811898 0.10613068 0.28197121 0.53822849 0.66620266\n",
      "  0.07385936 0.40941085 0.50763145 0.33248677]\n",
      " [0.93168233 0.78254312 0.53032834 0.76386368 0.81563649 0.49726252\n",
      "  0.77199563 0.7766352  0.0378188  0.82819992 1.12586103 1.13473322\n",
      "  0.81709915 0.94400309 1.06503734 0.80786026 0.52573317 0.95345242\n",
      "  0.8158751  0.27653052 0.92329285 1.00953091 0.48699419 0.97341175\n",
      "  0.41210363 0.59180925 0.17278315 0.52378377 0.51571441 0.7137853\n",
      "  0.78650324 0.4819861  0.47729093 0.78165037 0.51250552 0.51121874\n",
      "  0.50634499 0.13459281 0.77495051 0.80232939 0.91587971 0.10338894\n",
      "  0.77426666 0.69893181 0.60287378 0.77664254 1.00715851 0.66723354\n",
      "  0.57114759 0.96305894 0.78906401 0.25181889 0.23818869 0.6336055\n",
      "  0.3791013  0.37956901 0.28034565 0.8904035  0.83295847 0.83810601\n",
      "  1.1715268  0.60972156 0.         0.78077964 0.69876686 0.79824172\n",
      "  0.75389373 0.61825574 0.38835139 1.19497568 0.92060022 0.33514793\n",
      "  0.63871413 0.45783656 0.73406559 1.0305421  0.75872466 0.08937228\n",
      "  0.34545858 0.53194077 0.64825199 0.12947273 0.48405845 0.95433545\n",
      "  0.62377516 0.99920598 0.73318408 0.47928828 0.80148849 0.26830569\n",
      "  0.82443462 0.33958048 0.66845295 0.47282532 1.14424569 0.10059886\n",
      "  0.6817557  0.57201086 0.1044802  0.81434783]\n",
      " [0.15335712 0.67308711 0.64850017 0.83630035 0.73142542 0.4007038\n",
      "  0.30888607 0.2635714  0.76084824 0.67821171 0.45682293 0.50151114\n",
      "  0.72144841 0.49003605 0.6230265  0.30521301 0.65920906 0.93388018\n",
      "  0.46128303 0.60878782 0.14750488 0.23827677 0.41181976 0.24160352\n",
      "  0.43109166 0.26832382 0.86405968 0.82208845 0.79306966 0.24653291\n",
      "  0.65757515 0.37780662 0.43347515 0.71779315 0.33378359 0.50401437\n",
      "  0.34853991 0.67903677 0.35364013 0.79487555 0.56658888 0.76392838\n",
      "  0.18797925 0.13951398 0.20470429 0.45450204 0.36012513 0.32528505\n",
      "  0.82367923 0.95868053 0.80659126 0.5290441  0.62573331 0.38357303\n",
      "  0.43852916 0.40165664 0.82582199 0.66582417 0.05302605 0.45605897\n",
      "  0.51098913 0.26951686 0.78077964 0.         0.14454941 0.29317227\n",
      "  0.90560071 0.1648833  0.43316451 0.51311579 0.31212826 0.577908\n",
      "  0.7285634  0.80792437 0.71804026 0.44367886 0.23109197 0.69621852\n",
      "  0.65402433 0.26507803 0.24841301 0.8945869  0.31080943 0.23608524\n",
      "  0.83977623 0.30075048 0.66452793 0.71109107 0.24792252 0.5317549\n",
      "  0.11524297 0.46512067 0.33578457 0.32294405 0.4220898  0.85785106\n",
      "  0.25821393 0.33869872 0.69080998 0.5307186 ]\n",
      " [0.28020762 0.53374437 0.50605376 0.69250071 0.59239033 0.26656035\n",
      "  0.41367479 0.37370877 0.68441246 0.54240462 0.44981798 0.47722285\n",
      "  0.58288503 0.39498852 0.53526662 0.20016658 0.51702162 0.79587751\n",
      "  0.33811658 0.49365344 0.24322757 0.3190774  0.27840863 0.2746916\n",
      "  0.41167015 0.30182084 0.75971158 0.68195344 0.65282666 0.33641893\n",
      "  0.51906035 0.25082772 0.44145252 0.57703882 0.20775391 0.3630836\n",
      "  0.35392796 0.58376178 0.45531997 0.65315293 0.45244449 0.66627923\n",
      "  0.30432765 0.0057555  0.09629855 0.32448906 0.33490688 0.18262102\n",
      "  0.68145057 0.82020602 0.66404152 0.45079142 0.51597306 0.23927689\n",
      "  0.40444683 0.33474281 0.70600363 0.53773534 0.18812329 0.33825794\n",
      "  0.50134477 0.12833052 0.69876686 0.14454941 0.         0.18644044\n",
      "  0.76111302 0.15470745 0.40217069 0.51562206 0.26002133 0.45541291\n",
      "  0.58404238 0.67147078 0.57504989 0.39367924 0.33828919 0.61053253\n",
      "  0.52650855 0.16724712 0.30954139 0.80239173 0.2147985  0.25634095\n",
      "  0.69613414 0.3066117  0.52244844 0.57177841 0.15333456 0.47581181\n",
      "  0.12748921 0.41940741 0.19331455 0.29140509 0.44939368 0.7653842\n",
      "  0.11638431 0.37349086 0.60115484 0.40175952]\n",
      " [0.37158236 0.40464602 0.46560733 0.58840147 0.46031314 0.30576922\n",
      "  0.59255656 0.54994186 0.79148598 0.39990455 0.33133598 0.33655528\n",
      "  0.44912131 0.20856613 0.34915337 0.0137911  0.47789143 0.65664773\n",
      "  0.17144281 0.55089277 0.30698147 0.33991242 0.31736982 0.25168816\n",
      "  0.57825925 0.48742119 0.82269033 0.64713603 0.61873439 0.51891581\n",
      "  0.38689927 0.31627992 0.61863369 0.45341731 0.28810101 0.34994488\n",
      "  0.53277339 0.67003248 0.6356829  0.53293323 0.27359027 0.74455813\n",
      "  0.47656166 0.19156901 0.2499132  0.17375145 0.21479953 0.13653042\n",
      "  0.63270816 0.68237719 0.54906389 0.56849183 0.58217413 0.19099107\n",
      "  0.56312504 0.47427332 0.73948118 0.37671708 0.31357557 0.16337698\n",
      "  0.37418614 0.19471126 0.79824172 0.29317227 0.18644044 0.\n",
      "  0.66868104 0.33960028 0.56284713 0.40075678 0.12759263 0.49930936\n",
      "  0.50742054 0.65524647 0.46639229 0.23495752 0.51533183 0.70906463\n",
      "  0.55052084 0.30572869 0.49573589 0.88381491 0.3430952  0.22578172\n",
      "  0.63320299 0.23581376 0.40885021 0.54745053 0.04750603 0.61418357\n",
      "  0.19584433 0.56934509 0.13916051 0.45894917 0.37279288 0.84766609\n",
      "  0.12102736 0.55833785 0.69470508 0.24488524]\n",
      " [1.02589332 0.28532095 0.29077042 0.08994637 0.25060899 0.54326246\n",
      "  1.12724783 1.09911278 0.77840355 0.31779202 0.91459304 0.87677995\n",
      "  0.26249559 0.62178283 0.64702842 0.6647269  0.28547627 0.23229105\n",
      "  0.52481373 0.53008144 0.9688412  1.00858487 0.5370795  0.91810168\n",
      "  0.89025181 0.94544982 0.63392681 0.23237981 0.23818391 1.04351635\n",
      "  0.3047132  0.58238533 0.97044818 0.23658343 0.61598409 0.4273007\n",
      "  0.92255352 0.64787633 1.1589576  0.17021781 0.51652792 0.65088237\n",
      "  1.04407418 0.76626437 0.7287251  0.50341605 0.83242776 0.58255174\n",
      "  0.18305215 0.2308276  0.14508304 0.71324348 0.56023786 0.52216014\n",
      "  0.84924109 0.7466675  0.49240557 0.39199933 0.94574482 0.54795181\n",
      "  0.93003622 0.64190435 0.75389373 0.90560071 0.76111302 0.66868104\n",
      "  0.         0.8384346  0.85687699 0.97158897 0.76644753 0.49365344\n",
      "  0.18069479 0.29921695 0.20565439 0.77789893 1.0648357  0.70576852\n",
      "  0.43314867 0.70846122 0.98813665 0.73573568 0.69208296 0.89227355\n",
      "  0.13013281 0.88752569 0.2634612  0.28961561 0.71144767 0.80082196\n",
      "  0.84642738 0.82002698 0.57256417 0.82845541 0.9979794  0.71784574\n",
      "  0.64928984 0.98771192 0.68226354 0.45576065]\n",
      " [0.31348487 0.64520919 0.55942771 0.78069916 0.70350682 0.29909058\n",
      "  0.29145882 0.2607547  0.59720908 0.6620522  0.58925639 0.62333615\n",
      "  0.69545182 0.54787101 0.68873821 0.35339011 0.56846713 0.90676578\n",
      "  0.47906929 0.46738635 0.31169252 0.40170015 0.30751686 0.38980539\n",
      "  0.27300529 0.14790298 0.71042078 0.71899953 0.69090759 0.20807055\n",
      "  0.63309505 0.26489194 0.29079356 0.68313361 0.22528758 0.41413472\n",
      "  0.20278192 0.52207606 0.32753245 0.75410224 0.59742022 0.60733483\n",
      "  0.20939434 0.1502367  0.11547295 0.45904706 0.47941689 0.30032967\n",
      "  0.72928253 0.92959672 0.7609576  0.36723101 0.47904135 0.3397147\n",
      "  0.27583284 0.23870025 0.68539676 0.66938695 0.21566096 0.48309849\n",
      "  0.64242183 0.20975102 0.61825574 0.1648833  0.15470745 0.33960028\n",
      "  0.8384346  0.         0.27118791 0.65166433 0.41075447 0.44578923\n",
      "  0.65774622 0.69436732 0.6712775  0.54569981 0.2264113  0.53519996\n",
      "  0.52672007 0.13527521 0.16463682 0.73475513 0.16985909 0.37798576\n",
      "  0.75401569 0.43751043 0.6245746  0.60758565 0.30803781 0.36687415\n",
      "  0.24027817 0.30066057 0.31070349 0.15927873 0.57183848 0.69830171\n",
      "  0.24611787 0.21891248 0.53125669 0.53521304]\n",
      " [0.57278087 0.74636633 0.56784317 0.82445085 0.79862827 0.35648459\n",
      "  0.38532988 0.38829542 0.35923365 0.77808511 0.85148193 0.87894888\n",
      "  0.79418162 0.75796959 0.89750573 0.57586645 0.57193964 0.98751959\n",
      "  0.65737618 0.35671227 0.58065766 0.67139383 0.35546445 0.65999984\n",
      "  0.03430154 0.20506394 0.52100661 0.67570832 0.65278993 0.32553536\n",
      "  0.74049429 0.31646463 0.11733664 0.77014109 0.3107251  0.4528536\n",
      "  0.11805822 0.33401086 0.3925288  0.82476851 0.77699128 0.41223112\n",
      "  0.38922366 0.39968585 0.31533838 0.62597562 0.73707143 0.46949117\n",
      "  0.70398055 1.00592415 0.82316576 0.17575463 0.34552043 0.47450203\n",
      "  0.00997746 0.11502304 0.54587773 0.81084183 0.48073829 0.6703301\n",
      "  0.90338728 0.37690075 0.38835139 0.43316451 0.40217069 0.56284713\n",
      "  0.85687699 0.27118791 0.         0.9162954  0.66012361 0.37181686\n",
      "  0.68722559 0.62911022 0.74056936 0.7906703  0.37084909 0.32146645\n",
      "  0.44916221 0.25813962 0.26060576 0.51587287 0.22925662 0.64685077\n",
      "  0.74413542 0.70392191 0.71004617 0.57722926 0.54492457 0.12028165\n",
      "  0.50883839 0.05175029 0.4766141  0.11271679 0.84150656 0.48247993\n",
      "  0.44524423 0.18636825 0.32732048 0.6917257 ]\n",
      " [0.4493984  0.68644251 0.837692   0.88223685 0.72466253 0.70642431\n",
      "  0.79437667 0.74769415 1.18578121 0.65580021 0.0694405  0.09662304\n",
      "  0.71233382 0.34990147 0.36435004 0.39322844 0.84993734 0.87205801\n",
      "  0.46282923 0.95162995 0.3921432  0.32152137 0.71808889 0.27260276\n",
      "  0.92289135 0.7795384  1.22325523 1.01218994 0.98574243 0.75038586\n",
      "  0.66715178 0.71465817 0.94010726 0.7350693  0.68247023 0.74256213\n",
      "  0.85267809 1.0690525  0.83863403 0.80723667 0.45719901 1.14486074\n",
      "  0.67584625 0.51755763 0.60881887 0.4959469  0.18783431 0.53690629\n",
      "  0.98736863 0.89791896 0.83024657 0.95671886 0.98284729 0.58618436\n",
      "  0.91912941 0.84839025 1.13579532 0.58984676 0.4860687  0.43660833\n",
      "  0.04369657 0.58534126 1.19497568 0.51311579 0.51562206 0.40075678\n",
      "  0.97158897 0.65166433 0.9162954  0.         0.27487577 0.89956889\n",
      "  0.84554899 1.03235823 0.76995562 0.19642147 0.72277752 1.10560429\n",
      "  0.94702755 0.67719125 0.76121498 1.28410822 0.72178123 0.27732802\n",
      "  0.97455357 0.2145036  0.71511255 0.9244296  0.39348912 0.99012931\n",
      "  0.41204292 0.93502786 0.53855446 0.80414088 0.11398691 1.24780935\n",
      "  0.51336414 0.8510929  1.09241425 0.52075379]\n",
      " [0.33424981 0.48865885 0.58594013 0.68171814 0.53923217 0.43206535\n",
      "  0.62069366 0.57488488 0.91215948 0.47299059 0.20551374 0.21992919\n",
      "  0.52719774 0.20072359 0.31798552 0.12214381 0.59828843 0.72258622\n",
      "  0.24316657 0.677708   0.26264675 0.26125697 0.44385334 0.1630973\n",
      "  0.67117038 0.55295489 0.94975486 0.76612174 0.73821871 0.55733357\n",
      "  0.46958326 0.43980294 0.70063507 0.53900179 0.40823186 0.47634294\n",
      "  0.61278462 0.79419873 0.66558535 0.61779872 0.3035797  0.87009243\n",
      "  0.49900984 0.26338294 0.34564625 0.26338952 0.08752779 0.26404374\n",
      "  0.74819304 0.74894949 0.63690504 0.68505123 0.7083936  0.31762809\n",
      "  0.661733   0.58211486 0.86694087 0.4305341  0.31094693 0.22283188\n",
      "  0.25143303 0.31156744 0.92060022 0.31212826 0.26002133 0.12759263\n",
      "  0.76644753 0.41075447 0.66012361 0.27487577 0.         0.62666249\n",
      "  0.61592701 0.77800473 0.5609791  0.13533594 0.54306839 0.83124794\n",
      "  0.67795121 0.41043554 0.54886116 1.00932391 0.45273875 0.13990311\n",
      "  0.74414583 0.12107887 0.50303166 0.66980709 0.12001037 0.72375617\n",
      "  0.1969608  0.67311368 0.26672893 0.55072718 0.24740725 0.9729855\n",
      "  0.23885164 0.62578749 0.81777    0.31681692]\n",
      " [0.72874963 0.45431634 0.21803847 0.4752699  0.49343121 0.19752944\n",
      "  0.70028755 0.68426874 0.34320907 0.49796764 0.83025828 0.8288794\n",
      "  0.49315759 0.61822019 0.73328509 0.5063628  0.21798912 0.65519002\n",
      "  0.48717533 0.05881664 0.69847554 0.77276665 0.18524346 0.71410463\n",
      "  0.40603034 0.50390419 0.32392011 0.30423629 0.28097435 0.62113566\n",
      "  0.45626513 0.20466484 0.48863316 0.46028663 0.24776463 0.17719939\n",
      "  0.45661652 0.20128208 0.7224417  0.49485036 0.58213915 0.2569732\n",
      "  0.64951109 0.45787297 0.37357705 0.44751605 0.71406768 0.36281509\n",
      "  0.33259166 0.66944833 0.48674254 0.21963367 0.09696476 0.31613844\n",
      "  0.36325803 0.2717363  0.25065098 0.55671629 0.62981634 0.51084528\n",
      "  0.87087765 0.33625706 0.33514793 0.577908   0.45541291 0.49930936\n",
      "  0.49365344 0.44578923 0.37181686 0.89956889 0.62666249 0.\n",
      "  0.33850718 0.26201331 0.41766551 0.72078564 0.65474676 0.25639937\n",
      "  0.08298859 0.31588877 0.55648501 0.39334013 0.27596509 0.69120822\n",
      "  0.37476157 0.72342639 0.40694116 0.20701455 0.51443887 0.30719393\n",
      "  0.58033171 0.33021213 0.36102936 0.37133603 0.86694312 0.35908999\n",
      "  0.39692448 0.52778983 0.23489096 0.48017942]\n",
      " [0.85365015 0.18768154 0.12143422 0.13795147 0.19390787 0.36312253\n",
      "  0.9466691  0.91841807 0.65720232 0.23550912 0.78341946 0.75469191\n",
      "  0.19993683 0.50023174 0.55964852 0.50539822 0.12051812 0.31827358\n",
      "  0.38396596 0.38462593 0.79954162 0.8455782  0.35734016 0.75908299\n",
      "  0.71988073 0.76603804 0.55115209 0.18556074 0.16756821 0.86292062\n",
      "  0.20222014 0.40274259 0.79840115 0.1614505  0.43551625 0.2475011\n",
      "  0.74644606 0.51777596 0.97865993 0.16374848 0.41031499 0.54012135\n",
      "  0.86364867 0.58904974 0.54837464 0.35498571 0.68958132 0.40886875\n",
      "  0.14728181 0.3313337  0.15090565 0.55539555 0.41953654 0.34667017\n",
      "  0.68014452 0.5746668  0.41414815 0.31479241 0.77031496 0.40963536\n",
      "  0.80643614 0.46265636 0.63871413 0.7285634  0.58404238 0.50742054\n",
      "  0.18069479 0.65774622 0.68722559 0.84554899 0.61592701 0.33850718\n",
      "  0.         0.23380128 0.10831512 0.64913253 0.88415122 0.57657551\n",
      "  0.2958076  0.52797226 0.80795028 0.64847686 0.51275331 0.73316758\n",
      "  0.12927309 0.73587896 0.14153232 0.16159804 0.54714238 0.64212958\n",
      "  0.67548532 0.65373955 0.39936684 0.65163188 0.8570239  0.62366194\n",
      "  0.47466143 0.81015145 0.55315703 0.32641793]\n",
      " [0.951662   0.41880071 0.1947603  0.32629079 0.42736819 0.40722264\n",
      "  0.96017393 0.94198557 0.48466541 0.46745046 0.96610022 0.94759994\n",
      "  0.43370366 0.70205212 0.78068692 0.65751426 0.18259168 0.51534883\n",
      "  0.57380554 0.27358884 0.91025718 0.97294277 0.39620587 0.89888645\n",
      "  0.66339946 0.76475021 0.33597875 0.06684289 0.06870551 0.87978869\n",
      "  0.4313564  0.43310043 0.74644529 0.39523107 0.47631179 0.31273298\n",
      "  0.71843549 0.36322978 0.98360296 0.38485422 0.62663655 0.3544497\n",
      "  0.90232887 0.67521384 0.60572183 0.53787763 0.86036118 0.52910422\n",
      "  0.11709029 0.52044827 0.36519307 0.46324256 0.29306616 0.46701595\n",
      "  0.62005688 0.53342841 0.19425566 0.54534684 0.85703792 0.6004187\n",
      "  0.99662748 0.54338243 0.45783656 0.80792437 0.67147078 0.65524647\n",
      "  0.29921695 0.69436732 0.62911022 1.03235823 0.77800473 0.26201331\n",
      "  0.23380128 0.         0.34208911 0.83845624 0.91125367 0.41849187\n",
      "  0.18059748 0.55973935 0.81624657 0.43740197 0.52649166 0.87377505\n",
      "  0.17022294 0.89104612 0.36965591 0.10829227 0.68502578 0.54800988\n",
      "  0.78592812 0.58400596 0.5226634  0.63310397 1.02535933 0.41868374\n",
      "  0.58397669 0.7897772  0.39559617 0.53206105]\n",
      " [0.82982    0.08721387 0.20408425 0.12201236 0.08593744 0.39407071\n",
      "  0.96273516 0.93039408 0.74994575 0.13133694 0.71131141 0.67626191\n",
      "  0.09162212 0.42030764 0.46294194 0.46162261 0.20833891 0.24697554\n",
      "  0.31916671 0.4694924  0.77008663 0.80575038 0.39147546 0.71398797\n",
      "  0.77158785 0.7932355  0.65589721 0.29174624 0.27541402 0.87927822\n",
      "  0.10513013 0.43570311 0.84619155 0.05314197 0.46048484 0.28777956\n",
      "  0.78578152 0.60833222 0.99802698 0.08492154 0.32039104 0.63815493\n",
      "  0.86969994 0.58049511 0.55707541 0.29835549 0.62694678 0.39278902\n",
      "  0.2491497  0.26610811 0.08978737 0.62582961 0.50641826 0.33740599\n",
      "  0.73447864 0.62576846 0.52065636 0.2114406  0.75463365 0.34245694\n",
      "  0.72913069 0.46495974 0.73406559 0.71804026 0.57504989 0.46639229\n",
      "  0.20565439 0.6712775  0.74056936 0.76995562 0.5609791  0.41766551\n",
      "  0.10831512 0.34208911 0.         0.57491477 0.89522882 0.66665613\n",
      "  0.38862539 0.55035841 0.82964662 0.75170165 0.54435586 0.68824292\n",
      "  0.21802983 0.68205334 0.05802009 0.26497088 0.51049455 0.71020681\n",
      "  0.64986105 0.71260487 0.38225853 0.69021563 0.79284465 0.72552373\n",
      "  0.45982705 0.84446713 0.64362689 0.2509863 ]\n",
      " [0.44244042 0.49259296 0.64370008 0.68905042 0.53359843 0.53432813\n",
      "  0.7505251  0.70419788 1.0250429  0.46460196 0.13674756 0.10977597\n",
      "  0.52121916 0.15724483 0.21821144 0.22399505 0.65586814 0.6932802\n",
      "  0.26672533 0.77534181 0.37168549 0.34231438 0.54524509 0.25061295\n",
      "  0.80316749 0.68829055 1.04434577 0.81658715 0.79041061 0.68998556\n",
      "  0.47318704 0.54903488 0.83500542 0.54188185 0.52275397 0.55635248\n",
      "  0.74729089 0.90050788 0.7955941  0.61592995 0.2689267  0.97224023\n",
      "  0.6284018  0.39732876 0.47533622 0.30080664 0.09907944 0.36348931\n",
      "  0.79111712 0.71957239 0.63823224 0.80342237 0.80867506 0.40465542\n",
      "  0.79177976 0.70742549 0.94967036 0.40372338 0.43663019 0.2403811\n",
      "  0.15838077 0.42954054 1.0305421  0.44367886 0.39367924 0.23495752\n",
      "  0.77789893 0.54569981 0.7906703  0.19642147 0.13533594 0.72078564\n",
      "  0.64913253 0.83845624 0.57491477 0.         0.67342227 0.94166986\n",
      "  0.76199539 0.53691272 0.68363905 1.11115753 0.5765875  0.23630454\n",
      "  0.77816138 0.1821996  0.51949113 0.73093255 0.24578506 0.84814079\n",
      "  0.32868582 0.80087787 0.362938   0.68274205 0.22981406 1.07554902\n",
      "  0.35571489 0.76112096 0.92649714 0.32481321]\n",
      " [0.28349118 0.86424645 0.78488343 1.00630244 0.92290748 0.52458275\n",
      "  0.07791817 0.03559067 0.73007922 0.87713203 0.67335458 0.72394453\n",
      "  0.91420295 0.71828478 0.85321222 0.52827641 0.79363741 1.12678649\n",
      "  0.67590987 0.66629661 0.3309865  0.41163185 0.53247686 0.45228878\n",
      "  0.35079011 0.16739202 0.88095564 0.940181   0.91259528 0.04710016\n",
      "  0.85094765 0.48875933 0.3090499  0.90436607 0.45081303 0.64013311\n",
      "  0.25380939 0.6898243  0.12254839 0.97714253 0.78775425 0.77292439\n",
      "  0.04693149 0.33255326 0.3383193  0.66267052 0.58622402 0.51319343\n",
      "  0.95297531 1.15026658 0.9850128  0.52582669 0.67026653 0.55996091\n",
      "  0.37985727 0.40484673 0.87987451 0.87588409 0.2401543  0.67450826\n",
      "  0.72707579 0.43056465 0.75872466 0.23109197 0.33828919 0.51533183\n",
      "  1.0648357  0.2264113  0.37084909 0.72277752 0.54306839 0.65474676\n",
      "  0.88415122 0.91125367 0.89522882 0.67342227 0.         0.68741175\n",
      "  0.73749162 0.35910955 0.1105013  0.88514654 0.38570429 0.45357274\n",
      "  0.97929734 0.51902626 0.84683412 0.82945286 0.47295307 0.49044533\n",
      "  0.3461095  0.4191966  0.52395102 0.29788584 0.62022246 0.85088066\n",
      "  0.4511195  0.19837934 0.68987268 0.73994721]\n",
      " [0.84803559 0.70945979 0.46274531 0.70688312 0.74588568 0.40907785\n",
      "  0.70668328 0.70759484 0.08743872 0.75386057 1.03649369 1.04559297\n",
      "  0.74647372 0.85732512 0.98022115 0.71876744 0.45955817 0.89424712\n",
      "  0.73023744 0.19939844 0.83738671 0.92285917 0.39904966 0.88504462\n",
      "  0.34901631 0.52002674 0.20212688 0.48164668 0.46931187 0.64371075\n",
      "  0.71212251 0.39287192 0.4216504  0.71220943 0.42313443 0.42938456\n",
      "  0.4387934  0.05882456 0.71344847 0.73886919 0.8325643  0.0957876\n",
      "  0.69977951 0.61082604 0.51488763 0.6912395  0.91778837 0.57854212\n",
      "  0.52561875 0.90562333 0.72747463 0.16810832 0.16125271 0.54627317\n",
      "  0.31171811 0.29701728 0.26568894 0.81305586 0.74872226 0.75199466\n",
      "  1.08221534 0.52035226 0.08937228 0.69621852 0.61053253 0.70906463\n",
      "  0.70576852 0.53519996 0.32146645 1.10560429 0.83124794 0.25639937\n",
      "  0.57657551 0.41849187 0.66665613 0.94166986 0.68741175 0.\n",
      "  0.28079495 0.44409057 0.57709926 0.20024367 0.39608246 0.86573076\n",
      "  0.5767208  0.91011667 0.66114002 0.421785   0.71211668 0.20247028\n",
      "  0.73663604 0.27040771 0.57996447 0.39525975 1.05520732 0.16453015\n",
      "  0.59239966 0.50774233 0.02358606 0.73161384]\n",
      " [0.8032684  0.43948142 0.18493597 0.42695384 0.47040359 0.26162357\n",
      "  0.78327076 0.76715855 0.36195192 0.48631175 0.87824405 0.87137537\n",
      "  0.4721809  0.64697629 0.75175286 0.55604158 0.18032652 0.61351347\n",
      "  0.5142408  0.09818401 0.76959056 0.84065081 0.24938794 0.77691702\n",
      "  0.48346372 0.58682045 0.29114646 0.2278822  0.20731439 0.70409213\n",
      "  0.44492096 0.27687019 0.56644374 0.43636604 0.32085836 0.20569484\n",
      "  0.53806339 0.22198204 0.80526176 0.45849876 0.59719393 0.25149883\n",
      "  0.73164067 0.52940873 0.44932413 0.47479204 0.76452927 0.41498947\n",
      "  0.26176631 0.62521918 0.4467132  0.28735397 0.12720943 0.36105076\n",
      "  0.4402407  0.35303431 0.18900644 0.55290984 0.70528886 0.53948634\n",
      "  0.91591963 0.40288033 0.34545858 0.65402433 0.52650855 0.55052084\n",
      "  0.43314867 0.52672007 0.44916221 0.94702755 0.67795121 0.08298859\n",
      "  0.2958076  0.18059748 0.38862539 0.76199539 0.73749162 0.28079495\n",
      "  0.         0.3950184  0.63947339 0.37578958 0.35692132 0.75317811\n",
      "  0.30823542 0.78083639 0.38939532 0.14393546 0.5708684  0.37402747\n",
      "  0.64893214 0.40508747 0.41143864 0.45395137 0.92230345 0.34546723\n",
      "  0.45734433 0.60963573 0.25735577 0.495178  ]\n",
      " [0.41802571 0.53407031 0.42584481 0.65487859 0.59104286 0.16580602\n",
      "  0.41885319 0.39241223 0.51717949 0.55699191 0.60977925 0.63035724\n",
      "  0.5841578  0.50026824 0.64037522 0.31849974 0.4345321  0.79168534\n",
      "  0.40532928 0.34388963 0.39721432 0.48008601 0.17338864 0.44185497\n",
      "  0.27635525 0.24307688 0.60100961 0.58372433 0.55564308 0.33519083\n",
      "  0.52412357 0.12986786 0.32849773 0.56766406 0.0924792  0.28180062\n",
      "  0.25069828 0.41993695 0.45085074 0.63459601 0.52595722 0.50372578\n",
      "  0.34458381 0.16713113 0.07101038 0.37719085 0.49219107 0.21603441\n",
      "  0.59440685 0.81335086 0.63925664 0.28357921 0.36083914 0.23510933\n",
      "  0.25786837 0.17175631 0.56141422 0.57613514 0.31787095 0.4160004\n",
      "  0.65950832 0.12022526 0.53194077 0.26507803 0.16724712 0.30572869\n",
      "  0.70846122 0.13527521 0.25813962 0.67719125 0.41043554 0.31588877\n",
      "  0.52797226 0.55973935 0.55035841 0.53691272 0.35910955 0.44409057\n",
      "  0.3950184  0.         0.28056163 0.63802911 0.04808809 0.42354591\n",
      "  0.62019363 0.47212672 0.5077246  0.47232285 0.29188511 0.31354709\n",
      "  0.29255243 0.26403025 0.22436661 0.16209353 0.61593879 0.60103767\n",
      "  0.18712628 0.29890564 0.43555426 0.4482337 ]\n",
      " [0.34971413 0.80767632 0.70237392 0.93542563 0.865674   0.44488281\n",
      "  0.14392832 0.13206653 0.61976924 0.82586661 0.70519425 0.74856095\n",
      "  0.85795595 0.70404015 0.8435593  0.50939343 0.71023505 1.06824593\n",
      "  0.64242574 0.56366227 0.38034853 0.46886575 0.45120801 0.488975\n",
      "  0.24174007 0.05722774 0.77149486 0.84919622 0.82236258 0.06733566\n",
      "  0.79609925 0.40609044 0.20888384 0.84420723 0.37269204 0.56085928\n",
      "  0.14443795 0.58058966 0.17098083 0.9133781  0.75975881 0.66324179\n",
      "  0.1317334  0.30427865 0.27909033 0.62337435 0.60580385 0.46494541\n",
      "  0.86553905 1.09061943 0.918923   0.4165173  0.56527567 0.50260526\n",
      "  0.26951965 0.29822819 0.77461873 0.83401936 0.27855008 0.6452998\n",
      "  0.75935392 0.37323544 0.64825199 0.24841301 0.30954139 0.49573589\n",
      "  0.98813665 0.16463682 0.26060576 0.76121498 0.54886116 0.55648501\n",
      "  0.80795028 0.81624657 0.82964662 0.68363905 0.1105013  0.57709926\n",
      "  0.63947339 0.28056163 0.         0.77465599 0.29771216 0.48446239\n",
      "  0.89527946 0.54914675 0.78497403 0.73990052 0.45923174 0.37999682\n",
      "  0.35790843 0.30870351 0.47529267 0.19092085 0.6670977  0.74043338\n",
      "  0.40997474 0.09962907 0.57987603 0.69972161]\n",
      " [1.04697058 0.81147492 0.55447713 0.76081141 0.83658852 0.57817741\n",
      "  0.90046109 0.90399899 0.16422401 0.85928545 1.21467992 1.21801866\n",
      "  0.83992469 1.01147902 1.12382278 0.8922277  0.54732006 0.9511186\n",
      "  0.88005767 0.33658476 1.03402681 1.11809128 0.56679026 1.07547333\n",
      "  0.54062868 0.71786385 0.10194717 0.5038861  0.50305349 0.84070613\n",
      "  0.81837708 0.57029846 0.60673761 0.80255887 0.60577627 0.56855514\n",
      "  0.63392388 0.21866628 0.90409751 0.81064179 0.97055876 0.13925947\n",
      "  0.89899936 0.80314817 0.70803836 0.84035717 1.09671619 0.74896519\n",
      "  0.55449216 0.95731084 0.79402689 0.36816779 0.30248257 0.70757596\n",
      "  0.50644185 0.49706105 0.24335914 0.92803327 0.94730448 0.90400347\n",
      "  1.25786957 0.70293126 0.12947273 0.8945869  0.80239173 0.88381491\n",
      "  0.73573568 0.73475513 0.51587287 1.28410822 1.00932391 0.39334013\n",
      "  0.64847686 0.43740197 0.75170165 1.11115753 0.88514654 0.20024367\n",
      "  0.37578958 0.63802911 0.77465599 0.         0.58998101 1.05506399\n",
      "  0.60759082 1.0958833  0.7607261  0.48725255 0.89235986 0.39559154\n",
      "  0.92952672 0.46617008 0.74864282 0.59519297 1.24107445 0.0370104\n",
      "  0.77217734 0.70054443 0.20378052 0.86827941]\n",
      " [0.46408436 0.53573116 0.40480813 0.64355609 0.59127746 0.15100362\n",
      "  0.43990554 0.41751543 0.46972382 0.56234972 0.65393078 0.67237158\n",
      "  0.58525633 0.53072731 0.66932191 0.35532942 0.41255016 0.78886446\n",
      "  0.42814472 0.29997696 0.44488893 0.52811408 0.1555792  0.48948977\n",
      "  0.25181611 0.25336972 0.55388879 0.5545238  0.52705604 0.35726598\n",
      "  0.52733943 0.11017137 0.31305371 0.56591729 0.08670196 0.26528693\n",
      "  0.24312923 0.37198111 0.4685996  0.6291884  0.54792789 0.45592584\n",
      "  0.37592692 0.21487814 0.1188257  0.39716805 0.53583902 0.24043094\n",
      "  0.56861078 0.80958339 0.63194735 0.23659039 0.31509476 0.24769554\n",
      "  0.22743812 0.13120551 0.51803966 0.58787075 0.36377671 0.44116619\n",
      "  0.70298864 0.15043903 0.48405845 0.31080943 0.2147985  0.3430952\n",
      "  0.69208296 0.16985909 0.22925662 0.72178123 0.45273875 0.27596509\n",
      "  0.51275331 0.52649166 0.54435586 0.5765875  0.38570429 0.39608246\n",
      "  0.35692132 0.04808809 0.29771216 0.58998101 0.         0.47087978\n",
      "  0.59758402 0.51844508 0.50547535 0.44404193 0.33322981 0.27160491\n",
      "  0.34055765 0.22770063 0.24739173 0.1485422  0.66266211 0.55299379\n",
      "  0.22243578 0.3001725  0.38746671 0.46459585]\n",
      " [0.20613733 0.62057515 0.68791112 0.81002995 0.67325217 0.49397029\n",
      "  0.5283152  0.48142079 0.94060296 0.60843282 0.22127899 0.27055195\n",
      "  0.66143843 0.33930032 0.44616345 0.22810931 0.70007546 0.86052772\n",
      "  0.37606542 0.7360228  0.13571056 0.12167541 0.5063136  0.02592055\n",
      "  0.65082614 0.50228816 1.00668947 0.86982248 0.84111469 0.47730274\n",
      "  0.60189963 0.49018637 0.66391933 0.67053439 0.45101475 0.56274021\n",
      "  0.5769198  0.83653386 0.57329901 0.74993224 0.44347702 0.91752916\n",
      "  0.40701389 0.25678603 0.35263843 0.39040818 0.13922835 0.34479674\n",
      "  0.85737691 0.88681978 0.76782142 0.70711928 0.76210991 0.40689638\n",
      "  0.65050765 0.58981965 0.93973143 0.5694432  0.21354576 0.35823059\n",
      "  0.27541654 0.35603625 0.95433545 0.23608524 0.25634095 0.22578172\n",
      "  0.89227355 0.37798576 0.64685077 0.27732802 0.13990311 0.69120822\n",
      "  0.73316758 0.87377505 0.68824292 0.23630454 0.45357274 0.86573076\n",
      "  0.75317811 0.42354591 0.48446239 1.05506399 0.47087978 0.\n",
      "  0.85890174 0.0655389  0.63029033 0.7671108  0.18936912 0.72978063\n",
      "  0.13803659 0.67005433 0.35111669 0.53413867 0.19488107 1.01812063\n",
      "  0.29583402 0.57376572 0.85552205 0.45114626]\n",
      " [0.97087699 0.3047701  0.19461535 0.16295682 0.29410834 0.45493267\n",
      "  1.03719028 1.01252291 0.64847434 0.34913953 0.91263887 0.88329313\n",
      "  0.30331632 0.62825543 0.68062117 0.63186548 0.18566179 0.34764162\n",
      "  0.51323456 0.40619844 0.91959193 0.96937553 0.44682212 0.88477981\n",
      "  0.77803794 0.84908996 0.50605755 0.1038021  0.10810067 0.95407218\n",
      "  0.32170108 0.4907849  0.85965988 0.26726431 0.52874877 0.3405725\n",
      "  0.81796514 0.51916194 1.06607994 0.23346117 0.53495791 0.52074962\n",
      "  0.96278607 0.70082961 0.65026783 0.48406534 0.818603   0.52745171\n",
      "  0.05322435 0.35126959 0.21028363 0.59289891 0.43444128 0.46393681\n",
      "  0.73600335 0.6373934  0.36432338 0.4291633  0.88398797 0.53887162\n",
      "  0.93522963 0.57067875 0.62377516 0.83977623 0.69613414 0.63320299\n",
      "  0.13013281 0.75401569 0.74413542 0.97455357 0.74414583 0.37476157\n",
      "  0.12927309 0.17022294 0.21802983 0.77816138 0.97929734 0.5767208\n",
      "  0.30823542 0.62019363 0.89527946 0.60759082 0.59758402 0.85890174\n",
      "  0.         0.86365691 0.26446839 0.16775698 0.67140776 0.68031434\n",
      "  0.79469777 0.70449334 0.51857362 0.72590583 0.98606622 0.58874907\n",
      "  0.59143264 0.88571883 0.55327757 0.45468543]\n",
      " [0.26524651 0.6092255  0.70106356 0.80272251 0.6590319  0.52606152\n",
      "  0.5935651  0.54665953 0.98719418 0.5921598  0.15609449 0.20545093\n",
      "  0.64691502 0.30520775 0.39830954 0.23425933 0.71337323 0.83889528\n",
      "  0.36392408 0.77104163 0.19720886 0.16031266 0.53828201 0.0710428\n",
      "  0.70944147 0.56552434 1.04304499 0.88226274 0.85401978 0.54281053\n",
      "  0.59007044 0.52684474 0.72560368 0.6596094  0.49010884 0.58408025\n",
      "  0.63819163 0.878071   0.63850837 0.73818636 0.41491883 0.95740683\n",
      "  0.47242097 0.30789854 0.40202337 0.38438083 0.08318552 0.36665486\n",
      "  0.86615922 0.86532116 0.75757349 0.75498662 0.79908043 0.42551807\n",
      "  0.7071271  0.64132818 0.96903868 0.54585733 0.27906286 0.34286965\n",
      "  0.21026404 0.39312725 0.99920598 0.30075048 0.3066117  0.23581376\n",
      "  0.88752569 0.43751043 0.70392191 0.2145036  0.12107887 0.72342639\n",
      "  0.73587896 0.89104612 0.68205334 0.1821996  0.51902626 0.91011667\n",
      "  0.78083639 0.47212672 0.54914675 1.0958833  0.51844508 0.0655389\n",
      "  0.86365691 0.         0.62410968 0.7832626  0.20996842 0.78239095\n",
      "  0.19757439 0.72479376 0.37136865 0.59141576 0.14523653 1.05909121\n",
      "  0.32673402 0.63738473 0.89874924 0.43694185]\n",
      " [0.77365676 0.05093435 0.2062797  0.17978541 0.08923894 0.35738804\n",
      "  0.91571568 0.88217484 0.74633164 0.09962301 0.65557066 0.62213531\n",
      "  0.08688192 0.36619519 0.41823178 0.4038851  0.21356564 0.2839793\n",
      "  0.26155918 0.46195362 0.71325475 0.7479753  0.35627826 0.65602322\n",
      "  0.7400275  0.75074686 0.668041   0.3263414  0.30636681 0.83260197\n",
      "  0.06170177 0.399018   0.81228573 0.06051133 0.4199956  0.25925727\n",
      "  0.74830611 0.60375539 0.95200263 0.13082819 0.27050349 0.64088425\n",
      "  0.819903   0.52797137 0.50957751 0.2403355  0.56959203 0.33983475\n",
      "  0.28864248 0.30575432 0.14237931 0.60605235 0.49989962 0.28710667\n",
      "  0.70451122 0.59503133 0.53743315 0.17573452 0.69997108 0.2851886\n",
      "  0.67472471 0.41631379 0.73318408 0.66452793 0.52244844 0.40885021\n",
      "  0.2634612  0.6245746  0.71004617 0.71511255 0.50303166 0.40694116\n",
      "  0.14153232 0.36965591 0.05802009 0.51949113 0.84683412 0.66114002\n",
      "  0.38939532 0.5077246  0.78497403 0.7607261  0.50547535 0.63029033\n",
      "  0.26446839 0.62410968 0.         0.28060219 0.45327286 0.6882075\n",
      "  0.59373659 0.68522471 0.32916981 0.65301057 0.7358008  0.73260348\n",
      "  0.40656289 0.80456438 0.63865189 0.19480793]\n",
      " [0.85169757 0.33135501 0.08781517 0.28537938 0.35048183 0.31239476\n",
      "  0.88319219 0.86153763 0.49956378 0.38020319 0.85800428 0.84025298\n",
      "  0.35465715 0.5966539  0.68094449 0.54951102 0.07609122 0.47424429\n",
      "  0.46719696 0.24046744 0.80777525 0.86810866 0.30234632 0.79236322\n",
      "  0.61125587 0.69127586 0.3909265  0.11168652 0.08332305 0.80108108\n",
      "  0.34130855 0.34291501 0.69326362 0.31669096 0.38444318 0.20937462\n",
      "  0.65469149 0.36311154 0.90974703 0.32496574 0.52580064 0.37943473\n",
      "  0.81689137 0.57581236 0.51204572 0.4307054  0.75206932 0.42291647\n",
      "  0.1275619  0.48448112 0.31030664 0.42539154 0.27114029 0.36022088\n",
      "  0.56895637 0.47221782 0.25706925 0.45487466 0.75891035 0.49377906\n",
      "  0.88897089 0.44346187 0.47928828 0.71109107 0.57177841 0.54745053\n",
      "  0.28961561 0.60758565 0.57722926 0.9244296  0.66980709 0.20701455\n",
      "  0.16159804 0.10829227 0.26497088 0.73093255 0.82945286 0.421785\n",
      "  0.14393546 0.47232285 0.73990052 0.48725255 0.44404193 0.7671108\n",
      "  0.16775698 0.7832626  0.28060219 0.         0.57804081 0.51289047\n",
      "  0.68290087 0.53693752 0.41610738 0.56437735 0.91713329 0.46209102\n",
      "  0.47966428 0.72377777 0.39820535 0.42877   ]\n",
      " [0.32445674 0.45074868 0.49854354 0.63241029 0.50683524 0.31765047\n",
      "  0.55053868 0.5071909  0.79252705 0.44701643 0.32444174 0.3391605\n",
      "  0.49574932 0.24620405 0.38446712 0.05792918 0.51070635 0.70386707\n",
      "  0.21892562 0.56341892 0.2607169  0.29844379 0.32974121 0.21491057\n",
      "  0.55791652 0.45482118 0.83572109 0.68045629 0.65174573 0.47875213\n",
      "  0.43321882 0.32209121 0.59304929 0.49915863 0.28898493 0.3753525\n",
      "  0.50603667 0.67618281 0.59413926 0.57857145 0.31886138 0.75328204\n",
      "  0.43308441 0.15785171 0.22958882 0.22055043 0.20569508 0.15721977\n",
      "  0.66848079 0.72954802 0.59420448 0.56504115 0.59279691 0.21801755\n",
      "  0.54599565 0.4632076  0.75913373 0.42414325 0.26648625 0.21024014\n",
      "  0.37136972 0.19190929 0.80148849 0.24792252 0.15333456 0.04750603\n",
      "  0.71144767 0.30803781 0.54492457 0.39348912 0.12001037 0.51443887\n",
      "  0.54714238 0.68502578 0.51049455 0.24578506 0.47295307 0.71211668\n",
      "  0.5708684  0.29188511 0.45923174 0.89235986 0.33322981 0.18936912\n",
      "  0.67140776 0.20996842 0.45327286 0.57804081 0.         0.60460852\n",
      "  0.14835864 0.5555168  0.16268089 0.43762685 0.35252065 0.85583655\n",
      "  0.12022745 0.52673086 0.69904827 0.29234481]\n",
      " [0.67781449 0.72991449 0.52069542 0.77990564 0.77738128 0.35726837\n",
      "  0.50531834 0.50849945 0.24017839 0.76711211 0.92307301 0.94359851\n",
      "  0.77472269 0.79446    0.92960709 0.62615263 0.52236632 0.95430901\n",
      "  0.68122543 0.27621597 0.67829832 0.76769669 0.35220074 0.74558556\n",
      "  0.14656047 0.32372594 0.40366865 0.60124796 0.58134171 0.445493\n",
      "  0.72712026 0.32387846 0.22101638 0.74636579 0.33446515 0.42993009\n",
      "  0.2383338  0.2215184  0.51107015 0.79176824 0.79663542 0.29531624\n",
      "  0.50693859 0.47450447 0.38133899 0.64595273 0.80570328 0.50200766\n",
      "  0.63551189 0.97035556 0.78654961 0.08758238 0.25535184 0.49150562\n",
      "  0.11088026 0.14183247 0.44115007 0.81055713 0.58201253 0.69800644\n",
      "  0.97302957 0.41997548 0.26830569 0.5317549  0.47581181 0.61418357\n",
      "  0.80082196 0.36687415 0.12028165 0.99012931 0.72375617 0.30719393\n",
      "  0.64212958 0.54800988 0.71020681 0.84814079 0.49044533 0.20247028\n",
      "  0.37402747 0.31354709 0.37999682 0.39559154 0.27160491 0.72978063\n",
      "  0.68031434 0.78239095 0.6882075  0.51289047 0.60460852 0.\n",
      "  0.5934912  0.07165214 0.5070137  0.21146428 0.92426271 0.36227021\n",
      "  0.49320831 0.30576681 0.21030561 0.70340894]\n",
      " [0.17995896 0.59522057 0.61094439 0.77097058 0.65222255 0.38739224\n",
      "  0.42376595 0.37807809 0.80895314 0.59402937 0.35133071 0.39106964\n",
      "  0.64142964 0.38009351 0.51007026 0.20588715 0.62254898 0.85102985\n",
      "  0.36728269 0.62024534 0.1252707  0.19248099 0.3995782  0.152137\n",
      "  0.51290247 0.36963338 0.88712037 0.79083863 0.7616928  0.36129993\n",
      "  0.57826601 0.37579841 0.52812523 0.64259507 0.33360238 0.47372027\n",
      "  0.44063617 0.71096117 0.46863381 0.72151892 0.4640394  0.79368285\n",
      "  0.30224352 0.12642322 0.2218028  0.3673636  0.24791315 0.26728205\n",
      "  0.78545176 0.87654755 0.73582262 0.57487694 0.64320435 0.33078878\n",
      "  0.51255482 0.45463751 0.83093936 0.57247759 0.12014145 0.35805938\n",
      "  0.40511778 0.24615404 0.82443462 0.11524297 0.12748921 0.19584433\n",
      "  0.84642738 0.24027817 0.50883839 0.41204292 0.1969608  0.58033171\n",
      "  0.67548532 0.78592812 0.64986105 0.32868582 0.3461095  0.73663604\n",
      "  0.64893214 0.29255243 0.35790843 0.92952672 0.34055765 0.13803659\n",
      "  0.79469777 0.19757439 0.59373659 0.68290087 0.14835864 0.5934912\n",
      "  0.         0.53267315 0.27638041 0.39612264 0.33271135 0.89251635\n",
      "  0.20427176 0.44206333 0.72780336 0.44043325]\n",
      " [0.60912208 0.72376261 0.53317787 0.79152742 0.7743036  0.33825853\n",
      "  0.43629338 0.43790533 0.31182353 0.75775257 0.86895639 0.89290661\n",
      "  0.77053987 0.75805751 0.89590414 0.5819042  0.5364619  0.95904411\n",
      "  0.65138242 0.31062393 0.61230122 0.70234571 0.33554258 0.6847114\n",
      "  0.08328733 0.25224207 0.46940188 0.6326186  0.61054602 0.37454094\n",
      "  0.71908919 0.30042712 0.16487248 0.74476209 0.3018783  0.42623168\n",
      "  0.16839983 0.28228068 0.44416286 0.79604641 0.76952612 0.36060914\n",
      "  0.43529059 0.41755604 0.32771512 0.61813123 0.75281126 0.46646194\n",
      "  0.66277686 0.97660145 0.79310386 0.12552448 0.29709749 0.46447821\n",
      "  0.04179613 0.09875515 0.4951682  0.79495752 0.51450377 0.66610644\n",
      "  0.91992762 0.37811898 0.33958048 0.46512067 0.41940741 0.56934509\n",
      "  0.82002698 0.30066057 0.05175029 0.93502786 0.67311368 0.33021213\n",
      "  0.65373955 0.58400596 0.71260487 0.80087787 0.4191966  0.27040771\n",
      "  0.40508747 0.26403025 0.30870351 0.46617008 0.22770063 0.67005433\n",
      "  0.70449334 0.72479376 0.68522471 0.53693752 0.5555168  0.07165214\n",
      "  0.53267315 0.         0.47265399 0.14257936 0.86491744 0.43233243\n",
      "  0.44943717 0.2378718  0.27576443 0.68052293]\n",
      " [0.45432251 0.34136869 0.33859294 0.50087414 0.40009504 0.1714659\n",
      "  0.59618473 0.55953137 0.66445018 0.3533088  0.46927451 0.46938137\n",
      "  0.39095206 0.28750253 0.42345033 0.14544374 0.35057526 0.60393289\n",
      "  0.18127766 0.4138045  0.40104899 0.45381169 0.1823075  0.37628591\n",
      "  0.49812785 0.45131521 0.68483087 0.52024655 0.49132358 0.51491161\n",
      "  0.32737662 0.18980223 0.55285737 0.38387538 0.17257181 0.21281336\n",
      "  0.47366617 0.53767979 0.63522373 0.45984263 0.30173148 0.60956718\n",
      "  0.49388537 0.19886522 0.19711368 0.15318748 0.35373991 0.0108006\n",
      "  0.51124585 0.6279342  0.47095243 0.45044491 0.44626042 0.05606122\n",
      "  0.47480852 0.37409596 0.60036391 0.35910026 0.37353509 0.19380896\n",
      "  0.51012946 0.10613068 0.66845295 0.33578457 0.19331455 0.13916051\n",
      "  0.57256417 0.31070349 0.4766141  0.53855446 0.26672893 0.36102936\n",
      "  0.39936684 0.5226634  0.38225853 0.362938   0.52395102 0.57996447\n",
      "  0.41143864 0.22436661 0.47529267 0.74864282 0.24739173 0.35111669\n",
      "  0.51857362 0.37136865 0.32916981 0.41610738 0.16268089 0.5070137\n",
      "  0.27638041 0.47265399 0.         0.38643249 0.51117028 0.71286425\n",
      "  0.07757135 0.51529442 0.56417154 0.22657641]\n",
      " [0.46666679 0.68410549 0.53805438 0.78537243 0.73936404 0.29623597\n",
      "  0.3323427  0.32271607 0.44831255 0.71086584 0.73972708 0.76862721\n",
      "  0.73351465 0.65946699 0.80026679 0.47231006 0.54434814 0.93577914\n",
      "  0.56741558 0.37407222 0.47032993 0.56069083 0.29886569 0.54732866\n",
      "  0.12046476 0.13507373 0.58428278 0.67074945 0.64510246 0.25801078\n",
      "  0.67585684 0.25455436 0.16659418 0.71351013 0.23523255 0.40625069\n",
      "  0.09557632 0.39297711 0.35164626 0.77513674 0.68805033 0.47695966\n",
      "  0.30549404 0.28861941 0.20912147 0.539077   0.6260947  0.37812569\n",
      "  0.69167041 0.95604963 0.77679325 0.22967632 0.37446805 0.39385494\n",
      "  0.11675336 0.107322   0.5837164  0.73502236 0.37197718 0.57780355\n",
      "  0.79192015 0.28197121 0.47282532 0.32294405 0.29140509 0.45894917\n",
      "  0.82845541 0.15927873 0.11271679 0.80414088 0.55072718 0.37133603\n",
      "  0.65163188 0.63310397 0.69021563 0.68274205 0.29788584 0.39525975\n",
      "  0.45395137 0.16209353 0.19092085 0.59519297 0.1485422  0.53413867\n",
      "  0.72590583 0.59141576 0.65301057 0.56437735 0.43762685 0.21146428\n",
      "  0.39612264 0.14257936 0.38643249 0.         0.72879104 0.5597771\n",
      "  0.34507095 0.15982163 0.39539357 0.6092518 ]\n",
      " [0.34148238 0.71404179 0.8329026  0.91046115 0.7585915  0.66992015\n",
      "  0.68959444 0.64329747 1.13189714 0.68987056 0.10723617 0.17353059\n",
      "  0.74622947 0.38470137 0.43530193 0.36888541 0.84525463 0.92298038\n",
      "  0.47494481 0.91536162 0.28981322 0.21194478 0.6820735  0.18221202\n",
      "  0.84484315 0.69041359 1.18753614 1.01242036 0.98474346 0.65067711\n",
      "  0.69457839 0.67174847 0.85474649 0.76412418 0.63529947 0.7227311\n",
      "  0.76857206 1.02330455 0.73326918 0.8402574  0.49754017 1.10253738\n",
      "  0.57342013 0.45025966 0.5454125  0.50203821 0.1674689  0.50732001\n",
      "  0.99284561 0.94929531 0.86161645 0.89925051 0.94383088 0.56378104\n",
      "  0.84526549 0.78386189 1.11098781 0.63242868 0.38883237 0.45065811\n",
      "  0.13979142 0.53822849 1.14424569 0.4220898  0.44939368 0.37279288\n",
      "  0.9979794  0.57183848 0.84150656 0.11398691 0.24740725 0.86694312\n",
      "  0.8570239  1.02535933 0.79284465 0.22981406 0.62022246 1.05520732\n",
      "  0.92230345 0.61593879 0.6670977  1.24107445 0.66266211 0.19488107\n",
      "  0.98606622 0.14523653 0.7358008  0.91713329 0.35252065 0.92426271\n",
      "  0.33271135 0.86491744 0.51117028 0.72879104 0.         1.20429432\n",
      "  0.47097404 0.76041032 1.04394538 0.54223028]\n",
      " [1.01032048 0.78319289 0.52636772 0.73923858 0.80991853 0.54215583\n",
      "  0.86754179 0.87023183 0.13751521 0.83068406 1.17838991 1.18219369\n",
      "  0.81288497 0.97729565 1.09089901 0.8561811  0.51967445 0.92977334\n",
      "  0.84618691 0.30178304 0.99710859 1.0811067  0.53084477 1.03850025\n",
      "  0.50799864 0.68351677 0.09104733 0.48548791 0.48279434 0.80671071\n",
      "  0.78955661 0.53374953 0.57577604 0.77582915 0.56899745 0.53507679\n",
      "  0.60044533 0.18167299 0.87207815 0.78658948 0.93811448 0.10330891\n",
      "  0.86406022 0.76613827 0.67103146 0.80650575 1.06034318 0.71305059\n",
      "  0.53552921 0.93679366 0.77068357 0.33206946 0.26702021 0.6723628\n",
      "  0.47294929 0.46089151 0.22658955 0.89834159 0.91059716 0.86993423\n",
      "  1.22178678 0.66620266 0.10059886 0.85785106 0.7653842  0.84766609\n",
      "  0.71784574 0.69830171 0.48247993 1.24780935 0.9729855  0.35908999\n",
      "  0.62366194 0.41868374 0.72552373 1.07554902 0.85088066 0.16453015\n",
      "  0.34546723 0.60103767 0.74043338 0.0370104  0.55299379 1.01812063\n",
      "  0.58874907 1.05909121 0.73260348 0.46209102 0.85583655 0.36227021\n",
      "  0.89251635 0.43233243 0.71286425 0.5597771  1.20429432 0.\n",
      "  0.73563325 0.66778978 0.16712014 0.83583354]\n",
      " [0.37955746 0.41737154 0.40667892 0.57834028 0.47602949 0.19942254\n",
      "  0.5248458  0.48669529 0.67349035 0.42678892 0.44415637 0.45522809\n",
      "  0.46657287 0.31439668 0.45529878 0.13296885 0.41830397 0.67958817\n",
      "  0.23304129 0.44440273 0.32954227 0.38899954 0.21168577 0.31968564\n",
      "  0.46255545 0.39164868 0.71656467 0.58684941 0.55772621 0.44498804\n",
      "  0.40277711 0.20188408 0.50859688 0.46073933 0.16942663 0.27124375\n",
      "  0.42516488 0.55597629 0.5650673  0.53713469 0.35213378 0.63313778\n",
      "  0.41925839 0.12202477 0.13997356 0.2137095  0.32553431 0.06711943\n",
      "  0.58123129 0.70386244 0.5484642  0.44823568 0.47308943 0.12803839\n",
      "  0.44497576 0.35363708 0.64419416 0.42594892 0.29646676 0.23833292\n",
      "  0.49002608 0.07385936 0.6817557  0.25821393 0.11638431 0.12102736\n",
      "  0.64928984 0.24611787 0.44524423 0.51336414 0.23885164 0.39692448\n",
      "  0.47466143 0.58397669 0.45982705 0.35571489 0.4511195  0.59239966\n",
      "  0.45734433 0.18712628 0.40997474 0.77217734 0.22243578 0.29583402\n",
      "  0.59143264 0.32673402 0.40656289 0.47966428 0.12022745 0.49320831\n",
      "  0.20427176 0.44943717 0.07757135 0.34507095 0.47097404 0.73563325\n",
      "  0.         0.45918695 0.5790502  0.29057188]\n",
      " [0.4487695  0.8325774  0.69757485 0.94280645 0.88914693 0.45100818\n",
      "  0.19998699 0.20871658 0.54106639 0.85587633 0.79277488 0.83266236\n",
      "  0.88254584 0.76631996 0.90737077 0.57212868 0.7040136  1.08837053\n",
      "  0.69127898 0.52482134 0.4764421  0.5659528  0.45485009 0.58028655\n",
      "  0.15992805 0.07287901 0.70726936 0.82935043 0.80405585 0.15127941\n",
      "  0.82292644 0.40973065 0.11100151 0.86484466 0.38460032 0.56365749\n",
      "  0.07279275 0.51927269 0.20643149 0.92925815 0.81114126 0.59847207\n",
      "  0.22838649 0.36888413 0.32013913 0.66773176 0.68885953 0.5056992\n",
      "  0.85118302 1.10939085 0.93211251 0.35764503 0.5200422  0.53317229\n",
      "  0.19620622 0.2568149  0.72594715 0.87276307 0.37373437 0.69751987\n",
      "  0.84676818 0.40941085 0.57201086 0.33869872 0.37349086 0.55833785\n",
      "  0.98771192 0.21891248 0.18636825 0.8510929  0.62578749 0.52778983\n",
      "  0.81015145 0.7897772  0.84446713 0.76112096 0.19837934 0.50774233\n",
      "  0.60963573 0.29890564 0.09962907 0.70054443 0.3001725  0.57376572\n",
      "  0.88571883 0.63738473 0.80456438 0.72377777 0.52673086 0.30576681\n",
      "  0.44206333 0.2378718  0.51529442 0.15982163 0.76041032 0.66778978\n",
      "  0.45918695 0.         0.51363213 0.74184738]\n",
      " [0.84321016 0.68714518 0.43964809 0.68332272 0.72312451 0.39288717\n",
      "  0.71164939 0.71102586 0.10832452 0.73177016 1.02319126 1.03106016\n",
      "  0.72381983 0.83965066 0.96138251 0.70414643 0.4363424  0.87075815\n",
      "  0.71184063 0.17733216 0.83063341 0.91527081 0.38255851 0.87525438\n",
      "  0.35617753 0.52267579 0.19371669 0.45849234 0.44593953 0.64681583\n",
      "  0.69002677 0.37844963 0.43098888 0.68940308 0.41021121 0.40907701\n",
      "  0.44363485 0.03539463 0.71984326 0.71555734 0.81298969 0.08505884\n",
      "  0.70069983 0.60165382 0.50602113 0.67269493 0.90458282 0.56308084\n",
      "  0.50225687 0.88208538 0.7040609  0.16608593 0.13899104 0.52913262\n",
      "  0.31744505 0.29440983 0.24654455 0.79159255 0.74352409 0.73390646\n",
      "  1.06837277 0.50763145 0.1044802  0.69080998 0.60115484 0.69470508\n",
      "  0.68226354 0.53125669 0.32732048 1.09241425 0.81777    0.23489096\n",
      "  0.55315703 0.39559617 0.64362689 0.92649714 0.68987268 0.02358606\n",
      "  0.25735577 0.43555426 0.57987603 0.20378052 0.38746671 0.85552205\n",
      "  0.55327757 0.89874924 0.63865189 0.39820535 0.69904827 0.21030561\n",
      "  0.72780336 0.27576443 0.56417154 0.39539357 1.04394538 0.16712014\n",
      "  0.5790502  0.51363213 0.         0.71177651]\n",
      " [0.61610644 0.17274589 0.3415641  0.36843307 0.22248333 0.34615884\n",
      "  0.81468204 0.77541508 0.81903656 0.15744471 0.46076732 0.42866855\n",
      "  0.21052068 0.17384871 0.25671117 0.23604017 0.35283194 0.41259868\n",
      "  0.07541564 0.53897986 0.55006932 0.57192783 0.35173999 0.47620071\n",
      "  0.71612842 0.67766246 0.78630819 0.50142265 0.47715565 0.73544444\n",
      "  0.15342163 0.380849   0.77578403 0.22314232 0.38100063 0.30320398\n",
      "  0.69877964 0.67979336 0.85538799 0.30128878 0.10228517 0.73570748\n",
      "  0.70568983 0.40750833 0.42322711 0.07727717 0.37721401 0.23632648\n",
      "  0.47130093 0.43855278 0.32113879 0.63367785 0.57681291 0.21725218\n",
      "  0.6886876  0.58237868 0.67130261 0.13598574 0.55646439 0.09407338\n",
      "  0.48083524 0.33248677 0.81434783 0.5307186  0.40175952 0.24488524\n",
      "  0.45576065 0.53521304 0.6917257  0.52075379 0.31681692 0.48017942\n",
      "  0.32641793 0.53206105 0.2509863  0.32481321 0.73994721 0.73161384\n",
      "  0.495178   0.4482337  0.69972161 0.86827941 0.46459585 0.45114626\n",
      "  0.45468543 0.43694185 0.19480793 0.42877    0.29234481 0.70340894\n",
      "  0.44043325 0.68052293 0.22657641 0.6092518  0.54223028 0.83583354\n",
      "  0.29057188 0.74184738 0.71177651 0.        ]]\n"
     ]
    }
   ],
   "source": [
    "a = np.random.random((100, 2))\n",
    "distances = np.linalg.norm(a[:, np.newaxis, :] - a[np.newaxis, :, :], axis=-1)\n",
    "print(distances)"
   ]
  },
  {
   "cell_type": "markdown",
   "id": "7d48b840",
   "metadata": {},
   "source": [
    "53. How to convert a float (32 bits) array into an integer (32 bits) in place? (★★☆)\n"
   ]
  },
  {
   "cell_type": "code",
   "execution_count": 144,
   "id": "936a51ab",
   "metadata": {},
   "outputs": [
    {
     "name": "stdout",
     "output_type": "stream",
     "text": [
      "[1075679155 1071657071 1065453460 1061993085 1077118585 1074710197\n",
      " 1082710284 1083296245 1082933272 1083865083]\n"
     ]
    }
   ],
   "source": [
    "a = (np.random.rand(10)*5).astype(np.float32)\n",
    "int_a = a.view(np.int32)\n",
    "print(int_a)"
   ]
  },
  {
   "cell_type": "markdown",
   "id": "745ca6b3",
   "metadata": {},
   "source": [
    "54. How to read the following file? (★★☆)\n",
    "1, 2, 3, 4, 5\n",
    "6,  ,  , 7, 8\n",
    " ,  , 9,10,11"
   ]
  },
  {
   "cell_type": "code",
   "execution_count": null,
   "id": "c82e4b18",
   "metadata": {},
   "outputs": [],
   "source": [
    "data = np.genfromtxt('file.csv', delimiter=',', filling_values=np.nan)\n",
    "\n",
    "print(data)"
   ]
  },
  {
   "cell_type": "markdown",
   "id": "bda7013d",
   "metadata": {},
   "source": [
    "55. What is the equivalent of enumerate for numpy arrays? (★★☆)"
   ]
  },
  {
   "cell_type": "code",
   "execution_count": 145,
   "id": "5087fa9e",
   "metadata": {},
   "outputs": [
    {
     "name": "stdout",
     "output_type": "stream",
     "text": [
      "(0, 0) 1\n",
      "(0, 1) 2\n",
      "(1, 0) 3\n",
      "(1, 1) 4\n"
     ]
    }
   ],
   "source": [
    "arr = np.array([[1, 2], [3, 4]])\n",
    "\n",
    "for index, value in np.ndenumerate(arr):\n",
    "    print(index, value)"
   ]
  },
  {
   "cell_type": "markdown",
   "id": "ad02bfc4",
   "metadata": {},
   "source": [
    "56. Generate a generic 2D Gaussian-like array (★★☆)\n"
   ]
  },
  {
   "cell_type": "code",
   "execution_count": 146,
   "id": "5c05b354",
   "metadata": {},
   "outputs": [
    {
     "name": "stdout",
     "output_type": "stream",
     "text": [
      "[[0.36787944 0.44822088 0.51979489 0.57375342 0.60279818 0.60279818\n",
      "  0.57375342 0.51979489 0.44822088 0.36787944]\n",
      " [0.44822088 0.54610814 0.63331324 0.69905581 0.73444367 0.73444367\n",
      "  0.69905581 0.63331324 0.54610814 0.44822088]\n",
      " [0.51979489 0.63331324 0.73444367 0.81068432 0.85172308 0.85172308\n",
      "  0.81068432 0.73444367 0.63331324 0.51979489]\n",
      " [0.57375342 0.69905581 0.81068432 0.89483932 0.9401382  0.9401382\n",
      "  0.89483932 0.81068432 0.69905581 0.57375342]\n",
      " [0.60279818 0.73444367 0.85172308 0.9401382  0.98773022 0.98773022\n",
      "  0.9401382  0.85172308 0.73444367 0.60279818]\n",
      " [0.60279818 0.73444367 0.85172308 0.9401382  0.98773022 0.98773022\n",
      "  0.9401382  0.85172308 0.73444367 0.60279818]\n",
      " [0.57375342 0.69905581 0.81068432 0.89483932 0.9401382  0.9401382\n",
      "  0.89483932 0.81068432 0.69905581 0.57375342]\n",
      " [0.51979489 0.63331324 0.73444367 0.81068432 0.85172308 0.85172308\n",
      "  0.81068432 0.73444367 0.63331324 0.51979489]\n",
      " [0.44822088 0.54610814 0.63331324 0.69905581 0.73444367 0.73444367\n",
      "  0.69905581 0.63331324 0.54610814 0.44822088]\n",
      " [0.36787944 0.44822088 0.51979489 0.57375342 0.60279818 0.60279818\n",
      "  0.57375342 0.51979489 0.44822088 0.36787944]]\n"
     ]
    }
   ],
   "source": [
    "X, Y = np.meshgrid(np.linspace(-1,1,10), np.linspace(-1,1,10))\n",
    "D = np.sqrt(X*X+Y*Y)\n",
    "sigma, mu = 1.0, 0.0\n",
    "G = np.exp(-( (D-mu)**2 / ( 2.0 * sigma**2 ) ) )\n",
    "print(G)"
   ]
  },
  {
   "cell_type": "markdown",
   "id": "31490a09",
   "metadata": {},
   "source": [
    "57. How to randomly place p elements in a 2D array? (★★☆)"
   ]
  },
  {
   "cell_type": "code",
   "execution_count": 147,
   "id": "3f430270",
   "metadata": {},
   "outputs": [
    {
     "name": "stdout",
     "output_type": "stream",
     "text": [
      "[[0. 0. 0. 1. 0.]\n",
      " [0. 1. 0. 0. 0.]\n",
      " [0. 1. 0. 0. 0.]\n",
      " [0. 0. 0. 0. 1.]\n",
      " [0. 0. 0. 0. 0.]]\n"
     ]
    }
   ],
   "source": [
    "arr = np.zeros((5, 5))\n",
    "p = 5\n",
    "indices = np.random.randint(0, arr.size, p)\n",
    "arr.flat[indices] = 1\n",
    "print(arr)"
   ]
  },
  {
   "cell_type": "markdown",
   "id": "b8d69822",
   "metadata": {},
   "source": [
    "58. Subtract the mean of each row of a matrix (★★☆)"
   ]
  },
  {
   "cell_type": "code",
   "execution_count": 150,
   "id": "f135f59c",
   "metadata": {},
   "outputs": [
    {
     "name": "stdout",
     "output_type": "stream",
     "text": [
      "[[-1.  0.  1.]\n",
      " [-1.  0.  1.]\n",
      " [-1.  0.  1.]]\n"
     ]
    }
   ],
   "source": [
    "A = np.array([[1, 2, 3],\n",
    "              [4, 5, 6],\n",
    "              [7, 8, 9]])\n",
    "a = A - A.mean(axis = 1).reshape(-1, 1)\n",
    "print(a)"
   ]
  },
  {
   "cell_type": "markdown",
   "id": "a985fc95",
   "metadata": {},
   "source": [
    "59. How to sort an array by the nth column? (★★☆)"
   ]
  },
  {
   "cell_type": "code",
   "execution_count": 151,
   "id": "012667c8",
   "metadata": {},
   "outputs": [
    {
     "name": "stdout",
     "output_type": "stream",
     "text": [
      "[[4 6 6]\n",
      " [1 9 8]\n",
      " [4 1 7]]\n",
      "[[4 1 7]\n",
      " [4 6 6]\n",
      " [1 9 8]]\n"
     ]
    }
   ],
   "source": [
    "A = np.random.randint(0,10,(3,3))\n",
    "print(A)\n",
    "print(A[A[:,1].argsort()]) "
   ]
  },
  {
   "cell_type": "markdown",
   "id": "7e807593",
   "metadata": {},
   "source": [
    "60. How to tell if a given 2D array has null columns? (★★☆)"
   ]
  },
  {
   "cell_type": "code",
   "execution_count": 152,
   "id": "72629f6c",
   "metadata": {},
   "outputs": [
    {
     "name": "stdout",
     "output_type": "stream",
     "text": [
      "[ True  True  True]\n"
     ]
    }
   ],
   "source": [
    "arr = np.array([[1, 2, 3], [0, 0, 0], [4, 5, 6]])\n",
    "# check for null columns\n",
    "null_cols = np.any(arr == 0, axis=0)\n",
    "print(null_cols)"
   ]
  },
  {
   "cell_type": "markdown",
   "id": "f2a59a6e",
   "metadata": {},
   "source": [
    "61. Find the nearest value from a given value in an array (★★☆)"
   ]
  },
  {
   "cell_type": "code",
   "execution_count": 154,
   "id": "cc22f5ae",
   "metadata": {},
   "outputs": [
    {
     "name": "stdout",
     "output_type": "stream",
     "text": [
      "2.928571428571429\n"
     ]
    }
   ],
   "source": [
    "def nearest_value(a, v):\n",
    "    i = (np.abs(a - v).argmin())\n",
    "    return a[i]\n",
    "a = np.linspace(1, 10, 15)\n",
    "v = 3\n",
    "print(nearest_value(a, v))"
   ]
  },
  {
   "cell_type": "markdown",
   "id": "8681a98f",
   "metadata": {},
   "source": [
    "62. Considering two arrays with shape (1,3) and (3,1), how to compute their sum using an iterator? (★★☆)"
   ]
  },
  {
   "cell_type": "code",
   "execution_count": 155,
   "id": "7f082bce",
   "metadata": {},
   "outputs": [
    {
     "name": "stdout",
     "output_type": "stream",
     "text": [
      "[3.94815092 2.16521981 3.94470411]\n"
     ]
    }
   ],
   "source": [
    "a = np.random.random((1, 3))\n",
    "b = np.random.random((3, 1))\n",
    "it = np.nditer([a, b], flags=['external_loop'], op_flags=[['readonly'], ['readonly']])\n",
    "sum = 0\n",
    "for a, b in it:\n",
    "    sum += a + b\n",
    "print(sum)"
   ]
  },
  {
   "cell_type": "markdown",
   "id": "205c30c8",
   "metadata": {},
   "source": [
    "63. Create an array class that has a name attribute (★★☆)"
   ]
  },
  {
   "cell_type": "code",
   "execution_count": 156,
   "id": "8a3dac6c",
   "metadata": {},
   "outputs": [
    {
     "name": "stdout",
     "output_type": "stream",
     "text": [
      "range_10\n"
     ]
    }
   ],
   "source": [
    "class NamedArray(np.ndarray):\n",
    "    def __new__(cls, input_array, name=\"unnamed\"):\n",
    "        obj = np.asarray(input_array).view(cls)\n",
    "        obj.name = name\n",
    "        return obj\n",
    "\n",
    "    def __array_finalize__(self, obj):\n",
    "        if obj is None: return\n",
    "        self.name = getattr(obj, 'name', 'unnamed')\n",
    "a = NamedArray(np.arange(10), \"range_10\")\n",
    "print (a.name)"
   ]
  },
  {
   "cell_type": "markdown",
   "id": "e29a1865",
   "metadata": {},
   "source": [
    "64. Consider a given vector, how to add 1 to each element indexed by a second vector (be careful with repeated indices)? (★★★)"
   ]
  },
  {
   "cell_type": "code",
   "execution_count": 160,
   "id": "194cdb26",
   "metadata": {},
   "outputs": [
    {
     "name": "stdout",
     "output_type": "stream",
     "text": [
      "[2 1 3 5 4 3 4 4 5 5]\n"
     ]
    }
   ],
   "source": [
    "a = np.array([1, 1, 2, 3, 3, 3, 4, 4, 5, 5])\n",
    "ind = np.array([0, 2, 3, 3, 4])\n",
    "np.add.at(a, ind, 1)\n",
    "\n",
    "print(a)"
   ]
  },
  {
   "cell_type": "markdown",
   "id": "4193ddd7",
   "metadata": {},
   "source": [
    "65. How to accumulate elements of a vector (X) to an array (F) based on an index list (I)? (★★★)"
   ]
  },
  {
   "cell_type": "code",
   "execution_count": 161,
   "id": "99b2a3d5",
   "metadata": {},
   "outputs": [
    {
     "name": "stdout",
     "output_type": "stream",
     "text": [
      "[5. 7. 3.]\n"
     ]
    }
   ],
   "source": [
    "X = np.array([1, 2, 3, 4, 5])\n",
    "I = np.array([0, 1, 2, 0, 1])\n",
    "F = np.zeros(3)\n",
    "\n",
    "np.add.at(F, I, X)\n",
    "\n",
    "print(F)"
   ]
  },
  {
   "cell_type": "markdown",
   "id": "6bffbf3c",
   "metadata": {},
   "source": [
    "66. Considering a (w,h,3) image of (dtype=ubyte), compute the number of unique colors (★★☆)"
   ]
  },
  {
   "cell_type": "code",
   "execution_count": 162,
   "id": "5e7080b1",
   "metadata": {},
   "outputs": [
    {
     "name": "stdout",
     "output_type": "stream",
     "text": [
      "Number of unique colors: 9998\n"
     ]
    }
   ],
   "source": [
    "img = np.random.randint(0, 256, size=(100, 100, 3), dtype=np.uint8)\n",
    "\n",
    "img_2d = img.reshape((img.shape[0] * img.shape[1], 3))\n",
    "\n",
    "unique_colors = np.unique(img_2d, axis=0)\n",
    "\n",
    "num_unique_colors = len(unique_colors)\n",
    "\n",
    "print(\"Number of unique colors:\", num_unique_colors)"
   ]
  },
  {
   "cell_type": "markdown",
   "id": "c9072219",
   "metadata": {},
   "source": [
    "67. Considering a four dimensions array, how to get sum over the last two axis at once? (★★★)"
   ]
  },
  {
   "cell_type": "code",
   "execution_count": 163,
   "id": "70c9aa3f",
   "metadata": {},
   "outputs": [
    {
     "name": "stdout",
     "output_type": "stream",
     "text": [
      "(2, 3)\n"
     ]
    }
   ],
   "source": [
    "arr = np.random.rand(2, 3, 4, 5)\n",
    "\n",
    "sum_last_two = np.sum(arr, axis=(-2, -1))\n",
    "\n",
    "print(sum_last_two.shape)"
   ]
  },
  {
   "cell_type": "markdown",
   "id": "d7644355",
   "metadata": {},
   "source": [
    "68. Considering a one-dimensional vector D, how to compute means of subsets of D using a vector S of same size describing subset indices? (★★★)"
   ]
  },
  {
   "cell_type": "code",
   "execution_count": 164,
   "id": "8725f4cb",
   "metadata": {},
   "outputs": [
    {
     "name": "stdout",
     "output_type": "stream",
     "text": [
      "[0.74612982 0.25794732 0.15725669]\n"
     ]
    }
   ],
   "source": [
    "D = np.random.rand(10)\n",
    "S = np.random.randint(0, 3, size=10)\n",
    "\n",
    "count = np.bincount(S, minlength=np.max(S)+1)\n",
    "sums = np.bincount(S, weights=D, minlength=np.max(S)+1)\n",
    "means = sums / count\n",
    "print(means)"
   ]
  },
  {
   "cell_type": "markdown",
   "id": "e0a1d836",
   "metadata": {},
   "source": [
    "69. How to get the diagonal of a dot product? (★★★)"
   ]
  },
  {
   "cell_type": "code",
   "execution_count": 165,
   "id": "644f869f",
   "metadata": {},
   "outputs": [
    {
     "name": "stdout",
     "output_type": "stream",
     "text": [
      "[19 50]\n"
     ]
    }
   ],
   "source": [
    "A = np.array([[1, 2], [3, 4]])\n",
    "B = np.array([[5, 6], [7, 8]])\n",
    "\n",
    "dot_product = np.dot(A, B)\n",
    "diagonal_elements = np.diagonal(dot_product)\n",
    "\n",
    "print(diagonal_elements)"
   ]
  },
  {
   "cell_type": "markdown",
   "id": "75333c74",
   "metadata": {},
   "source": [
    "70. Consider the vector [1, 2, 3, 4, 5], how to build a new vector with 3 consecutive zeros interleaved between each value? (★★★)"
   ]
  },
  {
   "cell_type": "code",
   "execution_count": 167,
   "id": "26f2cbef",
   "metadata": {},
   "outputs": [
    {
     "name": "stdout",
     "output_type": "stream",
     "text": [
      "[1. 0. 0. 0. 2. 0. 0. 0. 3. 0. 0. 0. 4. 0. 0. 0. 5.]\n"
     ]
    }
   ],
   "source": [
    "x = np.array([1, 2, 3, 4, 5])\n",
    "n_zeros = 3\n",
    "y = np.zeros(len(x) + (len(x) - 1) * n_zeros)\n",
    "y[::n_zeros + 1] = x\n",
    "\n",
    "print(y)"
   ]
  },
  {
   "cell_type": "markdown",
   "id": "cd63ff24",
   "metadata": {},
   "source": [
    "71. Consider an array of dimension (5,5,3), how to mulitply it by an array with dimensions (5,5)? (★★★)"
   ]
  },
  {
   "cell_type": "code",
   "execution_count": 168,
   "id": "48fc2a99",
   "metadata": {},
   "outputs": [
    {
     "name": "stdout",
     "output_type": "stream",
     "text": [
      "[[[2. 2. 2.]\n",
      "  [2. 2. 2.]\n",
      "  [2. 2. 2.]\n",
      "  [2. 2. 2.]\n",
      "  [2. 2. 2.]]\n",
      "\n",
      " [[2. 2. 2.]\n",
      "  [2. 2. 2.]\n",
      "  [2. 2. 2.]\n",
      "  [2. 2. 2.]\n",
      "  [2. 2. 2.]]\n",
      "\n",
      " [[2. 2. 2.]\n",
      "  [2. 2. 2.]\n",
      "  [2. 2. 2.]\n",
      "  [2. 2. 2.]\n",
      "  [2. 2. 2.]]\n",
      "\n",
      " [[2. 2. 2.]\n",
      "  [2. 2. 2.]\n",
      "  [2. 2. 2.]\n",
      "  [2. 2. 2.]\n",
      "  [2. 2. 2.]]\n",
      "\n",
      " [[2. 2. 2.]\n",
      "  [2. 2. 2.]\n",
      "  [2. 2. 2.]\n",
      "  [2. 2. 2.]\n",
      "  [2. 2. 2.]]]\n"
     ]
    }
   ],
   "source": [
    "A = np.ones((5,5,3))\n",
    "B = 2*np.ones((5,5))\n",
    "print(A * B[:,:,None])"
   ]
  },
  {
   "cell_type": "markdown",
   "id": "637c5b65",
   "metadata": {},
   "source": [
    "72. How to swap two rows of an array? (★★★)"
   ]
  },
  {
   "cell_type": "code",
   "execution_count": 3,
   "id": "74925510",
   "metadata": {},
   "outputs": [
    {
     "name": "stdout",
     "output_type": "stream",
     "text": [
      "[[1 2 3]\n",
      " [7 8 9]\n",
      " [4 5 6]]\n"
     ]
    }
   ],
   "source": [
    "arr = np.array([[1, 2, 3],\n",
    "                [4, 5, 6],\n",
    "                [7, 8, 9]])\n",
    "\n",
    "arr[[1, 2]] = arr[[2, 1]]\n",
    "print(arr)"
   ]
  },
  {
   "cell_type": "markdown",
   "id": "7a1d4183",
   "metadata": {},
   "source": [
    "73. Consider a set of 10 triplets describing 10 triangles (with shared vertices), find the set of unique line segments composing all the triangles (★★★)"
   ]
  },
  {
   "cell_type": "code",
   "execution_count": 5,
   "id": "b3ad358a",
   "metadata": {},
   "outputs": [
    {
     "name": "stdout",
     "output_type": "stream",
     "text": [
      "[(3, 4), (3, 7), (4, 6), (0, 2), (8, 9), (1, 6), (6, 8), (0, 1), (8, 8), (1, 2), (2, 7), (7, 9), (6, 7), (4, 7), (3, 8), (0, 0), (0, 3), (1, 4), (0, 6), (2, 6), (6, 6), (7, 8)]\n"
     ]
    }
   ],
   "source": [
    "triplets = np.random.randint(0, 10, size=(10, 3))\n",
    "segments = set()\n",
    "\n",
    "for triplet in triplets:\n",
    "    for i in range(3):\n",
    "        j = (i + 1) % 3\n",
    "        segment = tuple(sorted((triplet[i], triplet[j])))\n",
    "        segments.add(segment)\n",
    "\n",
    "print(list(segments))"
   ]
  },
  {
   "cell_type": "markdown",
   "id": "34807265",
   "metadata": {},
   "source": [
    "74. Given a sorted array C that corresponds to a bincount, how to produce an array A such that np.bincount(A) == C? (★★★)"
   ]
  },
  {
   "cell_type": "code",
   "execution_count": 6,
   "id": "d086ccb3",
   "metadata": {},
   "outputs": [
    {
     "name": "stdout",
     "output_type": "stream",
     "text": [
      "[0 0 0 0 1 1 1 2 2 2]\n"
     ]
    }
   ],
   "source": [
    "C = np.bincount([0, 1, 2, 0, 1, 2, 2, 1, 0, 0])\n",
    "A = np.repeat(np.arange(len(C)), C)\n",
    "print(A)"
   ]
  },
  {
   "cell_type": "markdown",
   "id": "fa9b0d39",
   "metadata": {},
   "source": [
    "75. How to compute averages using a sliding window over an array? (★★★)"
   ]
  },
  {
   "cell_type": "code",
   "execution_count": 9,
   "id": "d647faa1",
   "metadata": {},
   "outputs": [
    {
     "name": "stdout",
     "output_type": "stream",
     "text": [
      "[ 1.  2.  3.  4.  5.  6.  7.  8.  9. 10. 11. 12. 13. 14. 15. 16. 17. 18.]\n"
     ]
    }
   ],
   "source": [
    "def moving_average(a, n=3) :\n",
    "    ret = np.cumsum(a, dtype=float)\n",
    "    ret[n:] = ret[n:] - ret[:-n]\n",
    "    return ret[n - 1:] / n\n",
    "a = np.arange(20)\n",
    "print(moving_average(a, n=3))"
   ]
  },
  {
   "cell_type": "markdown",
   "id": "2beda490",
   "metadata": {},
   "source": [
    "76. Consider a one-dimensional array Z, build a two-dimensional array whose first row is (Z[0],Z[1],Z[2]) and each subsequent row is shifted by 1 (last row should be (Z[-3],Z[-2],Z[-1]) (★★★)"
   ]
  },
  {
   "cell_type": "code",
   "execution_count": 10,
   "id": "c3c6a6b4",
   "metadata": {},
   "outputs": [
    {
     "name": "stdout",
     "output_type": "stream",
     "text": [
      "[[1 2 3]\n",
      " [2 3 4]\n",
      " [3 4 5]\n",
      " [4 5 6]\n",
      " [5 6 7]]\n"
     ]
    }
   ],
   "source": [
    "def sliding_window_array(Z, window_size):\n",
    "    n_rows = len(Z) - window_size + 1\n",
    "    window_view = np.lib.stride_tricks.as_strided(Z, shape=(n_rows, window_size), strides=(Z.strides[0], Z.strides[0]))\n",
    "    return np.vstack(window_view)\n",
    "\n",
    "a = np.array([1, 2, 3, 4, 5, 6, 7])\n",
    "window_size = 3\n",
    "print(sliding_window_array(a, window_size))"
   ]
  },
  {
   "cell_type": "markdown",
   "id": "65a7cfa4",
   "metadata": {},
   "source": [
    "77. How to negate a boolean, or to change the sign of a float inplace? (★★★)"
   ]
  },
  {
   "cell_type": "code",
   "execution_count": 11,
   "id": "a272f5f8",
   "metadata": {},
   "outputs": [
    {
     "data": {
      "text/plain": [
       "array([-0.63987346,  0.32093042, -0.09677582, -0.61125782, -0.50865664,\n",
       "       -0.516251  , -0.57815511,  0.95068735,  0.74331067, -0.81054104,\n",
       "       -0.45353209,  0.93576535, -0.54322899,  0.74990735, -0.45534688])"
      ]
     },
     "execution_count": 11,
     "metadata": {},
     "output_type": "execute_result"
    }
   ],
   "source": [
    "a = np.random.randint(0, 2, 15)\n",
    "np.logical_not(a, out = a)\n",
    "a = np.random.uniform(-1.0, 1.0, 15)\n",
    "np.negative(a, out = a)"
   ]
  },
  {
   "cell_type": "markdown",
   "id": "67389d6a",
   "metadata": {},
   "source": [
    "78. Consider 2 sets of points P0,P1 describing lines (2d) and a point p, how to compute distance from p to each line i (P0[i],P1[i])? (★★★)"
   ]
  },
  {
   "cell_type": "code",
   "execution_count": 15,
   "id": "bdcd1187",
   "metadata": {},
   "outputs": [
    {
     "name": "stdout",
     "output_type": "stream",
     "text": [
      "[2.         0.         0.70710678]\n"
     ]
    }
   ],
   "source": [
    "P0 = np.array([[0, 0], [1, 1], [2, 2]])\n",
    "P1 = np.array([[1, 0], [1, 3], [3, 3]])\n",
    "\n",
    "p = np.array([1, 2])\n",
    "distances = []\n",
    "for i in range(len(P0)):\n",
    "    x1, y1 = P0[i]\n",
    "    x2, y2 = P1[i]\n",
    "    x0, y0 = p\n",
    "    dist = abs((y2 - y1) * x0 - (x2 - x1) * y0 + x2 * y1 - y2 * x1) / np.sqrt((y2 - y1) ** 2 + (x2 - x1) ** 2)\n",
    "    distances.append(dist)\n",
    "\n",
    "distances = np.array(distances)\n",
    "print(distances)"
   ]
  },
  {
   "cell_type": "markdown",
   "id": "507e7b22",
   "metadata": {},
   "source": [
    "79. Consider 2 sets of points P0,P1 describing lines (2d) and a set of points P, how to compute distance from each point j (P[j]) to each line i (P0[i],P1[i])? (★★★)"
   ]
  },
  {
   "cell_type": "code",
   "execution_count": 17,
   "id": "e72e0c5b",
   "metadata": {},
   "outputs": [
    {
     "name": "stdout",
     "output_type": "stream",
     "text": [
      "[[ 5.2663912   0.30936533  3.28002101  7.39607043 15.60040976  5.09293792\n",
      "  11.36018326  4.8175657  12.01785051  6.09339907]\n",
      " [ 1.7503836   8.24251298  5.52122638  1.15420365 12.21268466 15.71316443\n",
      "   0.36781838  0.98307717  3.44739044  4.10927238]\n",
      " [ 0.38684369 10.79873061  4.38669296  1.28581238 10.09283486 17.23907913\n",
      "   1.72668088  1.19619735  0.89106991  6.56638812]\n",
      " [ 7.9376274  12.8029292   6.26220822  6.30489109  2.44227526  9.51927896\n",
      "   3.07373843  8.49249093  1.08372579  5.28814737]\n",
      " [ 0.44044217  3.01791724  1.59218322  3.13941636 10.75762604  3.97704363\n",
      "  10.87538307  0.0368973   8.70069183  4.01009334]\n",
      " [ 9.73772244 18.38677713  3.97550968 10.1184138   0.73550759 17.20582713\n",
      "   4.64711419 10.5247851   6.68219378 12.22022257]\n",
      " [ 0.90616112  6.05561245  0.95836534  0.87061012  9.45470412  7.60117664\n",
      "   7.0779335   1.41805319  5.65688647  0.43931076]\n",
      " [ 7.78525558 16.22707892  2.77316631  7.97930155  2.6761254  16.13934654\n",
      "   3.03845521  8.54397431  4.52314516 10.224311  ]\n",
      " [ 6.56125329  9.84310433  6.77298256  4.06025646  3.77732869  6.0856184\n",
      "   6.70334079  7.01369269  1.88172996  1.84396978]\n",
      " [ 6.89175058 10.27236302  6.91632274  4.4549867   3.45029776  6.38496394\n",
      "   6.32047223  7.35264048  1.45231146  2.27207897]]\n"
     ]
    }
   ],
   "source": [
    "def distance(P0, P1, p):\n",
    "    T = P1 - P0\n",
    "    L = (T**2).sum(axis = 1)\n",
    "    U = -((P0[:,0]-p[...,0])*T[:,0] + (P0[:,1]-p[...,1])*T[:,1]) / L\n",
    "    U = U.reshape(len(U),1)\n",
    "    D = P0 + U*T - p\n",
    "    return np.sqrt((D**2).sum(axis=1))\n",
    "P0 = np.random.uniform(-10, 10, (10,2))\n",
    "P1 = np.random.uniform(-10,10,(10,2))\n",
    "p = np.random.uniform(-10, 10, (10,2))\n",
    "print(np.array([distance(P0,P1,p_i) for p_i in p]))"
   ]
  },
  {
   "cell_type": "markdown",
   "id": "12a7e375",
   "metadata": {},
   "source": [
    "80. Consider an arbitrary array, write a function that extract a subpart with a fixed shape and centered on a given element (pad with a fill value when necessary) (★★★)"
   ]
  },
  {
   "cell_type": "code",
   "execution_count": 19,
   "id": "72a10a12",
   "metadata": {},
   "outputs": [
    {
     "name": "stdout",
     "output_type": "stream",
     "text": [
      "[[0 0 0 0 0]\n",
      " [0 3 1 5 5]\n",
      " [0 8 6 5 9]\n",
      " [0 3 3 7 4]\n",
      " [0 5 4 1 3]]\n"
     ]
    }
   ],
   "source": [
    "def extract_subpart(arr, shape, center, fill_value=0):\n",
    "    \"\"\"\n",
    "    Extracts a subpart of an array with a fixed shape and centered on a given element.\n",
    "    If the subpart goes out of bounds, it is padded with the fill value.\n",
    "    \n",
    "    Parameters:\n",
    "    -----------\n",
    "    arr : numpy.ndarray\n",
    "        The input array.\n",
    "    shape : tuple of int\n",
    "        The shape of the subpart to extract.\n",
    "    center : tuple of int\n",
    "        The coordinates of the center of the subpart to extract.\n",
    "    fill_value : scalar, optional\n",
    "        The value to use for padding when the subpart goes out of bounds.\n",
    "        Default is 0.\n",
    "    \n",
    "    Returns:\n",
    "    --------\n",
    "    subpart : numpy.ndarray\n",
    "        The extracted subpart of the array.\n",
    "    \"\"\"\n",
    "    half_shape = np.array(shape) // 2\n",
    "    start = np.array(center) - half_shape\n",
    "    end = start + shape\n",
    "    \n",
    "    pad_start = np.maximum(0, -start)\n",
    "    pad_end = np.maximum(0, end - np.array(arr.shape))\n",
    "    \n",
    "    start = np.maximum(start, 0)\n",
    "    end = np.minimum(end, np.array(arr.shape))\n",
    "    \n",
    "    subpart = np.ones(shape, dtype=arr.dtype) * fill_value\n",
    "    subpart[pad_start[0]:shape[0]-pad_end[0], pad_start[1]:shape[1]-pad_end[1]] = arr[start[0]:end[0], start[1]:end[1]]\n",
    "    \n",
    "    return subpart\n",
    "a = np.random.randint(0,10,(10,10))\n",
    "shape = (5,5)\n",
    "fill  = 0\n",
    "position = (1,1)\n",
    "print(extract_subpart(a, shape, position, fill))"
   ]
  },
  {
   "cell_type": "markdown",
   "id": "6babaec8",
   "metadata": {},
   "source": [
    "81. Consider an array Z = [1,2,3,4,5,6,7,8,9,10,11,12,13,14], how to generate an array R = [[1,2,3,4], [2,3,4,5], [3,4,5,6], ..., [11,12,13,14]]? (★★★)"
   ]
  },
  {
   "cell_type": "code",
   "execution_count": 21,
   "id": "ee9febad",
   "metadata": {},
   "outputs": [
    {
     "name": "stdout",
     "output_type": "stream",
     "text": [
      "[[ 1  2  3  4]\n",
      " [ 2  3  4  5]\n",
      " [ 3  4  5  6]\n",
      " [ 4  5  6  7]\n",
      " [ 5  6  7  8]\n",
      " [ 6  7  8  9]\n",
      " [ 7  8  9 10]\n",
      " [ 8  9 10 11]\n",
      " [ 9 10 11 12]\n",
      " [10 11 12 13]\n",
      " [11 12 13 14]]\n"
     ]
    }
   ],
   "source": [
    "Z = [1,2,3,4,5,6,7,8,9,10,11,12,13,14]\n",
    "R = np.vstack([Z[i:i + 4] for i in range(len(Z) - 3)])\n",
    "print(R)"
   ]
  },
  {
   "cell_type": "markdown",
   "id": "36b1e7dd",
   "metadata": {},
   "source": [
    "82. Compute a matrix rank (★★★)"
   ]
  },
  {
   "cell_type": "code",
   "execution_count": 24,
   "id": "25c4033b",
   "metadata": {},
   "outputs": [
    {
     "name": "stdout",
     "output_type": "stream",
     "text": [
      "10\n"
     ]
    }
   ],
   "source": [
    "a = np.random.uniform(0,1,(10,10))\n",
    "rank = np.linalg.matrix_rank(a)\n",
    "print(rank)"
   ]
  },
  {
   "cell_type": "markdown",
   "id": "8e74dffa",
   "metadata": {},
   "source": [
    "83. How to find the most frequent value in an array?"
   ]
  },
  {
   "cell_type": "code",
   "execution_count": 38,
   "id": "0a1b7ffc",
   "metadata": {},
   "outputs": [
    {
     "name": "stdout",
     "output_type": "stream",
     "text": [
      "3\n"
     ]
    }
   ],
   "source": [
    "a = np.random.randint(0, 10, 20)\n",
    "a = np.bincount(a).argmax()\n",
    "print(a)"
   ]
  },
  {
   "cell_type": "markdown",
   "id": "7d9cc69a",
   "metadata": {},
   "source": [
    "84. Extract all the contiguous 3x3 blocks from a random 10x10 matrix (★★★)"
   ]
  },
  {
   "cell_type": "code",
   "execution_count": 39,
   "id": "12e61aec",
   "metadata": {},
   "outputs": [
    {
     "name": "stdout",
     "output_type": "stream",
     "text": [
      "[[[[0 5 9]\n",
      "   [2 0 1]\n",
      "   [9 5 4]]\n",
      "\n",
      "  [[5 9 0]\n",
      "   [0 1 1]\n",
      "   [5 4 6]]\n",
      "\n",
      "  [[9 0 6]\n",
      "   [1 1 3]\n",
      "   [4 6 9]]\n",
      "\n",
      "  [[0 6 7]\n",
      "   [1 3 8]\n",
      "   [6 9 5]]\n",
      "\n",
      "  [[6 7 2]\n",
      "   [3 8 3]\n",
      "   [9 5 9]]\n",
      "\n",
      "  [[7 2 6]\n",
      "   [8 3 3]\n",
      "   [5 9 2]]\n",
      "\n",
      "  [[2 6 6]\n",
      "   [3 3 2]\n",
      "   [9 2 5]]\n",
      "\n",
      "  [[6 6 2]\n",
      "   [3 2 5]\n",
      "   [2 5 5]]]\n",
      "\n",
      "\n",
      " [[[2 0 1]\n",
      "   [9 5 4]\n",
      "   [6 5 7]]\n",
      "\n",
      "  [[0 1 1]\n",
      "   [5 4 6]\n",
      "   [5 7 3]]\n",
      "\n",
      "  [[1 1 3]\n",
      "   [4 6 9]\n",
      "   [7 3 0]]\n",
      "\n",
      "  [[1 3 8]\n",
      "   [6 9 5]\n",
      "   [3 0 2]]\n",
      "\n",
      "  [[3 8 3]\n",
      "   [9 5 9]\n",
      "   [0 2 3]]\n",
      "\n",
      "  [[8 3 3]\n",
      "   [5 9 2]\n",
      "   [2 3 1]]\n",
      "\n",
      "  [[3 3 2]\n",
      "   [9 2 5]\n",
      "   [3 1 9]]\n",
      "\n",
      "  [[3 2 5]\n",
      "   [2 5 5]\n",
      "   [1 9 9]]]\n",
      "\n",
      "\n",
      " [[[9 5 4]\n",
      "   [6 5 7]\n",
      "   [8 8 0]]\n",
      "\n",
      "  [[5 4 6]\n",
      "   [5 7 3]\n",
      "   [8 0 8]]\n",
      "\n",
      "  [[4 6 9]\n",
      "   [7 3 0]\n",
      "   [0 8 6]]\n",
      "\n",
      "  [[6 9 5]\n",
      "   [3 0 2]\n",
      "   [8 6 6]]\n",
      "\n",
      "  [[9 5 9]\n",
      "   [0 2 3]\n",
      "   [6 6 1]]\n",
      "\n",
      "  [[5 9 2]\n",
      "   [2 3 1]\n",
      "   [6 1 4]]\n",
      "\n",
      "  [[9 2 5]\n",
      "   [3 1 9]\n",
      "   [1 4 3]]\n",
      "\n",
      "  [[2 5 5]\n",
      "   [1 9 9]\n",
      "   [4 3 5]]]\n",
      "\n",
      "\n",
      " [[[6 5 7]\n",
      "   [8 8 0]\n",
      "   [5 4 9]]\n",
      "\n",
      "  [[5 7 3]\n",
      "   [8 0 8]\n",
      "   [4 9 3]]\n",
      "\n",
      "  [[7 3 0]\n",
      "   [0 8 6]\n",
      "   [9 3 8]]\n",
      "\n",
      "  [[3 0 2]\n",
      "   [8 6 6]\n",
      "   [3 8 2]]\n",
      "\n",
      "  [[0 2 3]\n",
      "   [6 6 1]\n",
      "   [8 2 3]]\n",
      "\n",
      "  [[2 3 1]\n",
      "   [6 1 4]\n",
      "   [2 3 0]]\n",
      "\n",
      "  [[3 1 9]\n",
      "   [1 4 3]\n",
      "   [3 0 6]]\n",
      "\n",
      "  [[1 9 9]\n",
      "   [4 3 5]\n",
      "   [0 6 2]]]\n",
      "\n",
      "\n",
      " [[[8 8 0]\n",
      "   [5 4 9]\n",
      "   [8 3 3]]\n",
      "\n",
      "  [[8 0 8]\n",
      "   [4 9 3]\n",
      "   [3 3 8]]\n",
      "\n",
      "  [[0 8 6]\n",
      "   [9 3 8]\n",
      "   [3 8 2]]\n",
      "\n",
      "  [[8 6 6]\n",
      "   [3 8 2]\n",
      "   [8 2 6]]\n",
      "\n",
      "  [[6 6 1]\n",
      "   [8 2 3]\n",
      "   [2 6 2]]\n",
      "\n",
      "  [[6 1 4]\n",
      "   [2 3 0]\n",
      "   [6 2 0]]\n",
      "\n",
      "  [[1 4 3]\n",
      "   [3 0 6]\n",
      "   [2 0 3]]\n",
      "\n",
      "  [[4 3 5]\n",
      "   [0 6 2]\n",
      "   [0 3 0]]]\n",
      "\n",
      "\n",
      " [[[5 4 9]\n",
      "   [8 3 3]\n",
      "   [3 9 0]]\n",
      "\n",
      "  [[4 9 3]\n",
      "   [3 3 8]\n",
      "   [9 0 4]]\n",
      "\n",
      "  [[9 3 8]\n",
      "   [3 8 2]\n",
      "   [0 4 2]]\n",
      "\n",
      "  [[3 8 2]\n",
      "   [8 2 6]\n",
      "   [4 2 7]]\n",
      "\n",
      "  [[8 2 3]\n",
      "   [2 6 2]\n",
      "   [2 7 1]]\n",
      "\n",
      "  [[2 3 0]\n",
      "   [6 2 0]\n",
      "   [7 1 2]]\n",
      "\n",
      "  [[3 0 6]\n",
      "   [2 0 3]\n",
      "   [1 2 2]]\n",
      "\n",
      "  [[0 6 2]\n",
      "   [0 3 0]\n",
      "   [2 2 2]]]\n",
      "\n",
      "\n",
      " [[[8 3 3]\n",
      "   [3 9 0]\n",
      "   [1 5 9]]\n",
      "\n",
      "  [[3 3 8]\n",
      "   [9 0 4]\n",
      "   [5 9 5]]\n",
      "\n",
      "  [[3 8 2]\n",
      "   [0 4 2]\n",
      "   [9 5 3]]\n",
      "\n",
      "  [[8 2 6]\n",
      "   [4 2 7]\n",
      "   [5 3 7]]\n",
      "\n",
      "  [[2 6 2]\n",
      "   [2 7 1]\n",
      "   [3 7 1]]\n",
      "\n",
      "  [[6 2 0]\n",
      "   [7 1 2]\n",
      "   [7 1 0]]\n",
      "\n",
      "  [[2 0 3]\n",
      "   [1 2 2]\n",
      "   [1 0 1]]\n",
      "\n",
      "  [[0 3 0]\n",
      "   [2 2 2]\n",
      "   [0 1 1]]]\n",
      "\n",
      "\n",
      " [[[3 9 0]\n",
      "   [1 5 9]\n",
      "   [8 3 5]]\n",
      "\n",
      "  [[9 0 4]\n",
      "   [5 9 5]\n",
      "   [3 5 4]]\n",
      "\n",
      "  [[0 4 2]\n",
      "   [9 5 3]\n",
      "   [5 4 4]]\n",
      "\n",
      "  [[4 2 7]\n",
      "   [5 3 7]\n",
      "   [4 4 2]]\n",
      "\n",
      "  [[2 7 1]\n",
      "   [3 7 1]\n",
      "   [4 2 4]]\n",
      "\n",
      "  [[7 1 2]\n",
      "   [7 1 0]\n",
      "   [2 4 5]]\n",
      "\n",
      "  [[1 2 2]\n",
      "   [1 0 1]\n",
      "   [4 5 6]]\n",
      "\n",
      "  [[2 2 2]\n",
      "   [0 1 1]\n",
      "   [5 6 4]]]]\n"
     ]
    }
   ],
   "source": [
    "matrix = np.random.randint(0, 10, size=(10, 10))\n",
    "block_size = 3\n",
    "\n",
    "output_shape = (matrix.shape[0] - block_size + 1, matrix.shape[1] - block_size + 1, block_size, block_size)\n",
    "strides = matrix.strides + matrix.strides\n",
    "blocks = np.lib.stride_tricks.as_strided(matrix, shape=output_shape, strides=strides)\n",
    "\n",
    "print(blocks)"
   ]
  },
  {
   "cell_type": "markdown",
   "id": "d62fbf1b",
   "metadata": {},
   "source": [
    "85. Create a 2D array subclass such that Z[i,j] == Z[j,i] (★★★)\n"
   ]
  },
  {
   "cell_type": "code",
   "execution_count": 40,
   "id": "b9fa256f",
   "metadata": {},
   "outputs": [
    {
     "name": "stdout",
     "output_type": "stream",
     "text": [
      "[[0.97875473 0.73253394 0.05879978 0.5468892  0.00836904]\n",
      " [0.46797794 0.98032715 0.72703733 0.77191291 0.66468762]\n",
      " [0.7332074  0.86786182 0.40023533 0.09203108 0.50524642]\n",
      " [0.80551974 0.70981255 0.15002798 0.56567664 0.63637564]\n",
      " [0.7471163  0.11272931 0.26399302 0.01601995 0.64809716]]\n"
     ]
    }
   ],
   "source": [
    "class SymmetricArray(np.ndarray):\n",
    "    def __new__(cls, input_array):\n",
    "        obj = np.asarray(input_array).view(cls)\n",
    "        return obj\n",
    "\n",
    "    def __eq__(self, other):\n",
    "        return np.array_equal(self, other) or np.array_equal(self, other.T)\n",
    "\n",
    "    def __ne__(self, other):\n",
    "        return not self.__eq__(other)\n",
    "Z = SymmetricArray(np.random.rand(5,5))\n",
    "print(Z)"
   ]
  },
  {
   "cell_type": "markdown",
   "id": "327f9aa5",
   "metadata": {},
   "source": [
    "86. Consider a set of p matrices wich shape (n,n) and a set of p vectors with shape (n,1). How to compute the sum of of the p matrix products at once? (result has shape (n,1)) (★★★)"
   ]
  },
  {
   "cell_type": "code",
   "execution_count": 42,
   "id": "16f456d2",
   "metadata": {},
   "outputs": [
    {
     "name": "stdout",
     "output_type": "stream",
     "text": [
      "[[2.35340542]\n",
      " [1.69275111]\n",
      " [2.72834501]\n",
      " [2.70456643]]\n"
     ]
    }
   ],
   "source": [
    "p = 3\n",
    "n = 4\n",
    "matrices = np.random.rand(p, n, n)\n",
    "vectors = np.random.rand(p, n, 1)\n",
    "result = np.einsum('ijk,ikl->jl', matrices, vectors)\n",
    "print(result)"
   ]
  },
  {
   "cell_type": "markdown",
   "id": "d6005368",
   "metadata": {},
   "source": [
    "87. Consider a 16x16 array, how to get the block-sum (block size is 4x4)? (★★★)"
   ]
  },
  {
   "cell_type": "code",
   "execution_count": 46,
   "id": "3600433e",
   "metadata": {},
   "outputs": [
    {
     "name": "stdout",
     "output_type": "stream",
     "text": [
      "[[16. 16. 16. 16.]\n",
      " [16. 16. 16. 16.]\n",
      " [16. 16. 16. 16.]\n",
      " [16. 16. 16. 16.]]\n"
     ]
    }
   ],
   "source": [
    "a = np.ones((16,16))\n",
    "k = 4\n",
    "sum = np.add.reduceat(np.add.reduceat(a, np.arange(0, a.shape[0], k), axis=0),\n",
    "                                       np.arange(0, a.shape[1], k), axis=1)\n",
    "print(sum)"
   ]
  },
  {
   "cell_type": "markdown",
   "id": "b324c79c",
   "metadata": {},
   "source": [
    "88. How to implement the Game of Life using numpy arrays? (★★★)"
   ]
  },
  {
   "cell_type": "code",
   "execution_count": 47,
   "id": "ed397fd7",
   "metadata": {},
   "outputs": [],
   "source": [
    "board = np.zeros((16, 16), dtype = int)\n",
    "def next_generation(board):\n",
    "    # create a new board to store the next generation\n",
    "    new_board = np.zeros(board.shape, dtype=int)\n",
    "\n",
    "    # loop over every cell in the board\n",
    "    for i in range(board.shape[0]):\n",
    "        for j in range(board.shape[1]):\n",
    "            # count the number of live neighbors for this cell\n",
    "            num_neighbors = np.sum(board[max(0, i-1):min(i+2, board.shape[0]), max(0, j-1):min(j+2, board.shape[1])]) - board[i, j]\n",
    "\n",
    "            # apply the rules of the game to determine the state of the cell in the next generation\n",
    "            if board[i, j] == 1 and (num_neighbors == 2 or num_neighbors == 3):\n",
    "                new_board[i, j] = 1\n",
    "            elif board[i, j] == 0 and num_neighbors == 3:\n",
    "                new_board[i, j] = 1\n",
    "\n",
    "    return new_board\n",
    "for i in range(10):\n",
    "    board = next_generation(board)"
   ]
  },
  {
   "cell_type": "markdown",
   "id": "b1b6b503",
   "metadata": {},
   "source": [
    "89. How to get the n largest values of an array (★★★)"
   ]
  },
  {
   "cell_type": "code",
   "execution_count": 48,
   "id": "841e148a",
   "metadata": {},
   "outputs": [
    {
     "name": "stdout",
     "output_type": "stream",
     "text": [
      "[9995 9996 9997 9998 9999]\n"
     ]
    }
   ],
   "source": [
    "a = np.arange(10000)\n",
    "np.random.shuffle(a)\n",
    "n = 5\n",
    "\n",
    "print (a[np.argsort(a)[-n:]])"
   ]
  },
  {
   "cell_type": "markdown",
   "id": "aa49aed8",
   "metadata": {},
   "source": [
    "90. Given an arbitrary number of vectors, build the cartesian product (every combinations of every item) (★★★)"
   ]
  },
  {
   "cell_type": "code",
   "execution_count": 52,
   "id": "46a15303",
   "metadata": {},
   "outputs": [
    {
     "name": "stdout",
     "output_type": "stream",
     "text": [
      "[[1 4 6]\n",
      " [1 4 7]\n",
      " [1 4 8]\n",
      " [1 5 6]\n",
      " [1 5 7]\n",
      " [1 5 8]\n",
      " [2 4 6]\n",
      " [2 4 7]\n",
      " [2 4 8]\n",
      " [2 5 6]\n",
      " [2 5 7]\n",
      " [2 5 8]\n",
      " [3 4 6]\n",
      " [3 4 7]\n",
      " [3 4 8]\n",
      " [3 5 6]\n",
      " [3 5 7]\n",
      " [3 5 8]]\n"
     ]
    }
   ],
   "source": [
    "v1 = np.array([1, 2, 3])\n",
    "v2 = np.array([4, 5])\n",
    "v3 = np.array([6, 7, 8])\n",
    "grid = np.meshgrid(v1, v2, v3, indexing='ij')\n",
    "cartesian_product = np.stack(grid, axis=-1).reshape(-1, len(grid))\n",
    "\n",
    "print(cartesian_product)"
   ]
  },
  {
   "cell_type": "markdown",
   "id": "19abba97",
   "metadata": {},
   "source": [
    "91. How to create a record array from a regular array? (★★★)"
   ]
  },
  {
   "cell_type": "code",
   "execution_count": 53,
   "id": "e6479fc2",
   "metadata": {},
   "outputs": [
    {
     "name": "stdout",
     "output_type": "stream",
     "text": [
      "[(1, 'a', 0.1) (2, 'b', 0.2) (3, 'c', 0.3)]\n"
     ]
    }
   ],
   "source": [
    "a = np.array([1, 2, 3])\n",
    "b = np.array(['a', 'b', 'c'])\n",
    "c = np.array([0.1, 0.2, 0.3])\n",
    "\n",
    "rec = np.rec.fromarrays([a, b, c], names='field1,field2,field3')\n",
    "\n",
    "print(rec)"
   ]
  },
  {
   "cell_type": "markdown",
   "id": "f25ed61b",
   "metadata": {},
   "source": [
    "92. Consider a large vector Z, compute Z to the power of 3 using 3 different methods (★★★)"
   ]
  },
  {
   "cell_type": "code",
   "execution_count": 49,
   "id": "81f06f30",
   "metadata": {},
   "outputs": [
    {
     "name": "stdout",
     "output_type": "stream",
     "text": [
      "40.7 ms ± 998 µs per loop (mean ± std. dev. of 7 runs, 10 loops each)\n",
      "5.07 ms ± 204 µs per loop (mean ± std. dev. of 7 runs, 100 loops each)\n",
      "3.38 ms ± 54.5 µs per loop (mean ± std. dev. of 7 runs, 100 loops each)\n"
     ]
    }
   ],
   "source": [
    "Z = np.random.rand(int(5e5)) \n",
    "%timeit np.power(Z,3)\n",
    "%timeit Z*Z*Z\n",
    "%timeit np.einsum('i,i,i->i',Z, Z, Z)"
   ]
  },
  {
   "cell_type": "markdown",
   "id": "257797e1",
   "metadata": {},
   "source": [
    "93. Consider two arrays A and B of shape (8,3) and (2,2). How to find rows of A that contain elements of each row of B regardless of the order of the elements in B? (★★★)"
   ]
  },
  {
   "cell_type": "code",
   "execution_count": 56,
   "id": "c9532e2d",
   "metadata": {},
   "outputs": [
    {
     "name": "stdout",
     "output_type": "stream",
     "text": [
      "[2]\n"
     ]
    }
   ],
   "source": [
    "A = np.random.randint(0, 10, size=(8, 3))\n",
    "B = np.random.randint(0, 10, size=(2, 2))\n",
    "\n",
    "C = (A[..., np.newaxis, np.newaxis] == B)\n",
    "rows = np.where(C.any((3,1)).all(1))[0]\n",
    "print(rows)"
   ]
  },
  {
   "cell_type": "markdown",
   "id": "907580b6",
   "metadata": {},
   "source": [
    "94. Considering a 10x3 matrix, extract rows with unequal values (e.g. [2,2,3]) (★★★)"
   ]
  },
  {
   "cell_type": "code",
   "execution_count": 61,
   "id": "37332504",
   "metadata": {},
   "outputs": [
    {
     "name": "stdout",
     "output_type": "stream",
     "text": [
      "[[1 2 3]\n",
      " [2 2 3]\n",
      " [4 5 6]\n",
      " [7 7 7]\n",
      " [8 9 9]\n",
      " [8 8 8]\n",
      " [2 2 2]\n",
      " [3 3 3]\n",
      " [1 1 1]\n",
      " [4 4 4]]\n"
     ]
    }
   ],
   "source": [
    "A = np.array([[1, 2, 3],\n",
    "              [2, 2, 3],\n",
    "              [4, 5, 6],\n",
    "              [7, 7, 7],\n",
    "              [8, 9, 9],\n",
    "              [8, 8, 8],\n",
    "              [2, 2, 2],\n",
    "              [3, 3, 3],\n",
    "              [1, 1, 1],\n",
    "              [4, 4, 4]])\n",
    "\n",
    "unique_rows = np.unique(A, axis=1)\n",
    "unequal_rows = A[np.where(np.apply_along_axis(len, 1, unique_rows) != 1)]\n",
    "\n",
    "print(unique_rows)"
   ]
  },
  {
   "cell_type": "markdown",
   "id": "bb27c1c7",
   "metadata": {},
   "source": [
    "95. Convert a vector of ints into a matrix binary representation (★★★)"
   ]
  },
  {
   "cell_type": "code",
   "execution_count": 57,
   "id": "578a414c",
   "metadata": {},
   "outputs": [
    {
     "name": "stdout",
     "output_type": "stream",
     "text": [
      "[[0 0 0 0 0 0 0 0]\n",
      " [0 0 0 0 0 0 0 1]\n",
      " [0 0 0 0 0 0 1 0]\n",
      " [0 0 0 0 0 0 1 1]\n",
      " [0 0 0 0 1 1 1 1]\n",
      " [0 0 0 1 0 0 0 0]\n",
      " [0 0 1 0 0 0 0 0]\n",
      " [0 1 0 0 0 0 0 0]\n",
      " [1 0 0 0 0 0 0 0]]\n"
     ]
    }
   ],
   "source": [
    "I = np.array([0, 1, 2, 3, 15, 16, 32, 64, 128], dtype=np.uint8)\n",
    "print(np.unpackbits(I[:, np.newaxis], axis=1))"
   ]
  },
  {
   "cell_type": "markdown",
   "id": "c8d37172",
   "metadata": {},
   "source": [
    "96. Given a two dimensional array, how to extract unique rows? (★★★)"
   ]
  },
  {
   "cell_type": "code",
   "execution_count": 62,
   "id": "5e5efa51",
   "metadata": {},
   "outputs": [
    {
     "name": "stdout",
     "output_type": "stream",
     "text": [
      "[[0 0 1]\n",
      " [0 1 1]\n",
      " [1 0 0]\n",
      " [1 0 1]]\n"
     ]
    }
   ],
   "source": [
    "Z = np.random.randint(0,2,(6,3))\n",
    "uZ = np.unique(Z, axis=0)\n",
    "print(uZ)"
   ]
  },
  {
   "cell_type": "markdown",
   "id": "777249ac",
   "metadata": {},
   "source": [
    "97. Considering 2 vectors A & B, write the einsum equivalent of inner, outer, sum, and mul function (★★★)"
   ]
  },
  {
   "cell_type": "code",
   "execution_count": 51,
   "id": "d1a71860",
   "metadata": {},
   "outputs": [
    {
     "data": {
      "text/plain": [
       "array([[63.61936101, 59.81431098, 40.79874701, 49.20803571,  2.57843358,\n",
       "         9.76098789, 39.30246413, 10.10774324, 36.22352214, 62.00158004,\n",
       "        42.21678629, 32.60453863, 50.37778618, 51.74344463, 36.02107232,\n",
       "        49.87066671,  2.1245596 , 46.06363646, 10.32355682, 70.34595227],\n",
       "       [70.36687643, 66.15826005, 45.12589162, 54.42707555,  2.85190411,\n",
       "        10.79624532, 43.47091189, 11.17977779, 40.06541509, 68.57751245,\n",
       "        46.69432917, 36.06259957, 55.72089061, 57.23139178, 39.8414933 ,\n",
       "        55.15998568,  2.34989193, 50.94917904, 11.41848072, 77.80689482],\n",
       "       [68.60764919, 64.50425153, 43.99770884, 53.06635587,  2.78060426,\n",
       "        10.5263307 , 42.38410491, 10.90027456, 39.06374821, 66.86302071,\n",
       "        45.52693422, 35.16100622, 54.32782453, 55.80056198, 38.84542464,\n",
       "        53.78094267,  2.29114278, 49.67540951, 11.13300972, 75.86166127],\n",
       "       [41.71658763, 39.22153424, 26.75261867, 32.2667707 ,  1.69073453,\n",
       "         6.40049035, 25.7714737 ,  6.62786532, 23.75254501, 40.65577375,\n",
       "        27.68245762, 21.37949944, 33.03380133, 33.92929303, 23.6197943 ,\n",
       "        32.70127215,  1.39311957, 30.20492027,  6.76937894, 46.12735865],\n",
       "       [83.74785259, 78.73892507, 53.70703818, 64.7769367 ,  3.39422264,\n",
       "        12.84926101, 51.73734726, 13.30572607, 47.68426065, 81.61822287,\n",
       "        55.57373006, 42.92026911, 66.31678383, 68.11452213, 47.41775786,\n",
       "        65.64921714,  2.79674774, 60.63768285, 13.58982079, 92.60266604],\n",
       "       [11.28821769, 10.61307364,  7.23907204,  8.73116313,  0.45750097,\n",
       "         1.73192805,  6.97358106,  1.79345413,  6.42727303, 11.00116885,\n",
       "         7.49067998,  5.78514345,  8.93871627,  9.18103008,  6.39135162,\n",
       "         8.84873619,  0.37696844,  8.17324078,  1.83174673, 12.48174157],\n",
       "       [62.13522184, 58.41893762, 39.84697671, 48.06008999,  2.5182828 ,\n",
       "         9.53327946, 38.38559974,  9.87194556, 35.37848461, 60.55518115,\n",
       "        41.23193537, 31.84392626, 49.20255203, 50.53635182, 35.18075762,\n",
       "        48.70726286,  2.07499698, 44.9890446 , 10.08272455, 68.70489235],\n",
       "       [86.26418239, 81.10475412, 55.32074667, 66.72325688,  3.49620714,\n",
       "        13.23533632, 53.29187342, 13.70551656, 49.11700576, 84.07056475,\n",
       "        57.2435261 , 44.20987294, 68.30937103, 70.16112507, 48.84249548,\n",
       "        67.62174629,  2.88078022, 62.45963294, 13.99814733, 95.38505198],\n",
       "       [ 8.85343593,  8.32391526,  5.67765986,  6.84791838,  0.35882153,\n",
       "         1.35836449,  5.46943324,  1.40661987,  5.04095966,  8.62830132,\n",
       "         5.8749979 ,  4.53733249,  7.0107039 ,  7.20075248,  5.01278621,\n",
       "         6.94013183,  0.29565925,  6.41033559,  1.43665305,  9.78952588],\n",
       "       [49.48861401, 46.52871864, 31.73677652, 38.27824497,  2.00572753,\n",
       "         7.5929364 , 30.57283893,  7.86267255, 28.17777288, 48.23016475,\n",
       "        32.83984951, 25.36261606, 39.18817755, 40.25050422, 28.02028999,\n",
       "        38.79369639,  1.6526653 , 35.83226062,  8.03055093, 54.72113557],\n",
       "       [80.2468025 , 75.44727146, 51.46183397, 62.0689592 ,  3.25232833,\n",
       "        12.31210208, 49.5744853 , 12.74948478, 45.69083658, 78.20620121,\n",
       "        53.25048944, 41.12600206, 63.54443355, 65.26701802, 45.43547484,\n",
       "        62.90477425,  2.67983067, 58.10274543, 13.02170302, 88.73144352],\n",
       "       [83.56410022, 78.56616285, 53.58919879, 64.63480869,  3.38677532,\n",
       "        12.82106826, 51.62382959, 13.27653179, 47.57963593, 81.43914315,\n",
       "        55.45179493, 42.82609712, 66.17127721, 67.96507107, 47.31371787,\n",
       "        65.50517524,  2.79061136, 60.50463683, 13.56000317, 92.39948519],\n",
       "       [78.60515107, 73.90380659, 50.40905193, 60.79918157,  3.18579372,\n",
       "        12.06022687, 48.56031374, 12.48866181, 44.75611489, 76.60629545,\n",
       "        52.16111592, 40.28466561, 62.24447135, 63.931816  , 44.50597722,\n",
       "        61.6178979 ,  2.62500795, 56.91410673, 12.75531113, 86.91621729],\n",
       "       [18.9842039 , 17.84876582, 12.17446576, 14.68382217,  0.76941214,\n",
       "         2.91270741, 11.72797056,  3.01618022, 10.80920524, 18.50145332,\n",
       "        12.59761284,  9.72928995, 15.03287914, 15.44039563, 10.74879362,\n",
       "        14.88155321,  0.63397482, 13.74552421,  3.08057963, 20.99143846],\n",
       "       [69.51992836, 65.36196762, 44.58274847, 53.77198172,  2.81757809,\n",
       "        10.66629981, 42.94768837, 11.04521602, 39.58318073, 67.75210147,\n",
       "        46.13230803, 35.62854379, 55.05022419, 56.5425447 , 39.36195409,\n",
       "        54.49607042,  2.32160822, 50.33594578, 11.28104588, 76.87039739],\n",
       "       [56.86118134, 53.4603355 , 36.46476349, 43.98074733,  2.30453084,\n",
       "         8.72409426, 35.12742827,  9.03401436, 32.3755572 , 55.41525457,\n",
       "        37.7321668 , 29.14101233, 45.02623714, 46.24682395, 32.19461329,\n",
       "        44.57298814,  1.89887114, 41.17037242,  9.22690243, 62.87321792],\n",
       "       [13.09622238, 12.31294226,  8.39853553, 10.129611  ,  0.53077772,\n",
       "         2.0093265 ,  8.09052154,  2.08070705,  7.45671277, 12.76319767,\n",
       "         8.69044286,  6.71173495, 10.37040738, 10.65153197,  7.41503791,\n",
       "        10.26601543,  0.4373465 ,  9.48232766,  2.12513288, 14.4809099 ],\n",
       "       [31.36560512, 29.48964009, 20.1145904 , 24.2605363 ,  1.27121883,\n",
       "         4.81236037, 19.3768933 ,  4.98331762, 17.85891392, 30.56800706,\n",
       "        20.81371185, 16.07468336, 24.83724645, 25.51054311, 17.75910214,\n",
       "        24.58722651,  1.04744997, 22.71028518,  5.089718  , 34.68194785],\n",
       "       [85.58259011, 80.46392763, 54.88364528, 66.19606176,  3.46858284,\n",
       "        13.13076101, 52.87080262, 13.59722626, 48.7289215 , 83.40630473,\n",
       "        56.79123242, 43.86056101, 67.76964367, 69.6067666 , 48.45658019,\n",
       "        67.08745201,  2.85801854, 61.96612565, 13.88754489, 94.63139371],\n",
       "       [64.36860552, 60.51874346, 41.2792334 , 49.7875582 ,  2.60879976,\n",
       "         9.87594293, 39.76532882, 10.22678202, 36.65012616, 62.73177196,\n",
       "        42.71397292, 32.98852192, 50.97108481, 52.3528266 , 36.44529209,\n",
       "        50.457993  ,  2.14958052, 46.60612739, 10.44513723, 71.17441577]])"
      ]
     },
     "execution_count": 51,
     "metadata": {},
     "output_type": "execute_result"
    }
   ],
   "source": [
    "A = np.random.uniform(0, 10, 20)\n",
    "B = np.random.uniform(0, 10, 20)\n",
    "np.einsum('i->', A)       # np.sum(A)\n",
    "np.einsum('i,i->i', A, B) # A * B\n",
    "np.einsum('i,i', A, B)    # np.inner(A, B)\n",
    "np.einsum('i,j->ij', A, B)    # np.outer(A, B)"
   ]
  },
  {
   "cell_type": "markdown",
   "id": "239d18fe",
   "metadata": {},
   "source": [
    "98. Considering a path described by two vectors (X,Y), how to sample it using equidistant samples (★★★)?"
   ]
  },
  {
   "cell_type": "code",
   "execution_count": 63,
   "id": "4f951b56",
   "metadata": {},
   "outputs": [
    {
     "name": "stdout",
     "output_type": "stream",
     "text": [
      "[[0.96514835 0.74672418]\n",
      " [0.71367694 0.62745003]\n",
      " [0.92622792 0.18799193]\n",
      " [0.46344197 0.39879295]\n",
      " [0.0339927  0.55184983]\n",
      " [0.29484847 0.44961857]\n",
      " [0.31713345 0.29725877]\n",
      " [0.31861167 0.16462938]\n",
      " [0.87261452 0.78310931]\n",
      " [0.2582757  0.79809257]\n",
      " [0.33140478 0.15844896]\n",
      " [0.73997261 0.87395315]\n",
      " [0.4472727  0.38487111]\n",
      " [0.11420922 0.43271062]\n",
      " [0.76768588 0.97419035]\n",
      " [0.15563874 0.64625149]\n",
      " [0.30228984 0.48528196]\n",
      " [0.85844423 0.72141965]\n",
      " [0.50640047 0.35385061]\n",
      " [0.20439814 0.80100022]]\n"
     ]
    }
   ],
   "source": [
    "import numpy as np\n",
    "X = np.random.rand(100)\n",
    "Y = np.random.rand(100)\n",
    "\n",
    "path_length = np.cumsum(np.sqrt(np.diff(X)**2 + np.diff(Y)**2))\n",
    "path_length = np.insert(path_length, 0, 0)\n",
    "\n",
    "num_samples = 20\n",
    "\n",
    "samples = np.linspace(0, path_length[-1], num_samples)\n",
    "\n",
    "x_samples = np.interp(samples, path_length, X)\n",
    "y_samples = np.interp(samples, path_length, Y)\n",
    "\n",
    "print(np.column_stack((x_samples, y_samples)))"
   ]
  },
  {
   "cell_type": "markdown",
   "id": "d1daa2fe",
   "metadata": {},
   "source": [
    "99. Given an integer n and a 2D array X, select from X the rows which can be interpreted as draws from a multinomial distribution with n degrees, i.e., the rows which only contain integers and which sum to n. (★★★)"
   ]
  },
  {
   "cell_type": "code",
   "execution_count": 76,
   "id": "aa7df1f6",
   "metadata": {},
   "outputs": [
    {
     "name": "stdout",
     "output_type": "stream",
     "text": [
      "[[2. 0. 1. 1.]]\n"
     ]
    }
   ],
   "source": [
    "X = np.asarray([[1.0, 0.0, 3.0, 8.0],\n",
    "                [2.0, 0.0, 1.0, 1.0],\n",
    "                [1.5, 2.5, 1.0, 0.0]])\n",
    "n = 4\n",
    "M = np.logical_and.reduce(np.mod(X, 1) == 0, axis=-1)\n",
    "M &= (X.sum(axis=-1) == n)\n",
    "print(X[M])"
   ]
  },
  {
   "cell_type": "markdown",
   "id": "5ca6295d",
   "metadata": {},
   "source": [
    "100. Compute bootstrapped 95% confidence intervals for the mean of a 1D array X (i.e., resample the elements of an array with replacement N times, compute the mean of each sample, and then compute percentiles over the means). (★★★)"
   ]
  },
  {
   "cell_type": "code",
   "execution_count": 64,
   "id": "c58079ca",
   "metadata": {},
   "outputs": [
    {
     "name": "stdout",
     "output_type": "stream",
     "text": [
      "[-0.360318   -0.00259304]\n"
     ]
    }
   ],
   "source": [
    "X = np.random.randn(100) \n",
    "N = 1000 # number of bootstrap samples\n",
    "idx = np.random.randint(0, X.size, (N, X.size))\n",
    "means = X[idx].mean(axis=1)\n",
    "confint = np.percentile(means, [2.5, 97.5])\n",
    "print(confint)"
   ]
  },
  {
   "cell_type": "code",
   "execution_count": null,
   "id": "63844621",
   "metadata": {},
   "outputs": [],
   "source": []
  }
 ],
 "metadata": {
  "kernelspec": {
   "display_name": "Python 3 (ipykernel)",
   "language": "python",
   "name": "python3"
  },
  "language_info": {
   "codemirror_mode": {
    "name": "ipython",
    "version": 3
   },
   "file_extension": ".py",
   "mimetype": "text/x-python",
   "name": "python",
   "nbconvert_exporter": "python",
   "pygments_lexer": "ipython3",
   "version": "3.9.12"
  }
 },
 "nbformat": 4,
 "nbformat_minor": 5
}
